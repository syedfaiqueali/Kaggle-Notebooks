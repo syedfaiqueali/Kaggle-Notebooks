{
 "cells": [
  {
   "cell_type": "code",
   "execution_count": null,
   "id": "03d3dfcc",
   "metadata": {
    "_cell_guid": "b1076dfc-b9ad-4769-8c92-a6c4dae69d19",
    "_uuid": "8f2839f25d086af736a60e9eeb907d3b93b6e0e5",
    "papermill": {
     "duration": 0.005619,
     "end_time": "2024-03-18T05:21:06.964863",
     "exception": false,
     "start_time": "2024-03-18T05:21:06.959244",
     "status": "completed"
    },
    "tags": []
   },
   "outputs": [],
   "source": []
  },
  {
   "cell_type": "markdown",
   "id": "8485b83c",
   "metadata": {
    "papermill": {
     "duration": 0.004339,
     "end_time": "2024-03-18T05:21:06.974224",
     "exception": false,
     "start_time": "2024-03-18T05:21:06.969885",
     "status": "completed"
    },
    "tags": []
   },
   "source": [
    "# Import"
   ]
  },
  {
   "cell_type": "code",
   "execution_count": 1,
   "id": "84a44c0d",
   "metadata": {
    "execution": {
     "iopub.execute_input": "2024-03-18T05:21:06.985977Z",
     "iopub.status.busy": "2024-03-18T05:21:06.984901Z",
     "iopub.status.idle": "2024-03-18T05:21:08.061072Z",
     "shell.execute_reply": "2024-03-18T05:21:08.059743Z"
    },
    "papermill": {
     "duration": 1.085501,
     "end_time": "2024-03-18T05:21:08.064341",
     "exception": false,
     "start_time": "2024-03-18T05:21:06.978840",
     "status": "completed"
    },
    "tags": []
   },
   "outputs": [],
   "source": [
    "import json\n",
    "import pandas as pd"
   ]
  },
  {
   "cell_type": "markdown",
   "id": "b37e10af",
   "metadata": {
    "papermill": {
     "duration": 0.004671,
     "end_time": "2024-03-18T05:21:08.074216",
     "exception": false,
     "start_time": "2024-03-18T05:21:08.069545",
     "status": "completed"
    },
    "tags": []
   },
   "source": [
    "# Constant"
   ]
  },
  {
   "cell_type": "code",
   "execution_count": 2,
   "id": "4a3d12ec",
   "metadata": {
    "execution": {
     "iopub.execute_input": "2024-03-18T05:21:08.086245Z",
     "iopub.status.busy": "2024-03-18T05:21:08.085589Z",
     "iopub.status.idle": "2024-03-18T05:21:08.090377Z",
     "shell.execute_reply": "2024-03-18T05:21:08.089434Z"
    },
    "papermill": {
     "duration": 0.013634,
     "end_time": "2024-03-18T05:21:08.092669",
     "exception": false,
     "start_time": "2024-03-18T05:21:08.079035",
     "status": "completed"
    },
    "tags": []
   },
   "outputs": [],
   "source": [
    "CLEANED_DATA_PATH = '/kaggle/input/rta-dubai/sample_clean_application_data_2.xlsx'\n",
    "UNCLEANED_DATA_PATH = '/kaggle/input/rta-dubai/sample_unclean_application_data_v2.xlsx'\n",
    "METADATA_PATH = '/kaggle/input/rta-dubai/Application dataset.json'"
   ]
  },
  {
   "cell_type": "markdown",
   "id": "a7b34fd1",
   "metadata": {
    "papermill": {
     "duration": 0.004995,
     "end_time": "2024-03-18T05:21:08.102511",
     "exception": false,
     "start_time": "2024-03-18T05:21:08.097516",
     "status": "completed"
    },
    "tags": []
   },
   "source": [
    "# Models"
   ]
  },
  {
   "cell_type": "code",
   "execution_count": 3,
   "id": "16cebf31",
   "metadata": {
    "execution": {
     "iopub.execute_input": "2024-03-18T05:21:08.114042Z",
     "iopub.status.busy": "2024-03-18T05:21:08.113590Z",
     "iopub.status.idle": "2024-03-18T05:21:08.119135Z",
     "shell.execute_reply": "2024-03-18T05:21:08.117891Z"
    },
    "papermill": {
     "duration": 0.014203,
     "end_time": "2024-03-18T05:21:08.121638",
     "exception": false,
     "start_time": "2024-03-18T05:21:08.107435",
     "status": "completed"
    },
    "tags": []
   },
   "outputs": [],
   "source": [
    "class MetaData:\n",
    "    def __init__(self, data):\n",
    "        self.__dict__ = data"
   ]
  },
  {
   "cell_type": "markdown",
   "id": "10b94e22",
   "metadata": {
    "papermill": {
     "duration": 0.004512,
     "end_time": "2024-03-18T05:21:08.131014",
     "exception": false,
     "start_time": "2024-03-18T05:21:08.126502",
     "status": "completed"
    },
    "tags": []
   },
   "source": [
    "# Helper Function"
   ]
  },
  {
   "cell_type": "code",
   "execution_count": 4,
   "id": "c06af78f",
   "metadata": {
    "execution": {
     "iopub.execute_input": "2024-03-18T05:21:08.142040Z",
     "iopub.status.busy": "2024-03-18T05:21:08.141613Z",
     "iopub.status.idle": "2024-03-18T05:21:08.148839Z",
     "shell.execute_reply": "2024-03-18T05:21:08.147502Z"
    },
    "papermill": {
     "duration": 0.015513,
     "end_time": "2024-03-18T05:21:08.151201",
     "exception": false,
     "start_time": "2024-03-18T05:21:08.135688",
     "status": "completed"
    },
    "tags": []
   },
   "outputs": [],
   "source": [
    "def load_json_and_map_to_class(json_path):\n",
    "    try:\n",
    "        with open(json_path, 'r') as json_file:\n",
    "            data = json.load(json_file)\n",
    "            return MetaData(data)\n",
    "    except json.JSONDecodeError:\n",
    "        print(f\"Error: Unable to decode JSON from file '{file_path}'. File may be empty or not in valid JSON format.\")\n",
    "        return None"
   ]
  },
  {
   "cell_type": "markdown",
   "id": "0bac3823",
   "metadata": {
    "papermill": {
     "duration": 0.004515,
     "end_time": "2024-03-18T05:21:08.160494",
     "exception": false,
     "start_time": "2024-03-18T05:21:08.155979",
     "status": "completed"
    },
    "tags": []
   },
   "source": [
    "# Code"
   ]
  },
  {
   "cell_type": "code",
   "execution_count": 5,
   "id": "a3a1a161",
   "metadata": {
    "execution": {
     "iopub.execute_input": "2024-03-18T05:21:08.172201Z",
     "iopub.status.busy": "2024-03-18T05:21:08.171779Z",
     "iopub.status.idle": "2024-03-18T05:21:08.830713Z",
     "shell.execute_reply": "2024-03-18T05:21:08.828968Z"
    },
    "papermill": {
     "duration": 0.668247,
     "end_time": "2024-03-18T05:21:08.833446",
     "exception": false,
     "start_time": "2024-03-18T05:21:08.165199",
     "status": "completed"
    },
    "tags": []
   },
   "outputs": [
    {
     "name": "stdout",
     "output_type": "stream",
     "text": [
      "<class 'pandas.core.frame.DataFrame'>\n",
      "RangeIndex: 100 entries, 0 to 99\n",
      "Data columns (total 27 columns):\n",
      " #   Column                    Non-Null Count  Dtype         \n",
      "---  ------                    --------------  -----         \n",
      " 0   Name                      100 non-null    object        \n",
      " 1   Short Name                100 non-null    object        \n",
      " 2   Description               100 non-null    object        \n",
      " 3   Business Owner            100 non-null    object        \n",
      " 4   Technical Owner           100 non-null    object        \n",
      " 5   Number of Users           56 non-null     object        \n",
      " 6   Recovery Point Objective  26 non-null     object        \n",
      " 7   Recovery Time Objective   27 non-null     object        \n",
      " 8   Go Live Date              57 non-null     datetime64[ns]\n",
      " 9   End of Support Date       58 non-null     datetime64[ns]\n",
      " 10  SLA Type                  33 non-null     object        \n",
      " 11  Vendor                    100 non-null    object        \n",
      " 12  Status                    100 non-null    object        \n",
      " 13  AGF Classification        93 non-null     object        \n",
      " 14  DR TYpe                   20 non-null     object        \n",
      " 15  Required Availability     45 non-null     object        \n",
      " 16  System Hosting Place      62 non-null     object        \n",
      " 17  User Community            84 non-null     object        \n",
      " 18  Type of System            68 non-null     object        \n",
      " 19  Enterprise Level          84 non-null     object        \n",
      " 20  Development Type          100 non-null    object        \n",
      " 21  Recommendation            100 non-null    object        \n",
      " 22  Cloud Migration Strategy  100 non-null    object        \n",
      " 23  Architecture Type         100 non-null    object        \n",
      " 24  Mobile Compliance         76 non-null     object        \n",
      " 25  Multi Language Support    100 non-null    object        \n",
      " 26  Application Age           57 non-null     float64       \n",
      "dtypes: datetime64[ns](2), float64(1), object(24)\n",
      "memory usage: 21.2+ KB\n"
     ]
    }
   ],
   "source": [
    "df_cleaned = pd.read_excel(CLEANED_DATA_PATH)\n",
    "df_cleaned.info()"
   ]
  },
  {
   "cell_type": "code",
   "execution_count": 6,
   "id": "a01666ae",
   "metadata": {
    "execution": {
     "iopub.execute_input": "2024-03-18T05:21:08.845401Z",
     "iopub.status.busy": "2024-03-18T05:21:08.844885Z",
     "iopub.status.idle": "2024-03-18T05:21:09.009048Z",
     "shell.execute_reply": "2024-03-18T05:21:09.006995Z"
    },
    "papermill": {
     "duration": 0.173391,
     "end_time": "2024-03-18T05:21:09.011770",
     "exception": false,
     "start_time": "2024-03-18T05:21:08.838379",
     "status": "completed"
    },
    "tags": []
   },
   "outputs": [
    {
     "name": "stdout",
     "output_type": "stream",
     "text": [
      "<class 'pandas.core.frame.DataFrame'>\n",
      "RangeIndex: 100 entries, 0 to 99\n",
      "Data columns (total 26 columns):\n",
      " #   Column                    Non-Null Count  Dtype         \n",
      "---  ------                    --------------  -----         \n",
      " 0   Name                      100 non-null    object        \n",
      " 1   Short Name                100 non-null    object        \n",
      " 2   Description               100 non-null    object        \n",
      " 3   Business Owner            100 non-null    object        \n",
      " 4   Technical Owner           100 non-null    object        \n",
      " 5   # users                   56 non-null     object        \n",
      " 6   RPO                       26 non-null     object        \n",
      " 7   RTO                       27 non-null     object        \n",
      " 8   start date                57 non-null     datetime64[ns]\n",
      " 9   end date                  58 non-null     datetime64[ns]\n",
      " 10  SLA                       33 non-null     object        \n",
      " 11  Vendor                    100 non-null    object        \n",
      " 12  Status                    88 non-null     object        \n",
      " 13  AGF score                 93 non-null     object        \n",
      " 14  DR TYpe                   28 non-null     object        \n",
      " 15  Required Availability     45 non-null     object        \n",
      " 16  location                  62 non-null     object        \n",
      " 17  I/X                       84 non-null     object        \n",
      " 18  Type of System (Gartner)  68 non-null     object        \n",
      " 19  Across RTA?               84 non-null     object        \n",
      " 20  commercial or customized  100 non-null    object        \n",
      " 21  Recommendation            100 non-null    object        \n",
      " 22  Cloud Migration plan      100 non-null    object        \n",
      " 23  Type                      100 non-null    object        \n",
      " 24  Mobile compatible         78 non-null     object        \n",
      " 25  support many langs        100 non-null    object        \n",
      "dtypes: datetime64[ns](2), object(24)\n",
      "memory usage: 20.4+ KB\n"
     ]
    }
   ],
   "source": [
    "df_uncleaned = pd.read_excel(UNCLEANED_DATA_PATH)\n",
    "df_uncleaned.info()"
   ]
  },
  {
   "cell_type": "code",
   "execution_count": 7,
   "id": "2ae6167a",
   "metadata": {
    "execution": {
     "iopub.execute_input": "2024-03-18T05:21:09.024879Z",
     "iopub.status.busy": "2024-03-18T05:21:09.024451Z",
     "iopub.status.idle": "2024-03-18T05:21:09.036449Z",
     "shell.execute_reply": "2024-03-18T05:21:09.035601Z"
    },
    "papermill": {
     "duration": 0.02096,
     "end_time": "2024-03-18T05:21:09.038778",
     "exception": false,
     "start_time": "2024-03-18T05:21:09.017818",
     "status": "completed"
    },
    "tags": []
   },
   "outputs": [
    {
     "data": {
      "text/plain": [
       "'Applications'"
      ]
     },
     "execution_count": 7,
     "metadata": {},
     "output_type": "execute_result"
    }
   ],
   "source": [
    "meta_data = load_json_and_map_to_class(METADATA_PATH)\n",
    "meta_data.dataset_name"
   ]
  }
 ],
 "metadata": {
  "kaggle": {
   "accelerator": "none",
   "dataSources": [
    {
     "databundleVersionId": 7977798,
     "datasetId": 4619135,
     "sourceId": 7872211,
     "sourceType": "datasetVersion"
    }
   ],
   "dockerImageVersionId": 30664,
   "isGpuEnabled": false,
   "isInternetEnabled": true,
   "language": "python",
   "sourceType": "notebook"
  },
  "kernelspec": {
   "display_name": "Python 3",
   "language": "python",
   "name": "python3"
  },
  "language_info": {
   "codemirror_mode": {
    "name": "ipython",
    "version": 3
   },
   "file_extension": ".py",
   "mimetype": "text/x-python",
   "name": "python",
   "nbconvert_exporter": "python",
   "pygments_lexer": "ipython3",
   "version": "3.10.13"
  },
  "papermill": {
   "default_parameters": {},
   "duration": 5.85859,
   "end_time": "2024-03-18T05:21:09.564423",
   "environment_variables": {},
   "exception": null,
   "input_path": "__notebook__.ipynb",
   "output_path": "__notebook__.ipynb",
   "parameters": {},
   "start_time": "2024-03-18T05:21:03.705833",
   "version": "2.5.0"
  }
 },
 "nbformat": 4,
 "nbformat_minor": 5
}
