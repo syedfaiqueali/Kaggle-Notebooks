{
 "cells": [
  {
   "cell_type": "markdown",
   "id": "fc77a01b",
   "metadata": {
    "papermill": {
     "duration": 0.005204,
     "end_time": "2024-03-18T07:24:11.935504",
     "exception": false,
     "start_time": "2024-03-18T07:24:11.930300",
     "status": "completed"
    },
    "tags": []
   },
   "source": [
    "# Import"
   ]
  },
  {
   "cell_type": "code",
   "execution_count": 1,
   "id": "47767160",
   "metadata": {
    "execution": {
     "iopub.execute_input": "2024-03-18T07:24:11.946604Z",
     "iopub.status.busy": "2024-03-18T07:24:11.946243Z",
     "iopub.status.idle": "2024-03-18T07:24:12.876644Z",
     "shell.execute_reply": "2024-03-18T07:24:12.875611Z"
    },
    "papermill": {
     "duration": 0.938531,
     "end_time": "2024-03-18T07:24:12.879178",
     "exception": false,
     "start_time": "2024-03-18T07:24:11.940647",
     "status": "completed"
    },
    "tags": []
   },
   "outputs": [],
   "source": [
    "import json\n",
    "import pandas as pd"
   ]
  },
  {
   "cell_type": "markdown",
   "id": "4810f1ea",
   "metadata": {
    "papermill": {
     "duration": 0.004115,
     "end_time": "2024-03-18T07:24:12.887783",
     "exception": false,
     "start_time": "2024-03-18T07:24:12.883668",
     "status": "completed"
    },
    "tags": []
   },
   "source": [
    "# Constant"
   ]
  },
  {
   "cell_type": "code",
   "execution_count": 2,
   "id": "adb2f155",
   "metadata": {
    "execution": {
     "iopub.execute_input": "2024-03-18T07:24:12.898367Z",
     "iopub.status.busy": "2024-03-18T07:24:12.897887Z",
     "iopub.status.idle": "2024-03-18T07:24:12.903025Z",
     "shell.execute_reply": "2024-03-18T07:24:12.901823Z"
    },
    "papermill": {
     "duration": 0.01305,
     "end_time": "2024-03-18T07:24:12.905312",
     "exception": false,
     "start_time": "2024-03-18T07:24:12.892262",
     "status": "completed"
    },
    "tags": []
   },
   "outputs": [],
   "source": [
    "CLEANED_DATA_PATH = '/kaggle/input/rta-dubai/sample_clean_application_data_2.xlsx'\n",
    "UNCLEANED_DATA_PATH = '/kaggle/input/rta-dubai/sample_unclean_application_data_v2.xlsx'\n",
    "METADATA_PATH = '/kaggle/input/rta-dubai/Application dataset.json'"
   ]
  },
  {
   "cell_type": "markdown",
   "id": "9a237018",
   "metadata": {
    "papermill": {
     "duration": 0.004158,
     "end_time": "2024-03-18T07:24:12.914203",
     "exception": false,
     "start_time": "2024-03-18T07:24:12.910045",
     "status": "completed"
    },
    "tags": []
   },
   "source": [
    "# Models"
   ]
  },
  {
   "cell_type": "code",
   "execution_count": 3,
   "id": "fde66051",
   "metadata": {
    "execution": {
     "iopub.execute_input": "2024-03-18T07:24:12.925102Z",
     "iopub.status.busy": "2024-03-18T07:24:12.924668Z",
     "iopub.status.idle": "2024-03-18T07:24:12.929874Z",
     "shell.execute_reply": "2024-03-18T07:24:12.928760Z"
    },
    "papermill": {
     "duration": 0.013438,
     "end_time": "2024-03-18T07:24:12.932148",
     "exception": false,
     "start_time": "2024-03-18T07:24:12.918710",
     "status": "completed"
    },
    "tags": []
   },
   "outputs": [],
   "source": [
    "class MetaData:\n",
    "    def __init__(self, data):\n",
    "        self.__dict__ = data"
   ]
  },
  {
   "cell_type": "markdown",
   "id": "728690f5",
   "metadata": {
    "papermill": {
     "duration": 0.004198,
     "end_time": "2024-03-18T07:24:12.941062",
     "exception": false,
     "start_time": "2024-03-18T07:24:12.936864",
     "status": "completed"
    },
    "tags": []
   },
   "source": [
    "# Helper Function"
   ]
  },
  {
   "cell_type": "code",
   "execution_count": 4,
   "id": "60b009db",
   "metadata": {
    "execution": {
     "iopub.execute_input": "2024-03-18T07:24:12.951525Z",
     "iopub.status.busy": "2024-03-18T07:24:12.951173Z",
     "iopub.status.idle": "2024-03-18T07:24:12.956865Z",
     "shell.execute_reply": "2024-03-18T07:24:12.955849Z"
    },
    "papermill": {
     "duration": 0.013448,
     "end_time": "2024-03-18T07:24:12.959001",
     "exception": false,
     "start_time": "2024-03-18T07:24:12.945553",
     "status": "completed"
    },
    "tags": []
   },
   "outputs": [],
   "source": [
    "def load_json_and_map_to_class(json_path):\n",
    "    try:\n",
    "        with open(json_path, 'r') as json_file:\n",
    "            data = json.load(json_file)\n",
    "            return MetaData(data)\n",
    "    except json.JSONDecodeError:\n",
    "        print(f\"Error: Unable to decode JSON from file '{file_path}'. File may be empty or not in valid JSON format.\")\n",
    "        return None"
   ]
  },
  {
   "cell_type": "markdown",
   "id": "aa3cdd6b",
   "metadata": {
    "papermill": {
     "duration": 0.003993,
     "end_time": "2024-03-18T07:24:12.967382",
     "exception": false,
     "start_time": "2024-03-18T07:24:12.963389",
     "status": "completed"
    },
    "tags": []
   },
   "source": [
    "# Open AI Utils"
   ]
  },
  {
   "cell_type": "code",
   "execution_count": 5,
   "id": "767b942b",
   "metadata": {
    "execution": {
     "iopub.execute_input": "2024-03-18T07:24:12.977869Z",
     "iopub.status.busy": "2024-03-18T07:24:12.977468Z",
     "iopub.status.idle": "2024-03-18T07:24:12.985151Z",
     "shell.execute_reply": "2024-03-18T07:24:12.984120Z"
    },
    "papermill": {
     "duration": 0.015637,
     "end_time": "2024-03-18T07:24:12.987340",
     "exception": false,
     "start_time": "2024-03-18T07:24:12.971703",
     "status": "completed"
    },
    "tags": []
   },
   "outputs": [],
   "source": [
    "def map_column_names_wrt_meta_data(dataset_column_names):\n",
    "    '''\n",
    "-----------------------------------------------------------------------------\n",
    "params:\n",
    "dataset_column_names: unclean_dataset_column_names\n",
    "columns_meta_data_json: column attributes objects extracted from meta data\n",
    "-----------------------------------------------------------------------------\n",
    "<OPEN AI CALL WILL GO HERE>\n",
    "    \n",
    "Task: Consider below defined 'dataset_column_names'. Look up the 'columns_meta_data_json' and pick relevant column attribute_name w.r.t to the attribute description and synonyms context. Output should be a json with key as 'dataset_column_names' and value as attribute_name picked from columns_meta_data_json\n",
    "\n",
    "dataset_column_names: <COLUMN NAMES WOULD GO HERE...>\n",
    "columns_meta_data_json: \n",
    "[<ATTRIBUTE OBJECT(Name, Desc, Syn)>, <ATTRIBUTE OBJECT(Name, Desc, Syn)>, ...]\n",
    "\n",
    "Output Example: {'Old Column Name'': \"New Column Name\"}\n",
    "    '''\n",
    "    return {\n",
    "    \"Name\": \"Name\",\n",
    "    \"Short Name\": \"Short Name\",\n",
    "    \"Description\": \"Description\",\n",
    "    \"Business Owner\": \"Business Owner\",\n",
    "    \"Technical Owner\": \"Technical Owner\",\n",
    "    \"# users\": \"Number of Users\",\n",
    "    \"RPO\": \"Recovery Point Objective\",\n",
    "    \"RTO\": \"Recovery Time Objective\",\n",
    "    \"start date\": \"Go Live Date\",\n",
    "    \"end date\": \"End of Support Date\",\n",
    "    \"SLA\": \"SLA Type\",\n",
    "    \"Vendor\": \"Vendor\",\n",
    "    \"Status\": \"Status\",\n",
    "    \"AGF score\": \"AGF Classification\",\n",
    "    \"DR TYpe\": \"DR Type\",\n",
    "    \"Required Availability\": \"Required Availability\",\n",
    "    \"location\": \"System Hosting Place\",\n",
    "    \"I/X\": \"Mobile Compliance\",\n",
    "    \"Type of System (Gartner)\": \"Type of System\",\n",
    "    \"Across RTA?\": \"User Community\",\n",
    "    \"commercial or customized\": \"Development Type\",\n",
    "    \"Recommendation\": \"Recommendation\",\n",
    "    \"Cloud Migration plan\": \"Cloud Migration Strategy\",\n",
    "    \"Type\": \"Architecture Type\",\n",
    "    \"Mobile compatible\": \"Mobile Compliance\",\n",
    "    \"support many langs\": \"Multi Language Support\"\n",
    "}"
   ]
  },
  {
   "cell_type": "markdown",
   "id": "725e000a",
   "metadata": {
    "papermill": {
     "duration": 0.0043,
     "end_time": "2024-03-18T07:24:12.995944",
     "exception": false,
     "start_time": "2024-03-18T07:24:12.991644",
     "status": "completed"
    },
    "tags": []
   },
   "source": [
    "# Pipeline\n",
    "\n",
    "1. Extract **unclean dataset column names** and **attributes objects** from the meta-data.\n",
    "2. Use Open-AI to map **column new names** w.r.t to the provided meta-data.\n",
    "3. Change columns names."
   ]
  },
  {
   "cell_type": "markdown",
   "id": "4f0931cd",
   "metadata": {
    "papermill": {
     "duration": 0.004326,
     "end_time": "2024-03-18T07:24:13.004635",
     "exception": false,
     "start_time": "2024-03-18T07:24:13.000309",
     "status": "completed"
    },
    "tags": []
   },
   "source": [
    "# Code"
   ]
  },
  {
   "cell_type": "code",
   "execution_count": 6,
   "id": "cd0b8aed",
   "metadata": {
    "execution": {
     "iopub.execute_input": "2024-03-18T07:24:13.015041Z",
     "iopub.status.busy": "2024-03-18T07:24:13.014635Z",
     "iopub.status.idle": "2024-03-18T07:24:13.525910Z",
     "shell.execute_reply": "2024-03-18T07:24:13.524626Z"
    },
    "papermill": {
     "duration": 0.519324,
     "end_time": "2024-03-18T07:24:13.528456",
     "exception": false,
     "start_time": "2024-03-18T07:24:13.009132",
     "status": "completed"
    },
    "tags": []
   },
   "outputs": [
    {
     "name": "stdout",
     "output_type": "stream",
     "text": [
      "<class 'pandas.core.frame.DataFrame'>\n",
      "RangeIndex: 100 entries, 0 to 99\n",
      "Data columns (total 27 columns):\n",
      " #   Column                    Non-Null Count  Dtype         \n",
      "---  ------                    --------------  -----         \n",
      " 0   Name                      100 non-null    object        \n",
      " 1   Short Name                100 non-null    object        \n",
      " 2   Description               100 non-null    object        \n",
      " 3   Business Owner            100 non-null    object        \n",
      " 4   Technical Owner           100 non-null    object        \n",
      " 5   Number of Users           56 non-null     object        \n",
      " 6   Recovery Point Objective  26 non-null     object        \n",
      " 7   Recovery Time Objective   27 non-null     object        \n",
      " 8   Go Live Date              57 non-null     datetime64[ns]\n",
      " 9   End of Support Date       58 non-null     datetime64[ns]\n",
      " 10  SLA Type                  33 non-null     object        \n",
      " 11  Vendor                    100 non-null    object        \n",
      " 12  Status                    100 non-null    object        \n",
      " 13  AGF Classification        93 non-null     object        \n",
      " 14  DR TYpe                   20 non-null     object        \n",
      " 15  Required Availability     45 non-null     object        \n",
      " 16  System Hosting Place      62 non-null     object        \n",
      " 17  User Community            84 non-null     object        \n",
      " 18  Type of System            68 non-null     object        \n",
      " 19  Enterprise Level          84 non-null     object        \n",
      " 20  Development Type          100 non-null    object        \n",
      " 21  Recommendation            100 non-null    object        \n",
      " 22  Cloud Migration Strategy  100 non-null    object        \n",
      " 23  Architecture Type         100 non-null    object        \n",
      " 24  Mobile Compliance         76 non-null     object        \n",
      " 25  Multi Language Support    100 non-null    object        \n",
      " 26  Application Age           57 non-null     float64       \n",
      "dtypes: datetime64[ns](2), float64(1), object(24)\n",
      "memory usage: 21.2+ KB\n"
     ]
    }
   ],
   "source": [
    "df_cleaned = pd.read_excel(CLEANED_DATA_PATH)\n",
    "df_cleaned.info()"
   ]
  },
  {
   "cell_type": "code",
   "execution_count": 7,
   "id": "1d08705e",
   "metadata": {
    "execution": {
     "iopub.execute_input": "2024-03-18T07:24:13.539627Z",
     "iopub.status.busy": "2024-03-18T07:24:13.539130Z",
     "iopub.status.idle": "2024-03-18T07:24:13.653031Z",
     "shell.execute_reply": "2024-03-18T07:24:13.651880Z"
    },
    "papermill": {
     "duration": 0.122313,
     "end_time": "2024-03-18T07:24:13.655482",
     "exception": false,
     "start_time": "2024-03-18T07:24:13.533169",
     "status": "completed"
    },
    "tags": []
   },
   "outputs": [
    {
     "name": "stdout",
     "output_type": "stream",
     "text": [
      "<class 'pandas.core.frame.DataFrame'>\n",
      "RangeIndex: 100 entries, 0 to 99\n",
      "Data columns (total 26 columns):\n",
      " #   Column                    Non-Null Count  Dtype         \n",
      "---  ------                    --------------  -----         \n",
      " 0   Name                      100 non-null    object        \n",
      " 1   Short Name                100 non-null    object        \n",
      " 2   Description               100 non-null    object        \n",
      " 3   Business Owner            100 non-null    object        \n",
      " 4   Technical Owner           100 non-null    object        \n",
      " 5   # users                   56 non-null     object        \n",
      " 6   RPO                       26 non-null     object        \n",
      " 7   RTO                       27 non-null     object        \n",
      " 8   start date                57 non-null     datetime64[ns]\n",
      " 9   end date                  58 non-null     datetime64[ns]\n",
      " 10  SLA                       33 non-null     object        \n",
      " 11  Vendor                    100 non-null    object        \n",
      " 12  Status                    88 non-null     object        \n",
      " 13  AGF score                 93 non-null     object        \n",
      " 14  DR TYpe                   28 non-null     object        \n",
      " 15  Required Availability     45 non-null     object        \n",
      " 16  location                  62 non-null     object        \n",
      " 17  I/X                       84 non-null     object        \n",
      " 18  Type of System (Gartner)  68 non-null     object        \n",
      " 19  Across RTA?               84 non-null     object        \n",
      " 20  commercial or customized  100 non-null    object        \n",
      " 21  Recommendation            100 non-null    object        \n",
      " 22  Cloud Migration plan      100 non-null    object        \n",
      " 23  Type                      100 non-null    object        \n",
      " 24  Mobile compatible         78 non-null     object        \n",
      " 25  support many langs        100 non-null    object        \n",
      "dtypes: datetime64[ns](2), object(24)\n",
      "memory usage: 20.4+ KB\n"
     ]
    }
   ],
   "source": [
    "df_uncleaned = pd.read_excel(UNCLEANED_DATA_PATH)\n",
    "df_uncleaned.info()"
   ]
  },
  {
   "cell_type": "markdown",
   "id": "c5c5ea1c",
   "metadata": {
    "papermill": {
     "duration": 0.004603,
     "end_time": "2024-03-18T07:24:13.664658",
     "exception": false,
     "start_time": "2024-03-18T07:24:13.660055",
     "status": "completed"
    },
    "tags": []
   },
   "source": [
    "### 1. Conversion of un-cleaned data column names w.r.t to the metadata context\n",
    "1. Extract **unclean dataset column names** and **attributes objects** from the meta-data.\n",
    "2. Use Open-AI to map **column new names** w.r.t to the provided meta-data.\n",
    "3. Change columns names."
   ]
  },
  {
   "cell_type": "code",
   "execution_count": 8,
   "id": "a50ff48b",
   "metadata": {
    "execution": {
     "iopub.execute_input": "2024-03-18T07:24:13.676323Z",
     "iopub.status.busy": "2024-03-18T07:24:13.675495Z",
     "iopub.status.idle": "2024-03-18T07:24:13.684308Z",
     "shell.execute_reply": "2024-03-18T07:24:13.682408Z"
    },
    "papermill": {
     "duration": 0.017551,
     "end_time": "2024-03-18T07:24:13.686737",
     "exception": false,
     "start_time": "2024-03-18T07:24:13.669186",
     "status": "completed"
    },
    "tags": []
   },
   "outputs": [],
   "source": [
    "# Extract old column names\n",
    "uncleaned_column_old_names = ','.join(df_uncleaned.columns)\n",
    "\n",
    "# Use Open-Ai to map new column names w.r.t to context\n",
    "uncleaned_column_new_names = map_column_names_wrt_meta_data(uncleaned_column_old_names)\n",
    "\n",
    "# Rename columns\n",
    "df_uncleaned.rename(columns=uncleaned_column_new_names, inplace=True)"
   ]
  },
  {
   "cell_type": "code",
   "execution_count": 9,
   "id": "e77bf432",
   "metadata": {
    "execution": {
     "iopub.execute_input": "2024-03-18T07:24:13.699552Z",
     "iopub.status.busy": "2024-03-18T07:24:13.699161Z",
     "iopub.status.idle": "2024-03-18T07:24:13.717911Z",
     "shell.execute_reply": "2024-03-18T07:24:13.715627Z"
    },
    "papermill": {
     "duration": 0.027574,
     "end_time": "2024-03-18T07:24:13.720423",
     "exception": false,
     "start_time": "2024-03-18T07:24:13.692849",
     "status": "completed"
    },
    "tags": []
   },
   "outputs": [
    {
     "name": "stdout",
     "output_type": "stream",
     "text": [
      "<class 'pandas.core.frame.DataFrame'>\n",
      "RangeIndex: 100 entries, 0 to 99\n",
      "Data columns (total 26 columns):\n",
      " #   Column                    Non-Null Count  Dtype         \n",
      "---  ------                    --------------  -----         \n",
      " 0   Name                      100 non-null    object        \n",
      " 1   Short Name                100 non-null    object        \n",
      " 2   Description               100 non-null    object        \n",
      " 3   Business Owner            100 non-null    object        \n",
      " 4   Technical Owner           100 non-null    object        \n",
      " 5   Number of Users           56 non-null     object        \n",
      " 6   Recovery Point Objective  26 non-null     object        \n",
      " 7   Recovery Time Objective   27 non-null     object        \n",
      " 8   Go Live Date              57 non-null     datetime64[ns]\n",
      " 9   End of Support Date       58 non-null     datetime64[ns]\n",
      " 10  SLA Type                  33 non-null     object        \n",
      " 11  Vendor                    100 non-null    object        \n",
      " 12  Status                    88 non-null     object        \n",
      " 13  AGF Classification        93 non-null     object        \n",
      " 14  DR Type                   28 non-null     object        \n",
      " 15  Required Availability     45 non-null     object        \n",
      " 16  System Hosting Place      62 non-null     object        \n",
      " 17  Mobile Compliance         84 non-null     object        \n",
      " 18  Type of System            68 non-null     object        \n",
      " 19  User Community            84 non-null     object        \n",
      " 20  Development Type          100 non-null    object        \n",
      " 21  Recommendation            100 non-null    object        \n",
      " 22  Cloud Migration Strategy  100 non-null    object        \n",
      " 23  Architecture Type         100 non-null    object        \n",
      " 24  Mobile Compliance         78 non-null     object        \n",
      " 25  Multi Language Support    100 non-null    object        \n",
      "dtypes: datetime64[ns](2), object(24)\n",
      "memory usage: 20.4+ KB\n"
     ]
    }
   ],
   "source": [
    "df_uncleaned.info()"
   ]
  },
  {
   "cell_type": "code",
   "execution_count": null,
   "id": "926b6f53",
   "metadata": {
    "papermill": {
     "duration": 0.005476,
     "end_time": "2024-03-18T07:24:13.730769",
     "exception": false,
     "start_time": "2024-03-18T07:24:13.725293",
     "status": "completed"
    },
    "tags": []
   },
   "outputs": [],
   "source": []
  }
 ],
 "metadata": {
  "kaggle": {
   "accelerator": "none",
   "dataSources": [
    {
     "databundleVersionId": 7977798,
     "datasetId": 4619135,
     "sourceId": 7872211,
     "sourceType": "datasetVersion"
    }
   ],
   "dockerImageVersionId": 30664,
   "isGpuEnabled": false,
   "isInternetEnabled": true,
   "language": "python",
   "sourceType": "notebook"
  },
  "kernelspec": {
   "display_name": "Python 3",
   "language": "python",
   "name": "python3"
  },
  "language_info": {
   "codemirror_mode": {
    "name": "ipython",
    "version": 3
   },
   "file_extension": ".py",
   "mimetype": "text/x-python",
   "name": "python",
   "nbconvert_exporter": "python",
   "pygments_lexer": "ipython3",
   "version": "3.10.13"
  },
  "papermill": {
   "default_parameters": {},
   "duration": 5.242907,
   "end_time": "2024-03-18T07:24:14.256339",
   "environment_variables": {},
   "exception": null,
   "input_path": "__notebook__.ipynb",
   "output_path": "__notebook__.ipynb",
   "parameters": {},
   "start_time": "2024-03-18T07:24:09.013432",
   "version": "2.5.0"
  }
 },
 "nbformat": 4,
 "nbformat_minor": 5
}
