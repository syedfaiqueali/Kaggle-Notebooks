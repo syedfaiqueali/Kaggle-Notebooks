{
 "cells": [
  {
   "cell_type": "markdown",
   "id": "7f6d446d",
   "metadata": {
    "papermill": {
     "duration": 0.00934,
     "end_time": "2024-03-18T16:54:51.606937",
     "exception": false,
     "start_time": "2024-03-18T16:54:51.597597",
     "status": "completed"
    },
    "tags": []
   },
   "source": [
    "# Import"
   ]
  },
  {
   "cell_type": "code",
   "execution_count": 1,
   "id": "94817307",
   "metadata": {
    "execution": {
     "iopub.execute_input": "2024-03-18T16:54:51.628396Z",
     "iopub.status.busy": "2024-03-18T16:54:51.627332Z",
     "iopub.status.idle": "2024-03-18T16:54:52.808831Z",
     "shell.execute_reply": "2024-03-18T16:54:52.807694Z"
    },
    "papermill": {
     "duration": 1.196421,
     "end_time": "2024-03-18T16:54:52.812103",
     "exception": false,
     "start_time": "2024-03-18T16:54:51.615682",
     "status": "completed"
    },
    "tags": []
   },
   "outputs": [],
   "source": [
    "import json\n",
    "import pandas as pd"
   ]
  },
  {
   "cell_type": "markdown",
   "id": "7ab8f4b9",
   "metadata": {
    "papermill": {
     "duration": 0.007898,
     "end_time": "2024-03-18T16:54:52.828554",
     "exception": false,
     "start_time": "2024-03-18T16:54:52.820656",
     "status": "completed"
    },
    "tags": []
   },
   "source": [
    "# Constant"
   ]
  },
  {
   "cell_type": "code",
   "execution_count": 2,
   "id": "c2e83282",
   "metadata": {
    "execution": {
     "iopub.execute_input": "2024-03-18T16:54:52.848908Z",
     "iopub.status.busy": "2024-03-18T16:54:52.847709Z",
     "iopub.status.idle": "2024-03-18T16:54:52.854565Z",
     "shell.execute_reply": "2024-03-18T16:54:52.852924Z"
    },
    "papermill": {
     "duration": 0.020015,
     "end_time": "2024-03-18T16:54:52.857423",
     "exception": false,
     "start_time": "2024-03-18T16:54:52.837408",
     "status": "completed"
    },
    "tags": []
   },
   "outputs": [],
   "source": [
    "CLEANED_DATA_PATH = '/kaggle/input/rta-dubai/sample_clean_application_data_2.xlsx'\n",
    "UNCLEANED_DATA_PATH = '/kaggle/input/rta-dubai/sample_unclean_application_data_v2.xlsx'\n",
    "METADATA_PATH = '/kaggle/input/rta-dubai/Application dataset.json'"
   ]
  },
  {
   "cell_type": "markdown",
   "id": "1120be81",
   "metadata": {
    "papermill": {
     "duration": 0.010347,
     "end_time": "2024-03-18T16:54:52.876549",
     "exception": false,
     "start_time": "2024-03-18T16:54:52.866202",
     "status": "completed"
    },
    "tags": []
   },
   "source": [
    "# Models"
   ]
  },
  {
   "cell_type": "code",
   "execution_count": 3,
   "id": "0f4ba183",
   "metadata": {
    "execution": {
     "iopub.execute_input": "2024-03-18T16:54:52.895495Z",
     "iopub.status.busy": "2024-03-18T16:54:52.894895Z",
     "iopub.status.idle": "2024-03-18T16:54:52.901405Z",
     "shell.execute_reply": "2024-03-18T16:54:52.900333Z"
    },
    "papermill": {
     "duration": 0.018786,
     "end_time": "2024-03-18T16:54:52.903855",
     "exception": false,
     "start_time": "2024-03-18T16:54:52.885069",
     "status": "completed"
    },
    "tags": []
   },
   "outputs": [],
   "source": [
    "class MetaData:\n",
    "    def __init__(self, data):\n",
    "        self.__dict__ = data"
   ]
  },
  {
   "cell_type": "markdown",
   "id": "38b06c87",
   "metadata": {
    "papermill": {
     "duration": 0.008051,
     "end_time": "2024-03-18T16:54:52.920203",
     "exception": false,
     "start_time": "2024-03-18T16:54:52.912152",
     "status": "completed"
    },
    "tags": []
   },
   "source": [
    "# Helper Function"
   ]
  },
  {
   "cell_type": "code",
   "execution_count": 4,
   "id": "d5cdbd24",
   "metadata": {
    "execution": {
     "iopub.execute_input": "2024-03-18T16:54:52.939233Z",
     "iopub.status.busy": "2024-03-18T16:54:52.938231Z",
     "iopub.status.idle": "2024-03-18T16:54:52.944788Z",
     "shell.execute_reply": "2024-03-18T16:54:52.943750Z"
    },
    "papermill": {
     "duration": 0.019089,
     "end_time": "2024-03-18T16:54:52.947499",
     "exception": false,
     "start_time": "2024-03-18T16:54:52.928410",
     "status": "completed"
    },
    "tags": []
   },
   "outputs": [],
   "source": [
    "def load_json_and_map_to_class(json_path):\n",
    "    try:\n",
    "        with open(json_path, 'r') as json_file:\n",
    "            data = json.load(json_file)\n",
    "            return MetaData(data)\n",
    "    except json.JSONDecodeError:\n",
    "        print(f\"Error: Unable to decode JSON from file '{file_path}'. File may be empty or not in valid JSON format.\")\n",
    "        return None"
   ]
  },
  {
   "cell_type": "markdown",
   "id": "e2999bdb",
   "metadata": {
    "papermill": {
     "duration": 0.007876,
     "end_time": "2024-03-18T16:54:52.963891",
     "exception": false,
     "start_time": "2024-03-18T16:54:52.956015",
     "status": "completed"
    },
    "tags": []
   },
   "source": [
    "# Open AI Utils"
   ]
  },
  {
   "cell_type": "code",
   "execution_count": 5,
   "id": "883a1d2e",
   "metadata": {
    "execution": {
     "iopub.execute_input": "2024-03-18T16:54:52.982712Z",
     "iopub.status.busy": "2024-03-18T16:54:52.982156Z",
     "iopub.status.idle": "2024-03-18T16:54:52.994165Z",
     "shell.execute_reply": "2024-03-18T16:54:52.992817Z"
    },
    "papermill": {
     "duration": 0.025578,
     "end_time": "2024-03-18T16:54:52.997640",
     "exception": false,
     "start_time": "2024-03-18T16:54:52.972062",
     "status": "completed"
    },
    "tags": []
   },
   "outputs": [],
   "source": [
    "def map_column_names_wrt_meta_data(dataset_column_names):\n",
    "    '''\n",
    "-----------------------------------------------------------------------------\n",
    "params:\n",
    "dataset_column_names: unclean_dataset_column_names\n",
    "columns_meta_data_json: column attributes objects extracted from meta data\n",
    "-----------------------------------------------------------------------------\n",
    "<OPEN AI CALL WILL GO HERE>\n",
    "    \n",
    "Task: Consider below defined 'dataset_column_names'. Look up the 'columns_meta_data_json' and pick relevant column attribute_name w.r.t to the attribute description and synonyms context. Output should be a json with key as 'dataset_column_names' and value as attribute_name picked from columns_meta_data_json\n",
    "\n",
    "dataset_column_names: <COLUMN NAMES WOULD GO HERE...>\n",
    "columns_meta_data_json: \n",
    "[<ATTRIBUTE OBJECT(Name, Desc, Syn)>, <ATTRIBUTE OBJECT(Name, Desc, Syn)>, ...]\n",
    "\n",
    "Output Example: {'Old Column Name'': \"New Column Name\"}\n",
    "    '''\n",
    "    return {\n",
    "    \"Name\": \"Name\",\n",
    "    \"Short Name\": \"Short Name\",\n",
    "    \"Description\": \"Description\",\n",
    "    \"Business Owner\": \"Business Owner\",\n",
    "    \"Technical Owner\": \"Technical Owner\",\n",
    "    \"# users\": \"Number of Users\",\n",
    "    \"RPO\": \"Recovery Point Objective\",\n",
    "    \"RTO\": \"Recovery Time Objective\",\n",
    "    \"start date\": \"Go Live Date\",\n",
    "    \"end date\": \"End of Support Date\",\n",
    "    \"SLA\": \"SLA Type\",\n",
    "    \"Vendor\": \"Vendor\",\n",
    "    \"Status\": \"Status\",\n",
    "    \"AGF score\": \"AGF Classification\",\n",
    "    \"DR TYpe\": \"DR Type\",\n",
    "    \"Required Availability\": \"Required Availability\",\n",
    "    \"location\": \"System Hosting Place\",\n",
    "    \"I/X\": \"Mobile Compliance\",\n",
    "    \"Type of System (Gartner)\": \"Type of System\",\n",
    "    \"Across RTA?\": \"User Community\",\n",
    "    \"commercial or customized\": \"Development Type\",\n",
    "    \"Recommendation\": \"Recommendation\",\n",
    "    \"Cloud Migration plan\": \"Cloud Migration Strategy\",\n",
    "    \"Type\": \"Architecture Type\",\n",
    "    \"Mobile compatible\": \"Mobile Compliance\",\n",
    "    \"support many langs\": \"Multi Language Support\"\n",
    "}"
   ]
  },
  {
   "cell_type": "markdown",
   "id": "09102ba1",
   "metadata": {
    "papermill": {
     "duration": 0.008825,
     "end_time": "2024-03-18T16:54:53.016028",
     "exception": false,
     "start_time": "2024-03-18T16:54:53.007203",
     "status": "completed"
    },
    "tags": []
   },
   "source": [
    "# Pipeline\n",
    "\n",
    "1. Extract **unclean dataset column names** and **attributes objects** from the meta-data.\n",
    "2. Use Open-AI to map **column new names** w.r.t to the provided meta-data.\n",
    "3. Change columns names."
   ]
  },
  {
   "cell_type": "markdown",
   "id": "07a9adcb",
   "metadata": {
    "papermill": {
     "duration": 0.009393,
     "end_time": "2024-03-18T16:54:53.034062",
     "exception": false,
     "start_time": "2024-03-18T16:54:53.024669",
     "status": "completed"
    },
    "tags": []
   },
   "source": [
    "# Code"
   ]
  },
  {
   "cell_type": "code",
   "execution_count": 6,
   "id": "736c8889",
   "metadata": {
    "execution": {
     "iopub.execute_input": "2024-03-18T16:54:53.053335Z",
     "iopub.status.busy": "2024-03-18T16:54:53.052283Z",
     "iopub.status.idle": "2024-03-18T16:54:53.701854Z",
     "shell.execute_reply": "2024-03-18T16:54:53.700261Z"
    },
    "papermill": {
     "duration": 0.663242,
     "end_time": "2024-03-18T16:54:53.705609",
     "exception": false,
     "start_time": "2024-03-18T16:54:53.042367",
     "status": "completed"
    },
    "tags": []
   },
   "outputs": [
    {
     "name": "stdout",
     "output_type": "stream",
     "text": [
      "<class 'pandas.core.frame.DataFrame'>\n",
      "RangeIndex: 100 entries, 0 to 99\n",
      "Data columns (total 27 columns):\n",
      " #   Column                    Non-Null Count  Dtype         \n",
      "---  ------                    --------------  -----         \n",
      " 0   Name                      100 non-null    object        \n",
      " 1   Short Name                100 non-null    object        \n",
      " 2   Description               100 non-null    object        \n",
      " 3   Business Owner            100 non-null    object        \n",
      " 4   Technical Owner           100 non-null    object        \n",
      " 5   Number of Users           56 non-null     object        \n",
      " 6   Recovery Point Objective  26 non-null     object        \n",
      " 7   Recovery Time Objective   27 non-null     object        \n",
      " 8   Go Live Date              57 non-null     datetime64[ns]\n",
      " 9   End of Support Date       58 non-null     datetime64[ns]\n",
      " 10  SLA Type                  33 non-null     object        \n",
      " 11  Vendor                    100 non-null    object        \n",
      " 12  Status                    100 non-null    object        \n",
      " 13  AGF Classification        93 non-null     object        \n",
      " 14  DR TYpe                   20 non-null     object        \n",
      " 15  Required Availability     45 non-null     object        \n",
      " 16  System Hosting Place      62 non-null     object        \n",
      " 17  User Community            84 non-null     object        \n",
      " 18  Type of System            68 non-null     object        \n",
      " 19  Enterprise Level          84 non-null     object        \n",
      " 20  Development Type          100 non-null    object        \n",
      " 21  Recommendation            100 non-null    object        \n",
      " 22  Cloud Migration Strategy  100 non-null    object        \n",
      " 23  Architecture Type         100 non-null    object        \n",
      " 24  Mobile Compliance         76 non-null     object        \n",
      " 25  Multi Language Support    100 non-null    object        \n",
      " 26  Application Age           57 non-null     float64       \n",
      "dtypes: datetime64[ns](2), float64(1), object(24)\n",
      "memory usage: 21.2+ KB\n"
     ]
    }
   ],
   "source": [
    "df_cleaned = pd.read_excel(CLEANED_DATA_PATH)\n",
    "df_cleaned.info()"
   ]
  },
  {
   "cell_type": "code",
   "execution_count": 7,
   "id": "94c5f71a",
   "metadata": {
    "execution": {
     "iopub.execute_input": "2024-03-18T16:54:53.725487Z",
     "iopub.status.busy": "2024-03-18T16:54:53.724811Z",
     "iopub.status.idle": "2024-03-18T16:54:53.905154Z",
     "shell.execute_reply": "2024-03-18T16:54:53.902617Z"
    },
    "papermill": {
     "duration": 0.194075,
     "end_time": "2024-03-18T16:54:53.908359",
     "exception": false,
     "start_time": "2024-03-18T16:54:53.714284",
     "status": "completed"
    },
    "tags": []
   },
   "outputs": [
    {
     "name": "stdout",
     "output_type": "stream",
     "text": [
      "<class 'pandas.core.frame.DataFrame'>\n",
      "RangeIndex: 100 entries, 0 to 99\n",
      "Data columns (total 26 columns):\n",
      " #   Column                    Non-Null Count  Dtype         \n",
      "---  ------                    --------------  -----         \n",
      " 0   Name                      100 non-null    object        \n",
      " 1   Short Name                100 non-null    object        \n",
      " 2   Description               100 non-null    object        \n",
      " 3   Business Owner            100 non-null    object        \n",
      " 4   Technical Owner           100 non-null    object        \n",
      " 5   # users                   56 non-null     object        \n",
      " 6   RPO                       26 non-null     object        \n",
      " 7   RTO                       27 non-null     object        \n",
      " 8   start date                57 non-null     datetime64[ns]\n",
      " 9   end date                  58 non-null     datetime64[ns]\n",
      " 10  SLA                       33 non-null     object        \n",
      " 11  Vendor                    100 non-null    object        \n",
      " 12  Status                    88 non-null     object        \n",
      " 13  AGF score                 93 non-null     object        \n",
      " 14  DR TYpe                   28 non-null     object        \n",
      " 15  Required Availability     45 non-null     object        \n",
      " 16  location                  62 non-null     object        \n",
      " 17  I/X                       84 non-null     object        \n",
      " 18  Type of System (Gartner)  68 non-null     object        \n",
      " 19  Across RTA?               84 non-null     object        \n",
      " 20  commercial or customized  100 non-null    object        \n",
      " 21  Recommendation            100 non-null    object        \n",
      " 22  Cloud Migration plan      100 non-null    object        \n",
      " 23  Type                      100 non-null    object        \n",
      " 24  Mobile compatible         78 non-null     object        \n",
      " 25  support many langs        100 non-null    object        \n",
      "dtypes: datetime64[ns](2), object(24)\n",
      "memory usage: 20.4+ KB\n"
     ]
    }
   ],
   "source": [
    "df_uncleaned = pd.read_excel(UNCLEANED_DATA_PATH)\n",
    "df_uncleaned.info()"
   ]
  },
  {
   "cell_type": "code",
   "execution_count": 8,
   "id": "ec73f043",
   "metadata": {
    "execution": {
     "iopub.execute_input": "2024-03-18T16:54:53.928682Z",
     "iopub.status.busy": "2024-03-18T16:54:53.928137Z",
     "iopub.status.idle": "2024-03-18T16:54:53.946817Z",
     "shell.execute_reply": "2024-03-18T16:54:53.945423Z"
    },
    "papermill": {
     "duration": 0.032372,
     "end_time": "2024-03-18T16:54:53.949939",
     "exception": false,
     "start_time": "2024-03-18T16:54:53.917567",
     "status": "completed"
    },
    "tags": []
   },
   "outputs": [
    {
     "data": {
      "text/plain": [
       "<__main__.MetaData at 0x7d3e1b587250>"
      ]
     },
     "execution_count": 8,
     "metadata": {},
     "output_type": "execute_result"
    }
   ],
   "source": [
    "metadata_json = load_json_and_map_to_class(METADATA_PATH)\n",
    "metadata_json"
   ]
  },
  {
   "cell_type": "markdown",
   "id": "2ce1d213",
   "metadata": {
    "papermill": {
     "duration": 0.009101,
     "end_time": "2024-03-18T16:54:53.968020",
     "exception": false,
     "start_time": "2024-03-18T16:54:53.958919",
     "status": "completed"
    },
    "tags": []
   },
   "source": [
    "### 1. Conversion of un-cleaned data column names w.r.t to the metadata context\n",
    "1. Extract **unclean dataset column names** and **attributes objects** from the meta-data.\n",
    "2. Use Open-AI to map **column new names** w.r.t to the provided meta-data.\n",
    "3. Change columns names."
   ]
  },
  {
   "cell_type": "code",
   "execution_count": 9,
   "id": "b51d4eaf",
   "metadata": {
    "execution": {
     "iopub.execute_input": "2024-03-18T16:54:53.988582Z",
     "iopub.status.busy": "2024-03-18T16:54:53.988046Z",
     "iopub.status.idle": "2024-03-18T16:54:53.996440Z",
     "shell.execute_reply": "2024-03-18T16:54:53.994858Z"
    },
    "papermill": {
     "duration": 0.02225,
     "end_time": "2024-03-18T16:54:53.999376",
     "exception": false,
     "start_time": "2024-03-18T16:54:53.977126",
     "status": "completed"
    },
    "tags": []
   },
   "outputs": [],
   "source": [
    "# Extract old column names\n",
    "uncleaned_column_old_names = ','.join(df_uncleaned.columns)\n",
    "\n",
    "# Use Open-Ai to map new column names w.r.t to context\n",
    "uncleaned_column_new_names = map_column_names_wrt_meta_data(uncleaned_column_old_names)\n",
    "\n",
    "# Rename columns\n",
    "df_uncleaned.rename(columns=uncleaned_column_new_names, inplace=True)"
   ]
  },
  {
   "cell_type": "markdown",
   "id": "10337f71",
   "metadata": {
    "papermill": {
     "duration": 0.008626,
     "end_time": "2024-03-18T16:54:54.017282",
     "exception": false,
     "start_time": "2024-03-18T16:54:54.008656",
     "status": "completed"
    },
    "tags": []
   },
   "source": [
    "### 2. Convert column types w.r.t to the metadata defined attribute type\n",
    "1. Go here..."
   ]
  },
  {
   "cell_type": "code",
   "execution_count": 10,
   "id": "2715d396",
   "metadata": {
    "execution": {
     "iopub.execute_input": "2024-03-18T16:54:54.039234Z",
     "iopub.status.busy": "2024-03-18T16:54:54.038767Z",
     "iopub.status.idle": "2024-03-18T16:54:54.075862Z",
     "shell.execute_reply": "2024-03-18T16:54:54.074483Z"
    },
    "papermill": {
     "duration": 0.052726,
     "end_time": "2024-03-18T16:54:54.078919",
     "exception": false,
     "start_time": "2024-03-18T16:54:54.026193",
     "status": "completed"
    },
    "tags": []
   },
   "outputs": [],
   "source": [
    "for column in metadata_json.attributes:\n",
    "    if column['attribute_name'] in df_uncleaned.columns:\n",
    "#         if column['data_type'].lower() == \"string\":\n",
    "#             new_test_df[column[\"attribute_name\"]] = df_uncleaned[column[\"attribute_name\"]].astype(str)\n",
    "#         elif column['data_type'].lower() == \"int\":\n",
    "#             new_test_df[\"attribute_name\"] = df_uncleaned[column[\"attribute_name\"]].apply(lambda x: int(x.replace(',', '')) if isinstance(x, str) and ',' in x else x)\n",
    "#             new_test_df[column[\"attribute_name\"]] = df_uncleaned[column[\"attribute_name\"]].fillna(-1).astype(int)\n",
    "        if column['data_type'].lower() == \"enum\":\n",
    "            df_uncleaned[column[\"attribute_name\"]] = df_uncleaned[column[\"attribute_name\"]].astype('category')\n",
    "        elif column['data_type'].lower() == \"date\":\n",
    "            df_uncleaned[column[\"attribute_name\"]] = df_uncleaned[column[\"attribute_name\"]].astype('datetime64[ns]')"
   ]
  },
  {
   "cell_type": "code",
   "execution_count": 11,
   "id": "f03a2cfe",
   "metadata": {
    "execution": {
     "iopub.execute_input": "2024-03-18T16:54:54.099852Z",
     "iopub.status.busy": "2024-03-18T16:54:54.099341Z",
     "iopub.status.idle": "2024-03-18T16:54:54.109958Z",
     "shell.execute_reply": "2024-03-18T16:54:54.108685Z"
    },
    "papermill": {
     "duration": 0.024899,
     "end_time": "2024-03-18T16:54:54.112949",
     "exception": false,
     "start_time": "2024-03-18T16:54:54.088050",
     "status": "completed"
    },
    "tags": []
   },
   "outputs": [
    {
     "data": {
      "text/plain": [
       "Name                                object\n",
       "Short Name                          object\n",
       "Description                         object\n",
       "Business Owner                    category\n",
       "Technical Owner                   category\n",
       "Number of Users                     object\n",
       "Recovery Point Objective            object\n",
       "Recovery Time Objective             object\n",
       "Go Live Date                datetime64[ns]\n",
       "End of Support Date         datetime64[ns]\n",
       "SLA Type                          category\n",
       "Vendor                            category\n",
       "Status                            category\n",
       "AGF Classification                category\n",
       "DR Type                           category\n",
       "Required Availability             category\n",
       "System Hosting Place              category\n",
       "Mobile Compliance                 category\n",
       "Type of System                    category\n",
       "User Community                    category\n",
       "Development Type                  category\n",
       "Recommendation                    category\n",
       "Cloud Migration Strategy          category\n",
       "Architecture Type                 category\n",
       "Mobile Compliance                 category\n",
       "Multi Language Support            category\n",
       "dtype: object"
      ]
     },
     "execution_count": 11,
     "metadata": {},
     "output_type": "execute_result"
    }
   ],
   "source": [
    "df_uncleaned.dtypes"
   ]
  },
  {
   "cell_type": "markdown",
   "id": "bd24da23",
   "metadata": {
    "papermill": {
     "duration": 0.008585,
     "end_time": "2024-03-18T16:54:54.130634",
     "exception": false,
     "start_time": "2024-03-18T16:54:54.122049",
     "status": "completed"
    },
    "tags": []
   },
   "source": [
    "## 3. Data card"
   ]
  },
  {
   "cell_type": "code",
   "execution_count": 12,
   "id": "c5286f91",
   "metadata": {
    "execution": {
     "iopub.execute_input": "2024-03-18T16:54:54.151188Z",
     "iopub.status.busy": "2024-03-18T16:54:54.150689Z",
     "iopub.status.idle": "2024-03-18T16:54:54.187476Z",
     "shell.execute_reply": "2024-03-18T16:54:54.186092Z"
    },
    "papermill": {
     "duration": 0.050881,
     "end_time": "2024-03-18T16:54:54.190549",
     "exception": false,
     "start_time": "2024-03-18T16:54:54.139668",
     "status": "completed"
    },
    "tags": []
   },
   "outputs": [],
   "source": [
    "# Scorecard Summary\n",
    "summary = df_uncleaned.describe()\n",
    "\n",
    "# Data Completeness\n",
    "completeness = (df_uncleaned.isnull().mean() * 100).rename('Missing Values %')  # Percentage of missing values per column\n",
    "completeness = pd.DataFrame(completeness)  # Convert completeness Series to DataFrame\n",
    "\n",
    "# Quality Issues\n",
    "quality_issues = pd.DataFrame({\n",
    "    'Data Type': df_uncleaned.dtypes,\n",
    "    'Unique Values': df_uncleaned.nunique(),\n",
    "    'Duplicates': df_uncleaned.duplicated().sum()\n",
    "})"
   ]
  },
  {
   "cell_type": "code",
   "execution_count": 13,
   "id": "a4ca4c03",
   "metadata": {
    "execution": {
     "iopub.execute_input": "2024-03-18T16:54:54.210803Z",
     "iopub.status.busy": "2024-03-18T16:54:54.210274Z",
     "iopub.status.idle": "2024-03-18T16:54:54.227248Z",
     "shell.execute_reply": "2024-03-18T16:54:54.225855Z"
    },
    "papermill": {
     "duration": 0.030718,
     "end_time": "2024-03-18T16:54:54.230171",
     "exception": false,
     "start_time": "2024-03-18T16:54:54.199453",
     "status": "completed"
    },
    "tags": []
   },
   "outputs": [
    {
     "data": {
      "text/html": [
       "<div>\n",
       "<style scoped>\n",
       "    .dataframe tbody tr th:only-of-type {\n",
       "        vertical-align: middle;\n",
       "    }\n",
       "\n",
       "    .dataframe tbody tr th {\n",
       "        vertical-align: top;\n",
       "    }\n",
       "\n",
       "    .dataframe thead th {\n",
       "        text-align: right;\n",
       "    }\n",
       "</style>\n",
       "<table border=\"1\" class=\"dataframe\">\n",
       "  <thead>\n",
       "    <tr style=\"text-align: right;\">\n",
       "      <th></th>\n",
       "      <th>Go Live Date</th>\n",
       "      <th>End of Support Date</th>\n",
       "    </tr>\n",
       "  </thead>\n",
       "  <tbody>\n",
       "    <tr>\n",
       "      <th>count</th>\n",
       "      <td>57</td>\n",
       "      <td>58</td>\n",
       "    </tr>\n",
       "    <tr>\n",
       "      <th>mean</th>\n",
       "      <td>2014-09-04 05:03:09.473684224</td>\n",
       "      <td>2023-10-29 02:04:08.275862016</td>\n",
       "    </tr>\n",
       "    <tr>\n",
       "      <th>min</th>\n",
       "      <td>2004-01-01 00:00:00</td>\n",
       "      <td>2015-01-01 00:00:00</td>\n",
       "    </tr>\n",
       "    <tr>\n",
       "      <th>25%</th>\n",
       "      <td>2010-01-01 00:00:00</td>\n",
       "      <td>2023-01-12 06:00:00</td>\n",
       "    </tr>\n",
       "    <tr>\n",
       "      <th>50%</th>\n",
       "      <td>2015-01-01 00:00:00</td>\n",
       "      <td>2024-02-17 12:00:00</td>\n",
       "    </tr>\n",
       "    <tr>\n",
       "      <th>75%</th>\n",
       "      <td>2018-11-01 00:00:00</td>\n",
       "      <td>2024-11-30 00:00:00</td>\n",
       "    </tr>\n",
       "    <tr>\n",
       "      <th>max</th>\n",
       "      <td>2023-07-28 00:00:00</td>\n",
       "      <td>2036-11-09 00:00:00</td>\n",
       "    </tr>\n",
       "  </tbody>\n",
       "</table>\n",
       "</div>"
      ],
      "text/plain": [
       "                        Go Live Date            End of Support Date\n",
       "count                             57                             58\n",
       "mean   2014-09-04 05:03:09.473684224  2023-10-29 02:04:08.275862016\n",
       "min              2004-01-01 00:00:00            2015-01-01 00:00:00\n",
       "25%              2010-01-01 00:00:00            2023-01-12 06:00:00\n",
       "50%              2015-01-01 00:00:00            2024-02-17 12:00:00\n",
       "75%              2018-11-01 00:00:00            2024-11-30 00:00:00\n",
       "max              2023-07-28 00:00:00            2036-11-09 00:00:00"
      ]
     },
     "execution_count": 13,
     "metadata": {},
     "output_type": "execute_result"
    }
   ],
   "source": [
    "summary"
   ]
  },
  {
   "cell_type": "code",
   "execution_count": 14,
   "id": "55e44500",
   "metadata": {
    "execution": {
     "iopub.execute_input": "2024-03-18T16:54:54.251754Z",
     "iopub.status.busy": "2024-03-18T16:54:54.250828Z",
     "iopub.status.idle": "2024-03-18T16:54:54.268123Z",
     "shell.execute_reply": "2024-03-18T16:54:54.266601Z"
    },
    "papermill": {
     "duration": 0.031875,
     "end_time": "2024-03-18T16:54:54.271636",
     "exception": false,
     "start_time": "2024-03-18T16:54:54.239761",
     "status": "completed"
    },
    "tags": []
   },
   "outputs": [
    {
     "data": {
      "text/html": [
       "<div>\n",
       "<style scoped>\n",
       "    .dataframe tbody tr th:only-of-type {\n",
       "        vertical-align: middle;\n",
       "    }\n",
       "\n",
       "    .dataframe tbody tr th {\n",
       "        vertical-align: top;\n",
       "    }\n",
       "\n",
       "    .dataframe thead th {\n",
       "        text-align: right;\n",
       "    }\n",
       "</style>\n",
       "<table border=\"1\" class=\"dataframe\">\n",
       "  <thead>\n",
       "    <tr style=\"text-align: right;\">\n",
       "      <th></th>\n",
       "      <th>Missing Values %</th>\n",
       "    </tr>\n",
       "  </thead>\n",
       "  <tbody>\n",
       "    <tr>\n",
       "      <th>Name</th>\n",
       "      <td>0.0</td>\n",
       "    </tr>\n",
       "    <tr>\n",
       "      <th>Short Name</th>\n",
       "      <td>0.0</td>\n",
       "    </tr>\n",
       "    <tr>\n",
       "      <th>Description</th>\n",
       "      <td>0.0</td>\n",
       "    </tr>\n",
       "    <tr>\n",
       "      <th>Business Owner</th>\n",
       "      <td>0.0</td>\n",
       "    </tr>\n",
       "    <tr>\n",
       "      <th>Technical Owner</th>\n",
       "      <td>0.0</td>\n",
       "    </tr>\n",
       "    <tr>\n",
       "      <th>Number of Users</th>\n",
       "      <td>44.0</td>\n",
       "    </tr>\n",
       "    <tr>\n",
       "      <th>Recovery Point Objective</th>\n",
       "      <td>74.0</td>\n",
       "    </tr>\n",
       "    <tr>\n",
       "      <th>Recovery Time Objective</th>\n",
       "      <td>73.0</td>\n",
       "    </tr>\n",
       "    <tr>\n",
       "      <th>Go Live Date</th>\n",
       "      <td>43.0</td>\n",
       "    </tr>\n",
       "    <tr>\n",
       "      <th>End of Support Date</th>\n",
       "      <td>42.0</td>\n",
       "    </tr>\n",
       "    <tr>\n",
       "      <th>SLA Type</th>\n",
       "      <td>67.0</td>\n",
       "    </tr>\n",
       "    <tr>\n",
       "      <th>Vendor</th>\n",
       "      <td>0.0</td>\n",
       "    </tr>\n",
       "    <tr>\n",
       "      <th>Status</th>\n",
       "      <td>12.0</td>\n",
       "    </tr>\n",
       "    <tr>\n",
       "      <th>AGF Classification</th>\n",
       "      <td>7.0</td>\n",
       "    </tr>\n",
       "    <tr>\n",
       "      <th>DR Type</th>\n",
       "      <td>72.0</td>\n",
       "    </tr>\n",
       "    <tr>\n",
       "      <th>Required Availability</th>\n",
       "      <td>55.0</td>\n",
       "    </tr>\n",
       "    <tr>\n",
       "      <th>System Hosting Place</th>\n",
       "      <td>38.0</td>\n",
       "    </tr>\n",
       "    <tr>\n",
       "      <th>Mobile Compliance</th>\n",
       "      <td>16.0</td>\n",
       "    </tr>\n",
       "    <tr>\n",
       "      <th>Type of System</th>\n",
       "      <td>32.0</td>\n",
       "    </tr>\n",
       "    <tr>\n",
       "      <th>User Community</th>\n",
       "      <td>16.0</td>\n",
       "    </tr>\n",
       "    <tr>\n",
       "      <th>Development Type</th>\n",
       "      <td>0.0</td>\n",
       "    </tr>\n",
       "    <tr>\n",
       "      <th>Recommendation</th>\n",
       "      <td>0.0</td>\n",
       "    </tr>\n",
       "    <tr>\n",
       "      <th>Cloud Migration Strategy</th>\n",
       "      <td>0.0</td>\n",
       "    </tr>\n",
       "    <tr>\n",
       "      <th>Architecture Type</th>\n",
       "      <td>0.0</td>\n",
       "    </tr>\n",
       "    <tr>\n",
       "      <th>Mobile Compliance</th>\n",
       "      <td>22.0</td>\n",
       "    </tr>\n",
       "    <tr>\n",
       "      <th>Multi Language Support</th>\n",
       "      <td>0.0</td>\n",
       "    </tr>\n",
       "  </tbody>\n",
       "</table>\n",
       "</div>"
      ],
      "text/plain": [
       "                          Missing Values %\n",
       "Name                                   0.0\n",
       "Short Name                             0.0\n",
       "Description                            0.0\n",
       "Business Owner                         0.0\n",
       "Technical Owner                        0.0\n",
       "Number of Users                       44.0\n",
       "Recovery Point Objective              74.0\n",
       "Recovery Time Objective               73.0\n",
       "Go Live Date                          43.0\n",
       "End of Support Date                   42.0\n",
       "SLA Type                              67.0\n",
       "Vendor                                 0.0\n",
       "Status                                12.0\n",
       "AGF Classification                     7.0\n",
       "DR Type                               72.0\n",
       "Required Availability                 55.0\n",
       "System Hosting Place                  38.0\n",
       "Mobile Compliance                     16.0\n",
       "Type of System                        32.0\n",
       "User Community                        16.0\n",
       "Development Type                       0.0\n",
       "Recommendation                         0.0\n",
       "Cloud Migration Strategy               0.0\n",
       "Architecture Type                      0.0\n",
       "Mobile Compliance                     22.0\n",
       "Multi Language Support                 0.0"
      ]
     },
     "execution_count": 14,
     "metadata": {},
     "output_type": "execute_result"
    }
   ],
   "source": [
    "completeness"
   ]
  },
  {
   "cell_type": "code",
   "execution_count": 15,
   "id": "710fca3c",
   "metadata": {
    "execution": {
     "iopub.execute_input": "2024-03-18T16:54:54.293574Z",
     "iopub.status.busy": "2024-03-18T16:54:54.293076Z",
     "iopub.status.idle": "2024-03-18T16:54:54.308741Z",
     "shell.execute_reply": "2024-03-18T16:54:54.307610Z"
    },
    "papermill": {
     "duration": 0.031118,
     "end_time": "2024-03-18T16:54:54.312493",
     "exception": false,
     "start_time": "2024-03-18T16:54:54.281375",
     "status": "completed"
    },
    "tags": []
   },
   "outputs": [
    {
     "data": {
      "text/html": [
       "<div>\n",
       "<style scoped>\n",
       "    .dataframe tbody tr th:only-of-type {\n",
       "        vertical-align: middle;\n",
       "    }\n",
       "\n",
       "    .dataframe tbody tr th {\n",
       "        vertical-align: top;\n",
       "    }\n",
       "\n",
       "    .dataframe thead th {\n",
       "        text-align: right;\n",
       "    }\n",
       "</style>\n",
       "<table border=\"1\" class=\"dataframe\">\n",
       "  <thead>\n",
       "    <tr style=\"text-align: right;\">\n",
       "      <th></th>\n",
       "      <th>Data Type</th>\n",
       "      <th>Unique Values</th>\n",
       "      <th>Duplicates</th>\n",
       "    </tr>\n",
       "  </thead>\n",
       "  <tbody>\n",
       "    <tr>\n",
       "      <th>Name</th>\n",
       "      <td>object</td>\n",
       "      <td>98</td>\n",
       "      <td>0</td>\n",
       "    </tr>\n",
       "    <tr>\n",
       "      <th>Short Name</th>\n",
       "      <td>object</td>\n",
       "      <td>97</td>\n",
       "      <td>0</td>\n",
       "    </tr>\n",
       "    <tr>\n",
       "      <th>Description</th>\n",
       "      <td>object</td>\n",
       "      <td>100</td>\n",
       "      <td>0</td>\n",
       "    </tr>\n",
       "    <tr>\n",
       "      <th>Business Owner</th>\n",
       "      <td>category</td>\n",
       "      <td>20</td>\n",
       "      <td>0</td>\n",
       "    </tr>\n",
       "    <tr>\n",
       "      <th>Technical Owner</th>\n",
       "      <td>category</td>\n",
       "      <td>19</td>\n",
       "      <td>0</td>\n",
       "    </tr>\n",
       "    <tr>\n",
       "      <th>Number of Users</th>\n",
       "      <td>object</td>\n",
       "      <td>48</td>\n",
       "      <td>0</td>\n",
       "    </tr>\n",
       "    <tr>\n",
       "      <th>Recovery Point Objective</th>\n",
       "      <td>object</td>\n",
       "      <td>14</td>\n",
       "      <td>0</td>\n",
       "    </tr>\n",
       "    <tr>\n",
       "      <th>Recovery Time Objective</th>\n",
       "      <td>object</td>\n",
       "      <td>13</td>\n",
       "      <td>0</td>\n",
       "    </tr>\n",
       "    <tr>\n",
       "      <th>Go Live Date</th>\n",
       "      <td>datetime64[ns]</td>\n",
       "      <td>39</td>\n",
       "      <td>0</td>\n",
       "    </tr>\n",
       "    <tr>\n",
       "      <th>End of Support Date</th>\n",
       "      <td>datetime64[ns]</td>\n",
       "      <td>43</td>\n",
       "      <td>0</td>\n",
       "    </tr>\n",
       "    <tr>\n",
       "      <th>SLA Type</th>\n",
       "      <td>category</td>\n",
       "      <td>4</td>\n",
       "      <td>0</td>\n",
       "    </tr>\n",
       "    <tr>\n",
       "      <th>Vendor</th>\n",
       "      <td>category</td>\n",
       "      <td>30</td>\n",
       "      <td>0</td>\n",
       "    </tr>\n",
       "    <tr>\n",
       "      <th>Status</th>\n",
       "      <td>category</td>\n",
       "      <td>3</td>\n",
       "      <td>0</td>\n",
       "    </tr>\n",
       "    <tr>\n",
       "      <th>AGF Classification</th>\n",
       "      <td>category</td>\n",
       "      <td>4</td>\n",
       "      <td>0</td>\n",
       "    </tr>\n",
       "    <tr>\n",
       "      <th>DR Type</th>\n",
       "      <td>category</td>\n",
       "      <td>5</td>\n",
       "      <td>0</td>\n",
       "    </tr>\n",
       "    <tr>\n",
       "      <th>Required Availability</th>\n",
       "      <td>category</td>\n",
       "      <td>3</td>\n",
       "      <td>0</td>\n",
       "    </tr>\n",
       "    <tr>\n",
       "      <th>System Hosting Place</th>\n",
       "      <td>category</td>\n",
       "      <td>3</td>\n",
       "      <td>0</td>\n",
       "    </tr>\n",
       "    <tr>\n",
       "      <th>Mobile Compliance</th>\n",
       "      <td>category</td>\n",
       "      <td>3</td>\n",
       "      <td>0</td>\n",
       "    </tr>\n",
       "    <tr>\n",
       "      <th>Type of System</th>\n",
       "      <td>category</td>\n",
       "      <td>3</td>\n",
       "      <td>0</td>\n",
       "    </tr>\n",
       "    <tr>\n",
       "      <th>User Community</th>\n",
       "      <td>category</td>\n",
       "      <td>2</td>\n",
       "      <td>0</td>\n",
       "    </tr>\n",
       "    <tr>\n",
       "      <th>Development Type</th>\n",
       "      <td>category</td>\n",
       "      <td>2</td>\n",
       "      <td>0</td>\n",
       "    </tr>\n",
       "    <tr>\n",
       "      <th>Recommendation</th>\n",
       "      <td>category</td>\n",
       "      <td>4</td>\n",
       "      <td>0</td>\n",
       "    </tr>\n",
       "    <tr>\n",
       "      <th>Cloud Migration Strategy</th>\n",
       "      <td>category</td>\n",
       "      <td>6</td>\n",
       "      <td>0</td>\n",
       "    </tr>\n",
       "    <tr>\n",
       "      <th>Architecture Type</th>\n",
       "      <td>category</td>\n",
       "      <td>7</td>\n",
       "      <td>0</td>\n",
       "    </tr>\n",
       "    <tr>\n",
       "      <th>Mobile Compliance</th>\n",
       "      <td>category</td>\n",
       "      <td>3</td>\n",
       "      <td>0</td>\n",
       "    </tr>\n",
       "    <tr>\n",
       "      <th>Multi Language Support</th>\n",
       "      <td>category</td>\n",
       "      <td>2</td>\n",
       "      <td>0</td>\n",
       "    </tr>\n",
       "  </tbody>\n",
       "</table>\n",
       "</div>"
      ],
      "text/plain": [
       "                               Data Type  Unique Values  Duplicates\n",
       "Name                              object             98           0\n",
       "Short Name                        object             97           0\n",
       "Description                       object            100           0\n",
       "Business Owner                  category             20           0\n",
       "Technical Owner                 category             19           0\n",
       "Number of Users                   object             48           0\n",
       "Recovery Point Objective          object             14           0\n",
       "Recovery Time Objective           object             13           0\n",
       "Go Live Date              datetime64[ns]             39           0\n",
       "End of Support Date       datetime64[ns]             43           0\n",
       "SLA Type                        category              4           0\n",
       "Vendor                          category             30           0\n",
       "Status                          category              3           0\n",
       "AGF Classification              category              4           0\n",
       "DR Type                         category              5           0\n",
       "Required Availability           category              3           0\n",
       "System Hosting Place            category              3           0\n",
       "Mobile Compliance               category              3           0\n",
       "Type of System                  category              3           0\n",
       "User Community                  category              2           0\n",
       "Development Type                category              2           0\n",
       "Recommendation                  category              4           0\n",
       "Cloud Migration Strategy        category              6           0\n",
       "Architecture Type               category              7           0\n",
       "Mobile Compliance               category              3           0\n",
       "Multi Language Support          category              2           0"
      ]
     },
     "execution_count": 15,
     "metadata": {},
     "output_type": "execute_result"
    }
   ],
   "source": [
    "quality_issues"
   ]
  }
 ],
 "metadata": {
  "kaggle": {
   "accelerator": "none",
   "dataSources": [
    {
     "datasetId": 4619135,
     "sourceId": 7875668,
     "sourceType": "datasetVersion"
    }
   ],
   "dockerImageVersionId": 30664,
   "isGpuEnabled": false,
   "isInternetEnabled": true,
   "language": "python",
   "sourceType": "notebook"
  },
  "kernelspec": {
   "display_name": "Python 3",
   "language": "python",
   "name": "python3"
  },
  "language_info": {
   "codemirror_mode": {
    "name": "ipython",
    "version": 3
   },
   "file_extension": ".py",
   "mimetype": "text/x-python",
   "name": "python",
   "nbconvert_exporter": "python",
   "pygments_lexer": "ipython3",
   "version": "3.10.13"
  },
  "papermill": {
   "default_parameters": {},
   "duration": 7.183833,
   "end_time": "2024-03-18T16:54:55.149580",
   "environment_variables": {},
   "exception": null,
   "input_path": "__notebook__.ipynb",
   "output_path": "__notebook__.ipynb",
   "parameters": {},
   "start_time": "2024-03-18T16:54:47.965747",
   "version": "2.5.0"
  }
 },
 "nbformat": 4,
 "nbformat_minor": 5
}
