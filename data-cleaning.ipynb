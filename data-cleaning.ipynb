{
 "cells": [
  {
   "cell_type": "markdown",
   "id": "49a7d210",
   "metadata": {
    "papermill": {
     "duration": 0.011969,
     "end_time": "2024-03-19T08:30:10.981568",
     "exception": false,
     "start_time": "2024-03-19T08:30:10.969599",
     "status": "completed"
    },
    "tags": []
   },
   "source": [
    "# Import"
   ]
  },
  {
   "cell_type": "code",
   "execution_count": 1,
   "id": "118dde4d",
   "metadata": {
    "execution": {
     "iopub.execute_input": "2024-03-19T08:30:11.003927Z",
     "iopub.status.busy": "2024-03-19T08:30:11.003342Z",
     "iopub.status.idle": "2024-03-19T08:30:11.898266Z",
     "shell.execute_reply": "2024-03-19T08:30:11.897117Z"
    },
    "papermill": {
     "duration": 0.909237,
     "end_time": "2024-03-19T08:30:11.901037",
     "exception": false,
     "start_time": "2024-03-19T08:30:10.991800",
     "status": "completed"
    },
    "tags": []
   },
   "outputs": [],
   "source": [
    "import json\n",
    "import pandas as pd"
   ]
  },
  {
   "cell_type": "markdown",
   "id": "9a568eba",
   "metadata": {
    "papermill": {
     "duration": 0.010235,
     "end_time": "2024-03-19T08:30:11.921281",
     "exception": false,
     "start_time": "2024-03-19T08:30:11.911046",
     "status": "completed"
    },
    "tags": []
   },
   "source": [
    "# Constant"
   ]
  },
  {
   "cell_type": "code",
   "execution_count": 2,
   "id": "2e4ee546",
   "metadata": {
    "execution": {
     "iopub.execute_input": "2024-03-19T08:30:11.943752Z",
     "iopub.status.busy": "2024-03-19T08:30:11.942843Z",
     "iopub.status.idle": "2024-03-19T08:30:11.947825Z",
     "shell.execute_reply": "2024-03-19T08:30:11.946882Z"
    },
    "papermill": {
     "duration": 0.018743,
     "end_time": "2024-03-19T08:30:11.950286",
     "exception": false,
     "start_time": "2024-03-19T08:30:11.931543",
     "status": "completed"
    },
    "tags": []
   },
   "outputs": [],
   "source": [
    "CLEANED_DATA_PATH = '/kaggle/input/rta-dubai/sample_clean_application_data_2.xlsx'\n",
    "UNCLEANED_DATA_PATH = '/kaggle/input/rta-dubai/sample_unclean_application_data_v2.xlsx'\n",
    "METADATA_PATH = '/kaggle/input/rta-dubai/Application dataset.json'"
   ]
  },
  {
   "cell_type": "markdown",
   "id": "776ff602",
   "metadata": {
    "papermill": {
     "duration": 0.010028,
     "end_time": "2024-03-19T08:30:11.970367",
     "exception": false,
     "start_time": "2024-03-19T08:30:11.960339",
     "status": "completed"
    },
    "tags": []
   },
   "source": [
    "# Models"
   ]
  },
  {
   "cell_type": "code",
   "execution_count": 3,
   "id": "38a9f78f",
   "metadata": {
    "execution": {
     "iopub.execute_input": "2024-03-19T08:30:11.992544Z",
     "iopub.status.busy": "2024-03-19T08:30:11.991811Z",
     "iopub.status.idle": "2024-03-19T08:30:11.996514Z",
     "shell.execute_reply": "2024-03-19T08:30:11.995611Z"
    },
    "papermill": {
     "duration": 0.01871,
     "end_time": "2024-03-19T08:30:11.998794",
     "exception": false,
     "start_time": "2024-03-19T08:30:11.980084",
     "status": "completed"
    },
    "tags": []
   },
   "outputs": [],
   "source": [
    "class MetaData:\n",
    "    def __init__(self, data):\n",
    "        self.__dict__ = data"
   ]
  },
  {
   "cell_type": "markdown",
   "id": "c8b9a472",
   "metadata": {
    "papermill": {
     "duration": 0.009379,
     "end_time": "2024-03-19T08:30:12.018698",
     "exception": false,
     "start_time": "2024-03-19T08:30:12.009319",
     "status": "completed"
    },
    "tags": []
   },
   "source": [
    "# Helper Function"
   ]
  },
  {
   "cell_type": "code",
   "execution_count": 4,
   "id": "1b9e3aaa",
   "metadata": {
    "execution": {
     "iopub.execute_input": "2024-03-19T08:30:12.041113Z",
     "iopub.status.busy": "2024-03-19T08:30:12.040389Z",
     "iopub.status.idle": "2024-03-19T08:30:12.048324Z",
     "shell.execute_reply": "2024-03-19T08:30:12.047196Z"
    },
    "papermill": {
     "duration": 0.022341,
     "end_time": "2024-03-19T08:30:12.050652",
     "exception": false,
     "start_time": "2024-03-19T08:30:12.028311",
     "status": "completed"
    },
    "tags": []
   },
   "outputs": [],
   "source": [
    "def load_json_and_map_to_class(json_path):\n",
    "    try:\n",
    "        with open(json_path, 'r') as json_file:\n",
    "            data = json.load(json_file)\n",
    "            return MetaData(data)\n",
    "    except json.JSONDecodeError:\n",
    "        print(f\"Error: Unable to decode JSON from file '{file_path}'. File may be empty or not in valid JSON format.\")\n",
    "        return None\n",
    "\n",
    "\n",
    "def extract_column_attributes_for_column_name_mapping(metadata_json):\n",
    "    columns_meta_data = []\n",
    "    for column in metadata_json.attributes:\n",
    "        columns_meta_data.append({\n",
    "            \"name\": column['attribute_name'],\n",
    "            \"description\": column['description'], \n",
    "            \"synonyms\": column['synonyms']\n",
    "        })\n",
    "    return json.dumps(columns_meta_data)"
   ]
  },
  {
   "cell_type": "markdown",
   "id": "a08dc52f",
   "metadata": {
    "papermill": {
     "duration": 0.009413,
     "end_time": "2024-03-19T08:30:12.070126",
     "exception": false,
     "start_time": "2024-03-19T08:30:12.060713",
     "status": "completed"
    },
    "tags": []
   },
   "source": [
    "# Open AI Utils"
   ]
  },
  {
   "cell_type": "code",
   "execution_count": 5,
   "id": "95023e74",
   "metadata": {
    "execution": {
     "iopub.execute_input": "2024-03-19T08:30:12.091417Z",
     "iopub.status.busy": "2024-03-19T08:30:12.091022Z",
     "iopub.status.idle": "2024-03-19T08:30:12.100511Z",
     "shell.execute_reply": "2024-03-19T08:30:12.099391Z"
    },
    "papermill": {
     "duration": 0.023076,
     "end_time": "2024-03-19T08:30:12.102977",
     "exception": false,
     "start_time": "2024-03-19T08:30:12.079901",
     "status": "completed"
    },
    "tags": []
   },
   "outputs": [],
   "source": [
    "def map_column_names_wrt_meta_data(dataset_column_names):\n",
    "    '''\n",
    "-----------------------------------------------------------------------------\n",
    "params:\n",
    "dataset_column_names: unclean_dataset_column_names\n",
    "columns_meta_data_json: column attributes objects extracted from meta data\n",
    "-----------------------------------------------------------------------------\n",
    "<OPEN AI CALL WILL GO HERE>\n",
    "    \n",
    "Task: Consider below defined 'dataset_column_names'. Look up the 'columns_meta_data_json' and pick relevant column attribute_name w.r.t to the attribute description and synonyms context. Output should be a json with key as 'dataset_column_names' and value as attribute_name picked from columns_meta_data_json\n",
    "\n",
    "dataset_column_names: <COLUMN NAMES WOULD GO HERE...>\n",
    "columns_meta_data_json: \n",
    "[<ATTRIBUTE OBJECT(Name, Desc, Syn)>, <ATTRIBUTE OBJECT(Name, Desc, Syn)>, ...]\n",
    "\n",
    "Output Example: {'Old Column Name'': \"New Column Name\"}\n",
    "    '''\n",
    "    return {\n",
    "    \"Name\": \"Name\",\n",
    "    \"Short Name\": \"Short Name\",\n",
    "    \"Description\": \"Description\",\n",
    "    \"Business Owner\": \"Business Owner\",\n",
    "    \"Technical Owner\": \"Technical Owner\",\n",
    "    \"# users\": \"Number of Users\",\n",
    "    \"RPO\": \"Recovery Point Objective\",\n",
    "    \"RTO\": \"Recovery Time Objective\",\n",
    "    \"start date\": \"Go Live Date\",\n",
    "    \"end date\": \"End of Support Date\",\n",
    "    \"SLA\": \"SLA Type\",\n",
    "    \"Vendor\": \"Vendor\",\n",
    "    \"Status\": \"Status\",\n",
    "    \"AGF score\": \"AGF Classification\",\n",
    "    \"DR TYpe\": \"DR Type\",\n",
    "    \"Required Availability\": \"Required Availability\",\n",
    "    \"location\": \"System Hosting Place\",\n",
    "    \"I/X\": \"User Community\",\n",
    "    \"Type of System (Gartner)\": \"Type of System\",\n",
    "    \"Across RTA?\": \"Enterprise Level\",\n",
    "    \"commercial or customized\": \"Development Type\",\n",
    "    \"Recommendation\": \"Recommendation\",\n",
    "    \"Cloud Migration plan\": \"Cloud Migration Strategy\",\n",
    "    \"Type\": \"Architecture Type\",\n",
    "    \"Mobile compatible\": \"Mobile Compliance\",\n",
    "    \"support many langs\": \"Multi Language Support\"\n",
    "}"
   ]
  },
  {
   "cell_type": "markdown",
   "id": "bf7350e0",
   "metadata": {
    "papermill": {
     "duration": 0.009614,
     "end_time": "2024-03-19T08:30:12.122425",
     "exception": false,
     "start_time": "2024-03-19T08:30:12.112811",
     "status": "completed"
    },
    "tags": []
   },
   "source": [
    "# Pipeline\n",
    "\n",
    "1. Extract **unclean dataset column names** and **attributes objects** from the meta-data.\n",
    "2. Use Open-AI to map **column new names** w.r.t to the provided meta-data.\n",
    "3. Change columns names."
   ]
  },
  {
   "cell_type": "markdown",
   "id": "60c87504",
   "metadata": {
    "papermill": {
     "duration": 0.009213,
     "end_time": "2024-03-19T08:30:12.141388",
     "exception": false,
     "start_time": "2024-03-19T08:30:12.132175",
     "status": "completed"
    },
    "tags": []
   },
   "source": [
    "# Code"
   ]
  },
  {
   "cell_type": "code",
   "execution_count": 6,
   "id": "dab8fc65",
   "metadata": {
    "execution": {
     "iopub.execute_input": "2024-03-19T08:30:12.163847Z",
     "iopub.status.busy": "2024-03-19T08:30:12.163179Z",
     "iopub.status.idle": "2024-03-19T08:30:12.812350Z",
     "shell.execute_reply": "2024-03-19T08:30:12.810897Z"
    },
    "papermill": {
     "duration": 0.665059,
     "end_time": "2024-03-19T08:30:12.816693",
     "exception": false,
     "start_time": "2024-03-19T08:30:12.151634",
     "status": "completed"
    },
    "tags": []
   },
   "outputs": [
    {
     "name": "stdout",
     "output_type": "stream",
     "text": [
      "<class 'pandas.core.frame.DataFrame'>\n",
      "RangeIndex: 100 entries, 0 to 99\n",
      "Data columns (total 27 columns):\n",
      " #   Column                    Non-Null Count  Dtype         \n",
      "---  ------                    --------------  -----         \n",
      " 0   Name                      100 non-null    object        \n",
      " 1   Short Name                100 non-null    object        \n",
      " 2   Description               100 non-null    object        \n",
      " 3   Business Owner            100 non-null    object        \n",
      " 4   Technical Owner           100 non-null    object        \n",
      " 5   Number of Users           56 non-null     object        \n",
      " 6   Recovery Point Objective  26 non-null     object        \n",
      " 7   Recovery Time Objective   27 non-null     object        \n",
      " 8   Go Live Date              57 non-null     datetime64[ns]\n",
      " 9   End of Support Date       58 non-null     datetime64[ns]\n",
      " 10  SLA Type                  33 non-null     object        \n",
      " 11  Vendor                    100 non-null    object        \n",
      " 12  Status                    100 non-null    object        \n",
      " 13  AGF Classification        93 non-null     object        \n",
      " 14  DR TYpe                   20 non-null     object        \n",
      " 15  Required Availability     45 non-null     object        \n",
      " 16  System Hosting Place      62 non-null     object        \n",
      " 17  User Community            84 non-null     object        \n",
      " 18  Type of System            68 non-null     object        \n",
      " 19  Enterprise Level          84 non-null     object        \n",
      " 20  Development Type          100 non-null    object        \n",
      " 21  Recommendation            100 non-null    object        \n",
      " 22  Cloud Migration Strategy  100 non-null    object        \n",
      " 23  Architecture Type         100 non-null    object        \n",
      " 24  Mobile Compliance         76 non-null     object        \n",
      " 25  Multi Language Support    100 non-null    object        \n",
      " 26  Application Age           57 non-null     float64       \n",
      "dtypes: datetime64[ns](2), float64(1), object(24)\n",
      "memory usage: 21.2+ KB\n"
     ]
    }
   ],
   "source": [
    "df_cleaned = pd.read_excel(CLEANED_DATA_PATH)\n",
    "df_cleaned.info()"
   ]
  },
  {
   "cell_type": "code",
   "execution_count": 7,
   "id": "91776797",
   "metadata": {
    "execution": {
     "iopub.execute_input": "2024-03-19T08:30:12.845300Z",
     "iopub.status.busy": "2024-03-19T08:30:12.844094Z",
     "iopub.status.idle": "2024-03-19T08:30:13.021626Z",
     "shell.execute_reply": "2024-03-19T08:30:13.020366Z"
    },
    "papermill": {
     "duration": 0.194053,
     "end_time": "2024-03-19T08:30:13.025221",
     "exception": false,
     "start_time": "2024-03-19T08:30:12.831168",
     "status": "completed"
    },
    "tags": []
   },
   "outputs": [
    {
     "name": "stdout",
     "output_type": "stream",
     "text": [
      "<class 'pandas.core.frame.DataFrame'>\n",
      "RangeIndex: 100 entries, 0 to 99\n",
      "Data columns (total 26 columns):\n",
      " #   Column                    Non-Null Count  Dtype         \n",
      "---  ------                    --------------  -----         \n",
      " 0   Name                      100 non-null    object        \n",
      " 1   Short Name                100 non-null    object        \n",
      " 2   Description               100 non-null    object        \n",
      " 3   Business Owner            100 non-null    object        \n",
      " 4   Technical Owner           100 non-null    object        \n",
      " 5   # users                   56 non-null     object        \n",
      " 6   RPO                       26 non-null     object        \n",
      " 7   RTO                       27 non-null     object        \n",
      " 8   start date                57 non-null     datetime64[ns]\n",
      " 9   end date                  58 non-null     datetime64[ns]\n",
      " 10  SLA                       33 non-null     object        \n",
      " 11  Vendor                    100 non-null    object        \n",
      " 12  Status                    88 non-null     object        \n",
      " 13  AGF score                 93 non-null     object        \n",
      " 14  DR TYpe                   28 non-null     object        \n",
      " 15  Required Availability     45 non-null     object        \n",
      " 16  location                  62 non-null     object        \n",
      " 17  I/X                       84 non-null     object        \n",
      " 18  Type of System (Gartner)  68 non-null     object        \n",
      " 19  Across RTA?               84 non-null     object        \n",
      " 20  commercial or customized  100 non-null    object        \n",
      " 21  Recommendation            100 non-null    object        \n",
      " 22  Cloud Migration plan      100 non-null    object        \n",
      " 23  Type                      100 non-null    object        \n",
      " 24  Mobile compatible         78 non-null     object        \n",
      " 25  support many langs        100 non-null    object        \n",
      "dtypes: datetime64[ns](2), object(24)\n",
      "memory usage: 20.4+ KB\n"
     ]
    }
   ],
   "source": [
    "df_uncleaned = pd.read_excel(UNCLEANED_DATA_PATH)\n",
    "df_uncleaned.info()"
   ]
  },
  {
   "cell_type": "code",
   "execution_count": 8,
   "id": "d974bf3f",
   "metadata": {
    "execution": {
     "iopub.execute_input": "2024-03-19T08:30:13.051239Z",
     "iopub.status.busy": "2024-03-19T08:30:13.050741Z",
     "iopub.status.idle": "2024-03-19T08:30:13.065644Z",
     "shell.execute_reply": "2024-03-19T08:30:13.064573Z"
    },
    "papermill": {
     "duration": 0.029635,
     "end_time": "2024-03-19T08:30:13.068299",
     "exception": false,
     "start_time": "2024-03-19T08:30:13.038664",
     "status": "completed"
    },
    "tags": []
   },
   "outputs": [
    {
     "data": {
      "text/plain": [
       "<__main__.MetaData at 0x7b6cbdb39510>"
      ]
     },
     "execution_count": 8,
     "metadata": {},
     "output_type": "execute_result"
    }
   ],
   "source": [
    "metadata_json = load_json_and_map_to_class(METADATA_PATH)\n",
    "metadata_json"
   ]
  },
  {
   "cell_type": "markdown",
   "id": "8f32faf3",
   "metadata": {
    "papermill": {
     "duration": 0.010162,
     "end_time": "2024-03-19T08:30:13.088987",
     "exception": false,
     "start_time": "2024-03-19T08:30:13.078825",
     "status": "completed"
    },
    "tags": []
   },
   "source": [
    "### 1. Conversion of un-cleaned data column names w.r.t to the metadata context\n",
    "1. Extract **unclean dataset column names** and **attributes objects** from the meta-data.\n",
    "2. Use Open-AI to map **column new names** w.r.t to the provided meta-data.\n",
    "3. Change columns names."
   ]
  },
  {
   "cell_type": "code",
   "execution_count": 9,
   "id": "c64c42f8",
   "metadata": {
    "execution": {
     "iopub.execute_input": "2024-03-19T08:30:13.112369Z",
     "iopub.status.busy": "2024-03-19T08:30:13.111418Z",
     "iopub.status.idle": "2024-03-19T08:30:13.118570Z",
     "shell.execute_reply": "2024-03-19T08:30:13.117513Z"
    },
    "papermill": {
     "duration": 0.021637,
     "end_time": "2024-03-19T08:30:13.121057",
     "exception": false,
     "start_time": "2024-03-19T08:30:13.099420",
     "status": "completed"
    },
    "tags": []
   },
   "outputs": [],
   "source": [
    "# Extract old column names\n",
    "uncleaned_column_old_names = ','.join(df_uncleaned.columns)\n",
    "\n",
    "# Use Open-Ai to map new column names w.r.t to context\n",
    "uncleaned_column_new_names = map_column_names_wrt_meta_data(uncleaned_column_old_names)\n",
    "\n",
    "# Rename columns\n",
    "df_uncleaned.rename(columns=uncleaned_column_new_names, inplace=True)"
   ]
  },
  {
   "cell_type": "markdown",
   "id": "68d04efb",
   "metadata": {
    "papermill": {
     "duration": 0.009964,
     "end_time": "2024-03-19T08:30:13.141229",
     "exception": false,
     "start_time": "2024-03-19T08:30:13.131265",
     "status": "completed"
    },
    "tags": []
   },
   "source": [
    "### 2. Convert column types w.r.t to the metadata defined attribute type\n",
    "1. Go here..."
   ]
  },
  {
   "cell_type": "code",
   "execution_count": 10,
   "id": "1e25f727",
   "metadata": {
    "execution": {
     "iopub.execute_input": "2024-03-19T08:30:13.166841Z",
     "iopub.status.busy": "2024-03-19T08:30:13.165847Z",
     "iopub.status.idle": "2024-03-19T08:30:13.196545Z",
     "shell.execute_reply": "2024-03-19T08:30:13.195345Z"
    },
    "papermill": {
     "duration": 0.046377,
     "end_time": "2024-03-19T08:30:13.199415",
     "exception": false,
     "start_time": "2024-03-19T08:30:13.153038",
     "status": "completed"
    },
    "tags": []
   },
   "outputs": [],
   "source": [
    "for column in metadata_json.attributes:\n",
    "    if column['attribute_name'] in df_uncleaned.columns:\n",
    "#         if column['data_type'].lower() == \"string\":\n",
    "#             new_test_df[column[\"attribute_name\"]] = df_uncleaned[column[\"attribute_name\"]].astype(str)\n",
    "#         elif column['data_type'].lower() == \"int\":\n",
    "#             new_test_df[\"attribute_name\"] = df_uncleaned[column[\"attribute_name\"]].apply(lambda x: int(x.replace(',', '')) if isinstance(x, str) and ',' in x else x)\n",
    "#             new_test_df[column[\"attribute_name\"]] = df_uncleaned[column[\"attribute_name\"]].fillna(-1).astype(int)\n",
    "        if column['data_type'].lower() == \"enum\":\n",
    "            # Convert type to enum\n",
    "            df_uncleaned[column[\"attribute_name\"]] = df_uncleaned[column[\"attribute_name\"]].astype('category')\n",
    "            # Check if enum value transformation required\n",
    "            if column['is_transformation_required']:\n",
    "                df_uncleaned[column[\"attribute_name\"]] = df_uncleaned[column[\"attribute_name\"]].str.lower().map(column['values'])\n",
    "        elif column['data_type'].lower() == \"date\":\n",
    "            df_uncleaned[column[\"attribute_name\"]] = df_uncleaned[column[\"attribute_name\"]].astype('datetime64[ns]')"
   ]
  },
  {
   "cell_type": "code",
   "execution_count": 11,
   "id": "d6f48394",
   "metadata": {
    "execution": {
     "iopub.execute_input": "2024-03-19T08:30:13.223662Z",
     "iopub.status.busy": "2024-03-19T08:30:13.222758Z",
     "iopub.status.idle": "2024-03-19T08:30:13.233183Z",
     "shell.execute_reply": "2024-03-19T08:30:13.232154Z"
    },
    "papermill": {
     "duration": 0.025526,
     "end_time": "2024-03-19T08:30:13.235531",
     "exception": false,
     "start_time": "2024-03-19T08:30:13.210005",
     "status": "completed"
    },
    "tags": []
   },
   "outputs": [
    {
     "data": {
      "text/plain": [
       "Name                                object\n",
       "Short Name                          object\n",
       "Description                         object\n",
       "Business Owner                    category\n",
       "Technical Owner                   category\n",
       "Number of Users                     object\n",
       "Recovery Point Objective            object\n",
       "Recovery Time Objective             object\n",
       "Go Live Date                datetime64[ns]\n",
       "End of Support Date         datetime64[ns]\n",
       "SLA Type                          category\n",
       "Vendor                            category\n",
       "Status                            category\n",
       "AGF Classification                  object\n",
       "DR Type                             object\n",
       "Required Availability             category\n",
       "System Hosting Place              category\n",
       "User Community                      object\n",
       "Type of System                    category\n",
       "Enterprise Level                  category\n",
       "Development Type                    object\n",
       "Recommendation                    category\n",
       "Cloud Migration Strategy          category\n",
       "Architecture Type                 category\n",
       "Mobile Compliance                 category\n",
       "Multi Language Support            category\n",
       "dtype: object"
      ]
     },
     "execution_count": 11,
     "metadata": {},
     "output_type": "execute_result"
    }
   ],
   "source": [
    "df_uncleaned.dtypes"
   ]
  },
  {
   "cell_type": "markdown",
   "id": "9bf28662",
   "metadata": {
    "papermill": {
     "duration": 0.010607,
     "end_time": "2024-03-19T08:30:13.256672",
     "exception": false,
     "start_time": "2024-03-19T08:30:13.246065",
     "status": "completed"
    },
    "tags": []
   },
   "source": [
    "## 3. Data card"
   ]
  },
  {
   "cell_type": "code",
   "execution_count": 12,
   "id": "b9426e10",
   "metadata": {
    "execution": {
     "iopub.execute_input": "2024-03-19T08:30:13.280522Z",
     "iopub.status.busy": "2024-03-19T08:30:13.279582Z",
     "iopub.status.idle": "2024-03-19T08:30:13.312433Z",
     "shell.execute_reply": "2024-03-19T08:30:13.311300Z"
    },
    "papermill": {
     "duration": 0.047843,
     "end_time": "2024-03-19T08:30:13.315395",
     "exception": false,
     "start_time": "2024-03-19T08:30:13.267552",
     "status": "completed"
    },
    "tags": []
   },
   "outputs": [],
   "source": [
    "# Scorecard Summary\n",
    "summary = df_uncleaned.describe()\n",
    "\n",
    "# Data Completeness\n",
    "completeness = (df_uncleaned.isnull().mean() * 100).rename('Missing Values %')  # Percentage of missing values per column\n",
    "completeness = pd.DataFrame(completeness)  # Convert completeness Series to DataFrame\n",
    "\n",
    "# Quality Issues\n",
    "quality_issues = pd.DataFrame({\n",
    "    'Data Type': df_uncleaned.dtypes,\n",
    "    'Unique Values': df_uncleaned.nunique(),\n",
    "    'Duplicates': df_uncleaned.duplicated().sum()\n",
    "})"
   ]
  },
  {
   "cell_type": "code",
   "execution_count": 13,
   "id": "192c09d4",
   "metadata": {
    "execution": {
     "iopub.execute_input": "2024-03-19T08:30:13.338356Z",
     "iopub.status.busy": "2024-03-19T08:30:13.337967Z",
     "iopub.status.idle": "2024-03-19T08:30:13.353714Z",
     "shell.execute_reply": "2024-03-19T08:30:13.352655Z"
    },
    "papermill": {
     "duration": 0.030495,
     "end_time": "2024-03-19T08:30:13.356741",
     "exception": false,
     "start_time": "2024-03-19T08:30:13.326246",
     "status": "completed"
    },
    "tags": []
   },
   "outputs": [
    {
     "data": {
      "text/html": [
       "<div>\n",
       "<style scoped>\n",
       "    .dataframe tbody tr th:only-of-type {\n",
       "        vertical-align: middle;\n",
       "    }\n",
       "\n",
       "    .dataframe tbody tr th {\n",
       "        vertical-align: top;\n",
       "    }\n",
       "\n",
       "    .dataframe thead th {\n",
       "        text-align: right;\n",
       "    }\n",
       "</style>\n",
       "<table border=\"1\" class=\"dataframe\">\n",
       "  <thead>\n",
       "    <tr style=\"text-align: right;\">\n",
       "      <th></th>\n",
       "      <th>Go Live Date</th>\n",
       "      <th>End of Support Date</th>\n",
       "    </tr>\n",
       "  </thead>\n",
       "  <tbody>\n",
       "    <tr>\n",
       "      <th>count</th>\n",
       "      <td>57</td>\n",
       "      <td>58</td>\n",
       "    </tr>\n",
       "    <tr>\n",
       "      <th>mean</th>\n",
       "      <td>2014-09-04 05:03:09.473684224</td>\n",
       "      <td>2023-10-29 02:04:08.275862016</td>\n",
       "    </tr>\n",
       "    <tr>\n",
       "      <th>min</th>\n",
       "      <td>2004-01-01 00:00:00</td>\n",
       "      <td>2015-01-01 00:00:00</td>\n",
       "    </tr>\n",
       "    <tr>\n",
       "      <th>25%</th>\n",
       "      <td>2010-01-01 00:00:00</td>\n",
       "      <td>2023-01-12 06:00:00</td>\n",
       "    </tr>\n",
       "    <tr>\n",
       "      <th>50%</th>\n",
       "      <td>2015-01-01 00:00:00</td>\n",
       "      <td>2024-02-17 12:00:00</td>\n",
       "    </tr>\n",
       "    <tr>\n",
       "      <th>75%</th>\n",
       "      <td>2018-11-01 00:00:00</td>\n",
       "      <td>2024-11-30 00:00:00</td>\n",
       "    </tr>\n",
       "    <tr>\n",
       "      <th>max</th>\n",
       "      <td>2023-07-28 00:00:00</td>\n",
       "      <td>2036-11-09 00:00:00</td>\n",
       "    </tr>\n",
       "  </tbody>\n",
       "</table>\n",
       "</div>"
      ],
      "text/plain": [
       "                        Go Live Date            End of Support Date\n",
       "count                             57                             58\n",
       "mean   2014-09-04 05:03:09.473684224  2023-10-29 02:04:08.275862016\n",
       "min              2004-01-01 00:00:00            2015-01-01 00:00:00\n",
       "25%              2010-01-01 00:00:00            2023-01-12 06:00:00\n",
       "50%              2015-01-01 00:00:00            2024-02-17 12:00:00\n",
       "75%              2018-11-01 00:00:00            2024-11-30 00:00:00\n",
       "max              2023-07-28 00:00:00            2036-11-09 00:00:00"
      ]
     },
     "execution_count": 13,
     "metadata": {},
     "output_type": "execute_result"
    }
   ],
   "source": [
    "summary"
   ]
  },
  {
   "cell_type": "code",
   "execution_count": 14,
   "id": "7de0e453",
   "metadata": {
    "execution": {
     "iopub.execute_input": "2024-03-19T08:30:13.385555Z",
     "iopub.status.busy": "2024-03-19T08:30:13.384387Z",
     "iopub.status.idle": "2024-03-19T08:30:13.399176Z",
     "shell.execute_reply": "2024-03-19T08:30:13.398043Z"
    },
    "papermill": {
     "duration": 0.02979,
     "end_time": "2024-03-19T08:30:13.401614",
     "exception": false,
     "start_time": "2024-03-19T08:30:13.371824",
     "status": "completed"
    },
    "tags": []
   },
   "outputs": [
    {
     "data": {
      "text/html": [
       "<div>\n",
       "<style scoped>\n",
       "    .dataframe tbody tr th:only-of-type {\n",
       "        vertical-align: middle;\n",
       "    }\n",
       "\n",
       "    .dataframe tbody tr th {\n",
       "        vertical-align: top;\n",
       "    }\n",
       "\n",
       "    .dataframe thead th {\n",
       "        text-align: right;\n",
       "    }\n",
       "</style>\n",
       "<table border=\"1\" class=\"dataframe\">\n",
       "  <thead>\n",
       "    <tr style=\"text-align: right;\">\n",
       "      <th></th>\n",
       "      <th>Missing Values %</th>\n",
       "    </tr>\n",
       "  </thead>\n",
       "  <tbody>\n",
       "    <tr>\n",
       "      <th>Name</th>\n",
       "      <td>0.0</td>\n",
       "    </tr>\n",
       "    <tr>\n",
       "      <th>Short Name</th>\n",
       "      <td>0.0</td>\n",
       "    </tr>\n",
       "    <tr>\n",
       "      <th>Description</th>\n",
       "      <td>0.0</td>\n",
       "    </tr>\n",
       "    <tr>\n",
       "      <th>Business Owner</th>\n",
       "      <td>0.0</td>\n",
       "    </tr>\n",
       "    <tr>\n",
       "      <th>Technical Owner</th>\n",
       "      <td>0.0</td>\n",
       "    </tr>\n",
       "    <tr>\n",
       "      <th>Number of Users</th>\n",
       "      <td>44.0</td>\n",
       "    </tr>\n",
       "    <tr>\n",
       "      <th>Recovery Point Objective</th>\n",
       "      <td>74.0</td>\n",
       "    </tr>\n",
       "    <tr>\n",
       "      <th>Recovery Time Objective</th>\n",
       "      <td>73.0</td>\n",
       "    </tr>\n",
       "    <tr>\n",
       "      <th>Go Live Date</th>\n",
       "      <td>43.0</td>\n",
       "    </tr>\n",
       "    <tr>\n",
       "      <th>End of Support Date</th>\n",
       "      <td>42.0</td>\n",
       "    </tr>\n",
       "    <tr>\n",
       "      <th>SLA Type</th>\n",
       "      <td>67.0</td>\n",
       "    </tr>\n",
       "    <tr>\n",
       "      <th>Vendor</th>\n",
       "      <td>0.0</td>\n",
       "    </tr>\n",
       "    <tr>\n",
       "      <th>Status</th>\n",
       "      <td>12.0</td>\n",
       "    </tr>\n",
       "    <tr>\n",
       "      <th>AGF Classification</th>\n",
       "      <td>74.0</td>\n",
       "    </tr>\n",
       "    <tr>\n",
       "      <th>DR Type</th>\n",
       "      <td>72.0</td>\n",
       "    </tr>\n",
       "    <tr>\n",
       "      <th>Required Availability</th>\n",
       "      <td>55.0</td>\n",
       "    </tr>\n",
       "    <tr>\n",
       "      <th>System Hosting Place</th>\n",
       "      <td>38.0</td>\n",
       "    </tr>\n",
       "    <tr>\n",
       "      <th>User Community</th>\n",
       "      <td>16.0</td>\n",
       "    </tr>\n",
       "    <tr>\n",
       "      <th>Type of System</th>\n",
       "      <td>32.0</td>\n",
       "    </tr>\n",
       "    <tr>\n",
       "      <th>Enterprise Level</th>\n",
       "      <td>16.0</td>\n",
       "    </tr>\n",
       "    <tr>\n",
       "      <th>Development Type</th>\n",
       "      <td>0.0</td>\n",
       "    </tr>\n",
       "    <tr>\n",
       "      <th>Recommendation</th>\n",
       "      <td>0.0</td>\n",
       "    </tr>\n",
       "    <tr>\n",
       "      <th>Cloud Migration Strategy</th>\n",
       "      <td>0.0</td>\n",
       "    </tr>\n",
       "    <tr>\n",
       "      <th>Architecture Type</th>\n",
       "      <td>0.0</td>\n",
       "    </tr>\n",
       "    <tr>\n",
       "      <th>Mobile Compliance</th>\n",
       "      <td>22.0</td>\n",
       "    </tr>\n",
       "    <tr>\n",
       "      <th>Multi Language Support</th>\n",
       "      <td>0.0</td>\n",
       "    </tr>\n",
       "  </tbody>\n",
       "</table>\n",
       "</div>"
      ],
      "text/plain": [
       "                          Missing Values %\n",
       "Name                                   0.0\n",
       "Short Name                             0.0\n",
       "Description                            0.0\n",
       "Business Owner                         0.0\n",
       "Technical Owner                        0.0\n",
       "Number of Users                       44.0\n",
       "Recovery Point Objective              74.0\n",
       "Recovery Time Objective               73.0\n",
       "Go Live Date                          43.0\n",
       "End of Support Date                   42.0\n",
       "SLA Type                              67.0\n",
       "Vendor                                 0.0\n",
       "Status                                12.0\n",
       "AGF Classification                    74.0\n",
       "DR Type                               72.0\n",
       "Required Availability                 55.0\n",
       "System Hosting Place                  38.0\n",
       "User Community                        16.0\n",
       "Type of System                        32.0\n",
       "Enterprise Level                      16.0\n",
       "Development Type                       0.0\n",
       "Recommendation                         0.0\n",
       "Cloud Migration Strategy               0.0\n",
       "Architecture Type                      0.0\n",
       "Mobile Compliance                     22.0\n",
       "Multi Language Support                 0.0"
      ]
     },
     "execution_count": 14,
     "metadata": {},
     "output_type": "execute_result"
    }
   ],
   "source": [
    "completeness"
   ]
  },
  {
   "cell_type": "code",
   "execution_count": 15,
   "id": "701b0695",
   "metadata": {
    "execution": {
     "iopub.execute_input": "2024-03-19T08:30:13.426017Z",
     "iopub.status.busy": "2024-03-19T08:30:13.425214Z",
     "iopub.status.idle": "2024-03-19T08:30:13.440801Z",
     "shell.execute_reply": "2024-03-19T08:30:13.438289Z"
    },
    "papermill": {
     "duration": 0.031306,
     "end_time": "2024-03-19T08:30:13.443950",
     "exception": false,
     "start_time": "2024-03-19T08:30:13.412644",
     "status": "completed"
    },
    "tags": []
   },
   "outputs": [
    {
     "data": {
      "text/html": [
       "<div>\n",
       "<style scoped>\n",
       "    .dataframe tbody tr th:only-of-type {\n",
       "        vertical-align: middle;\n",
       "    }\n",
       "\n",
       "    .dataframe tbody tr th {\n",
       "        vertical-align: top;\n",
       "    }\n",
       "\n",
       "    .dataframe thead th {\n",
       "        text-align: right;\n",
       "    }\n",
       "</style>\n",
       "<table border=\"1\" class=\"dataframe\">\n",
       "  <thead>\n",
       "    <tr style=\"text-align: right;\">\n",
       "      <th></th>\n",
       "      <th>Data Type</th>\n",
       "      <th>Unique Values</th>\n",
       "      <th>Duplicates</th>\n",
       "    </tr>\n",
       "  </thead>\n",
       "  <tbody>\n",
       "    <tr>\n",
       "      <th>Name</th>\n",
       "      <td>object</td>\n",
       "      <td>98</td>\n",
       "      <td>0</td>\n",
       "    </tr>\n",
       "    <tr>\n",
       "      <th>Short Name</th>\n",
       "      <td>object</td>\n",
       "      <td>97</td>\n",
       "      <td>0</td>\n",
       "    </tr>\n",
       "    <tr>\n",
       "      <th>Description</th>\n",
       "      <td>object</td>\n",
       "      <td>100</td>\n",
       "      <td>0</td>\n",
       "    </tr>\n",
       "    <tr>\n",
       "      <th>Business Owner</th>\n",
       "      <td>category</td>\n",
       "      <td>20</td>\n",
       "      <td>0</td>\n",
       "    </tr>\n",
       "    <tr>\n",
       "      <th>Technical Owner</th>\n",
       "      <td>category</td>\n",
       "      <td>19</td>\n",
       "      <td>0</td>\n",
       "    </tr>\n",
       "    <tr>\n",
       "      <th>Number of Users</th>\n",
       "      <td>object</td>\n",
       "      <td>48</td>\n",
       "      <td>0</td>\n",
       "    </tr>\n",
       "    <tr>\n",
       "      <th>Recovery Point Objective</th>\n",
       "      <td>object</td>\n",
       "      <td>14</td>\n",
       "      <td>0</td>\n",
       "    </tr>\n",
       "    <tr>\n",
       "      <th>Recovery Time Objective</th>\n",
       "      <td>object</td>\n",
       "      <td>13</td>\n",
       "      <td>0</td>\n",
       "    </tr>\n",
       "    <tr>\n",
       "      <th>Go Live Date</th>\n",
       "      <td>datetime64[ns]</td>\n",
       "      <td>39</td>\n",
       "      <td>0</td>\n",
       "    </tr>\n",
       "    <tr>\n",
       "      <th>End of Support Date</th>\n",
       "      <td>datetime64[ns]</td>\n",
       "      <td>43</td>\n",
       "      <td>0</td>\n",
       "    </tr>\n",
       "    <tr>\n",
       "      <th>SLA Type</th>\n",
       "      <td>category</td>\n",
       "      <td>4</td>\n",
       "      <td>0</td>\n",
       "    </tr>\n",
       "    <tr>\n",
       "      <th>Vendor</th>\n",
       "      <td>category</td>\n",
       "      <td>30</td>\n",
       "      <td>0</td>\n",
       "    </tr>\n",
       "    <tr>\n",
       "      <th>Status</th>\n",
       "      <td>category</td>\n",
       "      <td>3</td>\n",
       "      <td>0</td>\n",
       "    </tr>\n",
       "    <tr>\n",
       "      <th>AGF Classification</th>\n",
       "      <td>object</td>\n",
       "      <td>1</td>\n",
       "      <td>0</td>\n",
       "    </tr>\n",
       "    <tr>\n",
       "      <th>DR Type</th>\n",
       "      <td>object</td>\n",
       "      <td>4</td>\n",
       "      <td>0</td>\n",
       "    </tr>\n",
       "    <tr>\n",
       "      <th>Required Availability</th>\n",
       "      <td>category</td>\n",
       "      <td>3</td>\n",
       "      <td>0</td>\n",
       "    </tr>\n",
       "    <tr>\n",
       "      <th>System Hosting Place</th>\n",
       "      <td>category</td>\n",
       "      <td>3</td>\n",
       "      <td>0</td>\n",
       "    </tr>\n",
       "    <tr>\n",
       "      <th>User Community</th>\n",
       "      <td>object</td>\n",
       "      <td>3</td>\n",
       "      <td>0</td>\n",
       "    </tr>\n",
       "    <tr>\n",
       "      <th>Type of System</th>\n",
       "      <td>category</td>\n",
       "      <td>3</td>\n",
       "      <td>0</td>\n",
       "    </tr>\n",
       "    <tr>\n",
       "      <th>Enterprise Level</th>\n",
       "      <td>category</td>\n",
       "      <td>2</td>\n",
       "      <td>0</td>\n",
       "    </tr>\n",
       "    <tr>\n",
       "      <th>Development Type</th>\n",
       "      <td>object</td>\n",
       "      <td>2</td>\n",
       "      <td>0</td>\n",
       "    </tr>\n",
       "    <tr>\n",
       "      <th>Recommendation</th>\n",
       "      <td>category</td>\n",
       "      <td>4</td>\n",
       "      <td>0</td>\n",
       "    </tr>\n",
       "    <tr>\n",
       "      <th>Cloud Migration Strategy</th>\n",
       "      <td>category</td>\n",
       "      <td>6</td>\n",
       "      <td>0</td>\n",
       "    </tr>\n",
       "    <tr>\n",
       "      <th>Architecture Type</th>\n",
       "      <td>category</td>\n",
       "      <td>7</td>\n",
       "      <td>0</td>\n",
       "    </tr>\n",
       "    <tr>\n",
       "      <th>Mobile Compliance</th>\n",
       "      <td>category</td>\n",
       "      <td>3</td>\n",
       "      <td>0</td>\n",
       "    </tr>\n",
       "    <tr>\n",
       "      <th>Multi Language Support</th>\n",
       "      <td>category</td>\n",
       "      <td>2</td>\n",
       "      <td>0</td>\n",
       "    </tr>\n",
       "  </tbody>\n",
       "</table>\n",
       "</div>"
      ],
      "text/plain": [
       "                               Data Type  Unique Values  Duplicates\n",
       "Name                              object             98           0\n",
       "Short Name                        object             97           0\n",
       "Description                       object            100           0\n",
       "Business Owner                  category             20           0\n",
       "Technical Owner                 category             19           0\n",
       "Number of Users                   object             48           0\n",
       "Recovery Point Objective          object             14           0\n",
       "Recovery Time Objective           object             13           0\n",
       "Go Live Date              datetime64[ns]             39           0\n",
       "End of Support Date       datetime64[ns]             43           0\n",
       "SLA Type                        category              4           0\n",
       "Vendor                          category             30           0\n",
       "Status                          category              3           0\n",
       "AGF Classification                object              1           0\n",
       "DR Type                           object              4           0\n",
       "Required Availability           category              3           0\n",
       "System Hosting Place            category              3           0\n",
       "User Community                    object              3           0\n",
       "Type of System                  category              3           0\n",
       "Enterprise Level                category              2           0\n",
       "Development Type                  object              2           0\n",
       "Recommendation                  category              4           0\n",
       "Cloud Migration Strategy        category              6           0\n",
       "Architecture Type               category              7           0\n",
       "Mobile Compliance               category              3           0\n",
       "Multi Language Support          category              2           0"
      ]
     },
     "execution_count": 15,
     "metadata": {},
     "output_type": "execute_result"
    }
   ],
   "source": [
    "quality_issues"
   ]
  },
  {
   "cell_type": "code",
   "execution_count": 16,
   "id": "d0c6e66d",
   "metadata": {
    "execution": {
     "iopub.execute_input": "2024-03-19T08:30:13.468662Z",
     "iopub.status.busy": "2024-03-19T08:30:13.468248Z",
     "iopub.status.idle": "2024-03-19T08:30:13.505165Z",
     "shell.execute_reply": "2024-03-19T08:30:13.504036Z"
    },
    "papermill": {
     "duration": 0.052293,
     "end_time": "2024-03-19T08:30:13.507787",
     "exception": false,
     "start_time": "2024-03-19T08:30:13.455494",
     "status": "completed"
    },
    "tags": []
   },
   "outputs": [
    {
     "data": {
      "text/html": [
       "<div>\n",
       "<style scoped>\n",
       "    .dataframe tbody tr th:only-of-type {\n",
       "        vertical-align: middle;\n",
       "    }\n",
       "\n",
       "    .dataframe tbody tr th {\n",
       "        vertical-align: top;\n",
       "    }\n",
       "\n",
       "    .dataframe thead th {\n",
       "        text-align: right;\n",
       "    }\n",
       "</style>\n",
       "<table border=\"1\" class=\"dataframe\">\n",
       "  <thead>\n",
       "    <tr style=\"text-align: right;\">\n",
       "      <th></th>\n",
       "      <th>Name</th>\n",
       "      <th>Short Name</th>\n",
       "      <th>Description</th>\n",
       "      <th>Business Owner</th>\n",
       "      <th>Technical Owner</th>\n",
       "      <th>Number of Users</th>\n",
       "      <th>Recovery Point Objective</th>\n",
       "      <th>Recovery Time Objective</th>\n",
       "      <th>Go Live Date</th>\n",
       "      <th>End of Support Date</th>\n",
       "      <th>...</th>\n",
       "      <th>System Hosting Place</th>\n",
       "      <th>User Community</th>\n",
       "      <th>Type of System</th>\n",
       "      <th>Enterprise Level</th>\n",
       "      <th>Development Type</th>\n",
       "      <th>Recommendation</th>\n",
       "      <th>Cloud Migration Strategy</th>\n",
       "      <th>Architecture Type</th>\n",
       "      <th>Mobile Compliance</th>\n",
       "      <th>Multi Language Support</th>\n",
       "    </tr>\n",
       "  </thead>\n",
       "  <tbody>\n",
       "    <tr>\n",
       "      <th>0</th>\n",
       "      <td>IBM Maximo</td>\n",
       "      <td>IBM Maximo</td>\n",
       "      <td>A comprehensive enterprise asset management (E...</td>\n",
       "      <td>Strategic Planning</td>\n",
       "      <td>Human Resources</td>\n",
       "      <td>415</td>\n",
       "      <td>NaN</td>\n",
       "      <td>NaN</td>\n",
       "      <td>2016-06-30</td>\n",
       "      <td>2023-06-30</td>\n",
       "      <td>...</td>\n",
       "      <td>Cloud</td>\n",
       "      <td>Both</td>\n",
       "      <td>System of Record</td>\n",
       "      <td>No</td>\n",
       "      <td>COTS</td>\n",
       "      <td>Migrate</td>\n",
       "      <td>Retain</td>\n",
       "      <td>Mainframe</td>\n",
       "      <td>Not Supported</td>\n",
       "      <td>Yes</td>\n",
       "    </tr>\n",
       "    <tr>\n",
       "      <th>1</th>\n",
       "      <td>Adobe Experience Manager</td>\n",
       "      <td>AEM</td>\n",
       "      <td>A digital asset management (DAM) system that h...</td>\n",
       "      <td>Strategic Planning</td>\n",
       "      <td>Logistics and Supply Chain</td>\n",
       "      <td>3000</td>\n",
       "      <td>60 mins</td>\n",
       "      <td>Zero data loss</td>\n",
       "      <td>2022-01-01</td>\n",
       "      <td>2024-11-30</td>\n",
       "      <td>...</td>\n",
       "      <td>On Premise</td>\n",
       "      <td>Internal</td>\n",
       "      <td>System of Record</td>\n",
       "      <td>Yes</td>\n",
       "      <td>COTS</td>\n",
       "      <td>Retire</td>\n",
       "      <td>Retire</td>\n",
       "      <td>Mainframe</td>\n",
       "      <td>Not Supported</td>\n",
       "      <td>Yes</td>\n",
       "    </tr>\n",
       "    <tr>\n",
       "      <th>2</th>\n",
       "      <td>ServiceNow IT Asset Management</td>\n",
       "      <td>ServiceNow ITAM</td>\n",
       "      <td>An IT asset management solution that integrate...</td>\n",
       "      <td>IT and Cybersecurity</td>\n",
       "      <td>IT and Cybersecurity</td>\n",
       "      <td>176</td>\n",
       "      <td>NaN</td>\n",
       "      <td>12 Hours</td>\n",
       "      <td>2011-04-01</td>\n",
       "      <td>2024-12-31</td>\n",
       "      <td>...</td>\n",
       "      <td>On Premise</td>\n",
       "      <td>Internal</td>\n",
       "      <td>System of Record</td>\n",
       "      <td>Yes</td>\n",
       "      <td>COTS</td>\n",
       "      <td>Migrate</td>\n",
       "      <td>Replatform</td>\n",
       "      <td>Distributed</td>\n",
       "      <td>Fully Supported</td>\n",
       "      <td>No</td>\n",
       "    </tr>\n",
       "    <tr>\n",
       "      <th>3</th>\n",
       "      <td>Sage Fixed Assets</td>\n",
       "      <td>SFA</td>\n",
       "      <td>A fixed asset management software that offers ...</td>\n",
       "      <td>Fleet Management</td>\n",
       "      <td>Research and Development</td>\n",
       "      <td>4</td>\n",
       "      <td>NaN</td>\n",
       "      <td>NaN</td>\n",
       "      <td>NaT</td>\n",
       "      <td>NaT</td>\n",
       "      <td>...</td>\n",
       "      <td>NaN</td>\n",
       "      <td>Internal</td>\n",
       "      <td>NaN</td>\n",
       "      <td>No</td>\n",
       "      <td>Bespoke</td>\n",
       "      <td>Invest</td>\n",
       "      <td>Retain</td>\n",
       "      <td>Stand-Alone</td>\n",
       "      <td>Not Supported</td>\n",
       "      <td>Yes</td>\n",
       "    </tr>\n",
       "    <tr>\n",
       "      <th>4</th>\n",
       "      <td>Flexera</td>\n",
       "      <td>Flexera</td>\n",
       "      <td>A software asset management (SAM) tool that pr...</td>\n",
       "      <td>Marketing and Sales</td>\n",
       "      <td>Safety and Compliance</td>\n",
       "      <td>55</td>\n",
       "      <td>NaN</td>\n",
       "      <td>NaN</td>\n",
       "      <td>NaT</td>\n",
       "      <td>2020-04-30</td>\n",
       "      <td>...</td>\n",
       "      <td>NaN</td>\n",
       "      <td>Internal</td>\n",
       "      <td>System of Record</td>\n",
       "      <td>Yes</td>\n",
       "      <td>Bespoke</td>\n",
       "      <td>Tolerate</td>\n",
       "      <td>Repurchase</td>\n",
       "      <td>Unknown</td>\n",
       "      <td>Not Supported</td>\n",
       "      <td>Yes</td>\n",
       "    </tr>\n",
       "    <tr>\n",
       "      <th>5</th>\n",
       "      <td>Apache Hadoop</td>\n",
       "      <td>Hadoop</td>\n",
       "      <td>An open-source framework that allows for the d...</td>\n",
       "      <td>Training and Development</td>\n",
       "      <td>Infrastructure Development</td>\n",
       "      <td>NaN</td>\n",
       "      <td>NaN</td>\n",
       "      <td>NaN</td>\n",
       "      <td>2022-06-15</td>\n",
       "      <td>2025-08-14</td>\n",
       "      <td>...</td>\n",
       "      <td>On Premise</td>\n",
       "      <td>Internal</td>\n",
       "      <td>System of Record</td>\n",
       "      <td>No</td>\n",
       "      <td>Bespoke</td>\n",
       "      <td>Migrate</td>\n",
       "      <td>Rehost</td>\n",
       "      <td>Stand-Alone</td>\n",
       "      <td>Partially Supported</td>\n",
       "      <td>Yes</td>\n",
       "    </tr>\n",
       "    <tr>\n",
       "      <th>6</th>\n",
       "      <td>Apache Spark</td>\n",
       "      <td>Spark</td>\n",
       "      <td>An open-source, unified analytics engine for l...</td>\n",
       "      <td>Sustainability and Environmental Compliance</td>\n",
       "      <td>Maintenance and Repairs</td>\n",
       "      <td>34</td>\n",
       "      <td>NaN</td>\n",
       "      <td>NaN</td>\n",
       "      <td>2018-01-01</td>\n",
       "      <td>2024-03-24</td>\n",
       "      <td>...</td>\n",
       "      <td>On Premise</td>\n",
       "      <td>Both</td>\n",
       "      <td>System of Record</td>\n",
       "      <td>Yes</td>\n",
       "      <td>COTS</td>\n",
       "      <td>Tolerate</td>\n",
       "      <td>Rehost</td>\n",
       "      <td>External Webpage</td>\n",
       "      <td>Partially Supported</td>\n",
       "      <td>No</td>\n",
       "    </tr>\n",
       "    <tr>\n",
       "      <th>7</th>\n",
       "      <td>Intelight MaxView</td>\n",
       "      <td>MaxView</td>\n",
       "      <td>A comprehensive traffic signal management syst...</td>\n",
       "      <td>Strategic Planning</td>\n",
       "      <td>Customer Service</td>\n",
       "      <td>150,000</td>\n",
       "      <td>As per IBM policies as it is hosted on cloud</td>\n",
       "      <td>As per IBM policies as it is hosted on cloud</td>\n",
       "      <td>2018-11-01</td>\n",
       "      <td>2023-12-31</td>\n",
       "      <td>...</td>\n",
       "      <td>Hybrid</td>\n",
       "      <td>External</td>\n",
       "      <td>System of Innovation</td>\n",
       "      <td>No</td>\n",
       "      <td>Bespoke</td>\n",
       "      <td>Invest</td>\n",
       "      <td>Retain</td>\n",
       "      <td>Distributed</td>\n",
       "      <td>NaN</td>\n",
       "      <td>Yes</td>\n",
       "    </tr>\n",
       "    <tr>\n",
       "      <th>8</th>\n",
       "      <td>Kapsch TrafficCom</td>\n",
       "      <td>Kapsch TrafficCom</td>\n",
       "      <td>Offers intelligent transportation systems (ITS...</td>\n",
       "      <td>Legal Affairs</td>\n",
       "      <td>Customer Service</td>\n",
       "      <td>NaN</td>\n",
       "      <td>NaN</td>\n",
       "      <td>NaN</td>\n",
       "      <td>NaT</td>\n",
       "      <td>NaT</td>\n",
       "      <td>...</td>\n",
       "      <td>NaN</td>\n",
       "      <td>NaN</td>\n",
       "      <td>NaN</td>\n",
       "      <td>NaN</td>\n",
       "      <td>COTS</td>\n",
       "      <td>Retire</td>\n",
       "      <td>Repurchase</td>\n",
       "      <td>Cloud-Based</td>\n",
       "      <td>Fully Supported</td>\n",
       "      <td>Yes</td>\n",
       "    </tr>\n",
       "    <tr>\n",
       "      <th>9</th>\n",
       "      <td>StreetLight Data</td>\n",
       "      <td>StreetLight Data</td>\n",
       "      <td>Utilizes mobile device data to provide analyti...</td>\n",
       "      <td>Logistics and Supply Chain</td>\n",
       "      <td>IT and Cybersecurity</td>\n",
       "      <td>31</td>\n",
       "      <td>NaN</td>\n",
       "      <td>NaN</td>\n",
       "      <td>2007-06-06</td>\n",
       "      <td>2023-08-05</td>\n",
       "      <td>...</td>\n",
       "      <td>On Premise</td>\n",
       "      <td>Internal</td>\n",
       "      <td>System of Diffrenciation</td>\n",
       "      <td>No</td>\n",
       "      <td>Bespoke</td>\n",
       "      <td>Retire</td>\n",
       "      <td>Repurchase</td>\n",
       "      <td>Unknown</td>\n",
       "      <td>Fully Supported</td>\n",
       "      <td>No</td>\n",
       "    </tr>\n",
       "  </tbody>\n",
       "</table>\n",
       "<p>10 rows × 26 columns</p>\n",
       "</div>"
      ],
      "text/plain": [
       "                             Name         Short Name  \\\n",
       "0                      IBM Maximo         IBM Maximo   \n",
       "1        Adobe Experience Manager                AEM   \n",
       "2  ServiceNow IT Asset Management    ServiceNow ITAM   \n",
       "3               Sage Fixed Assets                SFA   \n",
       "4                         Flexera            Flexera   \n",
       "5                   Apache Hadoop             Hadoop   \n",
       "6                    Apache Spark              Spark   \n",
       "7               Intelight MaxView            MaxView   \n",
       "8               Kapsch TrafficCom  Kapsch TrafficCom   \n",
       "9                StreetLight Data   StreetLight Data   \n",
       "\n",
       "                                         Description  \\\n",
       "0  A comprehensive enterprise asset management (E...   \n",
       "1  A digital asset management (DAM) system that h...   \n",
       "2  An IT asset management solution that integrate...   \n",
       "3  A fixed asset management software that offers ...   \n",
       "4  A software asset management (SAM) tool that pr...   \n",
       "5  An open-source framework that allows for the d...   \n",
       "6  An open-source, unified analytics engine for l...   \n",
       "7  A comprehensive traffic signal management syst...   \n",
       "8  Offers intelligent transportation systems (ITS...   \n",
       "9  Utilizes mobile device data to provide analyti...   \n",
       "\n",
       "                                Business Owner             Technical Owner  \\\n",
       "0                           Strategic Planning             Human Resources   \n",
       "1                           Strategic Planning  Logistics and Supply Chain   \n",
       "2                         IT and Cybersecurity        IT and Cybersecurity   \n",
       "3                             Fleet Management    Research and Development   \n",
       "4                          Marketing and Sales       Safety and Compliance   \n",
       "5                     Training and Development  Infrastructure Development   \n",
       "6  Sustainability and Environmental Compliance     Maintenance and Repairs   \n",
       "7                           Strategic Planning            Customer Service   \n",
       "8                                Legal Affairs            Customer Service   \n",
       "9                   Logistics and Supply Chain        IT and Cybersecurity   \n",
       "\n",
       "  Number of Users                      Recovery Point Objective  \\\n",
       "0             415                                           NaN   \n",
       "1            3000                                       60 mins   \n",
       "2             176                                           NaN   \n",
       "3               4                                           NaN   \n",
       "4              55                                           NaN   \n",
       "5             NaN                                           NaN   \n",
       "6              34                                           NaN   \n",
       "7         150,000  As per IBM policies as it is hosted on cloud   \n",
       "8             NaN                                           NaN   \n",
       "9              31                                           NaN   \n",
       "\n",
       "                        Recovery Time Objective Go Live Date  \\\n",
       "0                                           NaN   2016-06-30   \n",
       "1                                Zero data loss   2022-01-01   \n",
       "2                                      12 Hours   2011-04-01   \n",
       "3                                           NaN          NaT   \n",
       "4                                           NaN          NaT   \n",
       "5                                           NaN   2022-06-15   \n",
       "6                                           NaN   2018-01-01   \n",
       "7  As per IBM policies as it is hosted on cloud   2018-11-01   \n",
       "8                                           NaN          NaT   \n",
       "9                                           NaN   2007-06-06   \n",
       "\n",
       "  End of Support Date  ... System Hosting Place User Community  \\\n",
       "0          2023-06-30  ...                Cloud           Both   \n",
       "1          2024-11-30  ...           On Premise       Internal   \n",
       "2          2024-12-31  ...           On Premise       Internal   \n",
       "3                 NaT  ...                  NaN       Internal   \n",
       "4          2020-04-30  ...                  NaN       Internal   \n",
       "5          2025-08-14  ...           On Premise       Internal   \n",
       "6          2024-03-24  ...           On Premise           Both   \n",
       "7          2023-12-31  ...               Hybrid       External   \n",
       "8                 NaT  ...                  NaN            NaN   \n",
       "9          2023-08-05  ...           On Premise       Internal   \n",
       "\n",
       "             Type of System Enterprise Level Development Type Recommendation  \\\n",
       "0          System of Record               No             COTS        Migrate   \n",
       "1          System of Record              Yes             COTS         Retire   \n",
       "2          System of Record              Yes             COTS        Migrate   \n",
       "3                       NaN               No          Bespoke         Invest   \n",
       "4          System of Record              Yes          Bespoke       Tolerate   \n",
       "5          System of Record               No          Bespoke        Migrate   \n",
       "6          System of Record              Yes             COTS       Tolerate   \n",
       "7      System of Innovation               No          Bespoke         Invest   \n",
       "8                       NaN              NaN             COTS         Retire   \n",
       "9  System of Diffrenciation               No          Bespoke         Retire   \n",
       "\n",
       "  Cloud Migration Strategy Architecture Type    Mobile Compliance  \\\n",
       "0                   Retain         Mainframe        Not Supported   \n",
       "1                   Retire         Mainframe        Not Supported   \n",
       "2               Replatform       Distributed      Fully Supported   \n",
       "3                   Retain       Stand-Alone        Not Supported   \n",
       "4               Repurchase           Unknown        Not Supported   \n",
       "5                   Rehost       Stand-Alone  Partially Supported   \n",
       "6                   Rehost  External Webpage  Partially Supported   \n",
       "7                   Retain       Distributed                  NaN   \n",
       "8               Repurchase       Cloud-Based      Fully Supported   \n",
       "9               Repurchase           Unknown      Fully Supported   \n",
       "\n",
       "  Multi Language Support  \n",
       "0                    Yes  \n",
       "1                    Yes  \n",
       "2                     No  \n",
       "3                    Yes  \n",
       "4                    Yes  \n",
       "5                    Yes  \n",
       "6                     No  \n",
       "7                    Yes  \n",
       "8                    Yes  \n",
       "9                     No  \n",
       "\n",
       "[10 rows x 26 columns]"
      ]
     },
     "execution_count": 16,
     "metadata": {},
     "output_type": "execute_result"
    }
   ],
   "source": [
    "df_uncleaned.head(10)"
   ]
  },
  {
   "cell_type": "markdown",
   "id": "247da776",
   "metadata": {
    "papermill": {
     "duration": 0.011897,
     "end_time": "2024-03-19T08:30:13.531818",
     "exception": false,
     "start_time": "2024-03-19T08:30:13.519921",
     "status": "completed"
    },
    "tags": []
   },
   "source": [
    "* [Fixed] **I/X**  should be mapped to **User Community**\n",
    "* [Fixed] **Across RTA**  should be mapped to **Enterprise Level**\n",
    "* \n",
    "* [Fixed]**User Community** enum mapping fixation\n",
    "* [Fixed]**AGF Classification** enum mapping fixation\n",
    "* [Fixed]**DR Type**  enum mapping fixation\n",
    "* [Fixed]**Development Type**  enum mapping fixation"
   ]
  },
  {
   "cell_type": "code",
   "execution_count": 17,
   "id": "f6d19ffc",
   "metadata": {
    "execution": {
     "iopub.execute_input": "2024-03-19T08:30:13.557842Z",
     "iopub.status.busy": "2024-03-19T08:30:13.557398Z",
     "iopub.status.idle": "2024-03-19T08:30:13.563937Z",
     "shell.execute_reply": "2024-03-19T08:30:13.562810Z"
    },
    "papermill": {
     "duration": 0.022569,
     "end_time": "2024-03-19T08:30:13.566554",
     "exception": false,
     "start_time": "2024-03-19T08:30:13.543985",
     "status": "completed"
    },
    "tags": []
   },
   "outputs": [
    {
     "name": "stdout",
     "output_type": "stream",
     "text": [
      "Development Type\n",
      "{'commercial': 'COTS', 'customized': 'Bespoke'}\n",
      "\n",
      "\n",
      "AGF Classification\n",
      "{'4': 'Critial', '3': 'High', '2': 'Meduim', '1': 'Low', 'critial': 'Critial', 'high': 'High', 'medium': 'Meduim', 'low': 'Low'}\n",
      "\n",
      "\n",
      "DR Type\n",
      "{'no': 'No', 'active active': 'Active-Active', 'active-active': 'Active-Active', 'active passive': 'Active-Passive', 'active-passive': 'Active-Passive', 'active': 'Active', 'passive': 'Passive', 'others': 'Others'}\n",
      "\n",
      "\n",
      "User Community\n",
      "{'i': 'Internal', 'internal': 'Internal', 'x': 'External', 'external': 'External', 'both': 'Both'}\n",
      "\n",
      "\n"
     ]
    }
   ],
   "source": [
    "for column in metadata_json.attributes:\n",
    "    if column['is_transformation_required']:\n",
    "        print(column['attribute_name'])\n",
    "        print(column[\"values\"])\n",
    "        print('\\n')"
   ]
  },
  {
   "cell_type": "code",
   "execution_count": 18,
   "id": "1cc29a3c",
   "metadata": {
    "execution": {
     "iopub.execute_input": "2024-03-19T08:30:13.592996Z",
     "iopub.status.busy": "2024-03-19T08:30:13.592551Z",
     "iopub.status.idle": "2024-03-19T08:30:13.601565Z",
     "shell.execute_reply": "2024-03-19T08:30:13.600737Z"
    },
    "papermill": {
     "duration": 0.024904,
     "end_time": "2024-03-19T08:30:13.603879",
     "exception": false,
     "start_time": "2024-03-19T08:30:13.578975",
     "status": "completed"
    },
    "tags": []
   },
   "outputs": [
    {
     "data": {
      "text/plain": [
       "User Community\n",
       "Internal    52\n",
       "Both        18\n",
       "External    14\n",
       "Name: count, dtype: int64"
      ]
     },
     "execution_count": 18,
     "metadata": {},
     "output_type": "execute_result"
    }
   ],
   "source": [
    "df_uncleaned['User Community'].value_counts()"
   ]
  },
  {
   "cell_type": "code",
   "execution_count": 19,
   "id": "660376ac",
   "metadata": {
    "execution": {
     "iopub.execute_input": "2024-03-19T08:30:13.631493Z",
     "iopub.status.busy": "2024-03-19T08:30:13.630802Z",
     "iopub.status.idle": "2024-03-19T08:30:13.639299Z",
     "shell.execute_reply": "2024-03-19T08:30:13.638100Z"
    },
    "papermill": {
     "duration": 0.0253,
     "end_time": "2024-03-19T08:30:13.641912",
     "exception": false,
     "start_time": "2024-03-19T08:30:13.616612",
     "status": "completed"
    },
    "tags": []
   },
   "outputs": [
    {
     "data": {
      "text/plain": [
       "Development Type\n",
       "Bespoke    52\n",
       "COTS       48\n",
       "Name: count, dtype: int64"
      ]
     },
     "execution_count": 19,
     "metadata": {},
     "output_type": "execute_result"
    }
   ],
   "source": [
    "df_uncleaned['Development Type'].value_counts()"
   ]
  },
  {
   "cell_type": "code",
   "execution_count": 20,
   "id": "a79e2dea",
   "metadata": {
    "execution": {
     "iopub.execute_input": "2024-03-19T08:30:13.669428Z",
     "iopub.status.busy": "2024-03-19T08:30:13.668986Z",
     "iopub.status.idle": "2024-03-19T08:30:13.678125Z",
     "shell.execute_reply": "2024-03-19T08:30:13.677117Z"
    },
    "papermill": {
     "duration": 0.025657,
     "end_time": "2024-03-19T08:30:13.680266",
     "exception": false,
     "start_time": "2024-03-19T08:30:13.654609",
     "status": "completed"
    },
    "tags": []
   },
   "outputs": [
    {
     "data": {
      "text/plain": [
       "AGF Classification\n",
       "High    26\n",
       "Name: count, dtype: int64"
      ]
     },
     "execution_count": 20,
     "metadata": {},
     "output_type": "execute_result"
    }
   ],
   "source": [
    "df_uncleaned['AGF Classification'].value_counts()"
   ]
  },
  {
   "cell_type": "code",
   "execution_count": 21,
   "id": "846cd02b",
   "metadata": {
    "execution": {
     "iopub.execute_input": "2024-03-19T08:30:13.708638Z",
     "iopub.status.busy": "2024-03-19T08:30:13.707846Z",
     "iopub.status.idle": "2024-03-19T08:30:13.716631Z",
     "shell.execute_reply": "2024-03-19T08:30:13.715530Z"
    },
    "papermill": {
     "duration": 0.025615,
     "end_time": "2024-03-19T08:30:13.719053",
     "exception": false,
     "start_time": "2024-03-19T08:30:13.693438",
     "status": "completed"
    },
    "tags": []
   },
   "outputs": [
    {
     "data": {
      "text/plain": [
       "DR Type\n",
       "Active-Passive    14\n",
       "Others             8\n",
       "Active-Active      5\n",
       "Passive            1\n",
       "Name: count, dtype: int64"
      ]
     },
     "execution_count": 21,
     "metadata": {},
     "output_type": "execute_result"
    }
   ],
   "source": [
    "df_uncleaned['DR Type'].value_counts()"
   ]
  }
 ],
 "metadata": {
  "kaggle": {
   "accelerator": "none",
   "dataSources": [
    {
     "databundleVersionId": 7989269,
     "datasetId": 4619135,
     "sourceId": 7883243,
     "sourceType": "datasetVersion"
    }
   ],
   "dockerImageVersionId": 30664,
   "isGpuEnabled": false,
   "isInternetEnabled": true,
   "language": "python",
   "sourceType": "notebook"
  },
  "kernelspec": {
   "display_name": "Python 3",
   "language": "python",
   "name": "python3"
  },
  "language_info": {
   "codemirror_mode": {
    "name": "ipython",
    "version": 3
   },
   "file_extension": ".py",
   "mimetype": "text/x-python",
   "name": "python",
   "nbconvert_exporter": "python",
   "pygments_lexer": "ipython3",
   "version": "3.10.13"
  },
  "papermill": {
   "default_parameters": {},
   "duration": 6.427018,
   "end_time": "2024-03-19T08:30:14.253121",
   "environment_variables": {},
   "exception": null,
   "input_path": "__notebook__.ipynb",
   "output_path": "__notebook__.ipynb",
   "parameters": {},
   "start_time": "2024-03-19T08:30:07.826103",
   "version": "2.5.0"
  }
 },
 "nbformat": 4,
 "nbformat_minor": 5
}
