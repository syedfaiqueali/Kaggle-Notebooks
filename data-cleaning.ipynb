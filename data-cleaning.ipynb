{
 "cells": [
  {
   "cell_type": "markdown",
   "id": "642b5fb4",
   "metadata": {
    "papermill": {
     "duration": 0.005707,
     "end_time": "2024-03-18T12:34:33.826973",
     "exception": false,
     "start_time": "2024-03-18T12:34:33.821266",
     "status": "completed"
    },
    "tags": []
   },
   "source": [
    "# Import"
   ]
  },
  {
   "cell_type": "code",
   "execution_count": 1,
   "id": "e627ac39",
   "metadata": {
    "execution": {
     "iopub.execute_input": "2024-03-18T12:34:33.840448Z",
     "iopub.status.busy": "2024-03-18T12:34:33.839463Z",
     "iopub.status.idle": "2024-03-18T12:34:34.720538Z",
     "shell.execute_reply": "2024-03-18T12:34:34.719340Z"
    },
    "papermill": {
     "duration": 0.890388,
     "end_time": "2024-03-18T12:34:34.723229",
     "exception": false,
     "start_time": "2024-03-18T12:34:33.832841",
     "status": "completed"
    },
    "tags": []
   },
   "outputs": [],
   "source": [
    "import json\n",
    "import pandas as pd"
   ]
  },
  {
   "cell_type": "markdown",
   "id": "adc5341b",
   "metadata": {
    "papermill": {
     "duration": 0.005279,
     "end_time": "2024-03-18T12:34:34.734872",
     "exception": false,
     "start_time": "2024-03-18T12:34:34.729593",
     "status": "completed"
    },
    "tags": []
   },
   "source": [
    "# Constant"
   ]
  },
  {
   "cell_type": "code",
   "execution_count": 2,
   "id": "302c4f79",
   "metadata": {
    "execution": {
     "iopub.execute_input": "2024-03-18T12:34:34.749412Z",
     "iopub.status.busy": "2024-03-18T12:34:34.748864Z",
     "iopub.status.idle": "2024-03-18T12:34:34.753537Z",
     "shell.execute_reply": "2024-03-18T12:34:34.752652Z"
    },
    "papermill": {
     "duration": 0.015621,
     "end_time": "2024-03-18T12:34:34.756655",
     "exception": false,
     "start_time": "2024-03-18T12:34:34.741034",
     "status": "completed"
    },
    "tags": []
   },
   "outputs": [],
   "source": [
    "CLEANED_DATA_PATH = '/kaggle/input/rta-dubai/sample_clean_application_data_2.xlsx'\n",
    "UNCLEANED_DATA_PATH = '/kaggle/input/rta-dubai/sample_unclean_application_data_v2.xlsx'\n",
    "METADATA_PATH = '/kaggle/input/rta-dubai/Application dataset.json'"
   ]
  },
  {
   "cell_type": "markdown",
   "id": "8d5c4bae",
   "metadata": {
    "papermill": {
     "duration": 0.00501,
     "end_time": "2024-03-18T12:34:34.767368",
     "exception": false,
     "start_time": "2024-03-18T12:34:34.762358",
     "status": "completed"
    },
    "tags": []
   },
   "source": [
    "# Models"
   ]
  },
  {
   "cell_type": "code",
   "execution_count": 3,
   "id": "fbd5f453",
   "metadata": {
    "execution": {
     "iopub.execute_input": "2024-03-18T12:34:34.781547Z",
     "iopub.status.busy": "2024-03-18T12:34:34.780630Z",
     "iopub.status.idle": "2024-03-18T12:34:34.786306Z",
     "shell.execute_reply": "2024-03-18T12:34:34.785123Z"
    },
    "papermill": {
     "duration": 0.015322,
     "end_time": "2024-03-18T12:34:34.788912",
     "exception": false,
     "start_time": "2024-03-18T12:34:34.773590",
     "status": "completed"
    },
    "tags": []
   },
   "outputs": [],
   "source": [
    "class MetaData:\n",
    "    def __init__(self, data):\n",
    "        self.__dict__ = data"
   ]
  },
  {
   "cell_type": "markdown",
   "id": "e476669c",
   "metadata": {
    "papermill": {
     "duration": 0.004961,
     "end_time": "2024-03-18T12:34:34.799228",
     "exception": false,
     "start_time": "2024-03-18T12:34:34.794267",
     "status": "completed"
    },
    "tags": []
   },
   "source": [
    "# Helper Function"
   ]
  },
  {
   "cell_type": "code",
   "execution_count": 4,
   "id": "105e8f03",
   "metadata": {
    "execution": {
     "iopub.execute_input": "2024-03-18T12:34:34.811595Z",
     "iopub.status.busy": "2024-03-18T12:34:34.811217Z",
     "iopub.status.idle": "2024-03-18T12:34:34.816937Z",
     "shell.execute_reply": "2024-03-18T12:34:34.815832Z"
    },
    "papermill": {
     "duration": 0.014929,
     "end_time": "2024-03-18T12:34:34.819308",
     "exception": false,
     "start_time": "2024-03-18T12:34:34.804379",
     "status": "completed"
    },
    "tags": []
   },
   "outputs": [],
   "source": [
    "def load_json_and_map_to_class(json_path):\n",
    "    try:\n",
    "        with open(json_path, 'r') as json_file:\n",
    "            data = json.load(json_file)\n",
    "            return MetaData(data)\n",
    "    except json.JSONDecodeError:\n",
    "        print(f\"Error: Unable to decode JSON from file '{file_path}'. File may be empty or not in valid JSON format.\")\n",
    "        return None"
   ]
  },
  {
   "cell_type": "markdown",
   "id": "f1471eb0",
   "metadata": {
    "papermill": {
     "duration": 0.005029,
     "end_time": "2024-03-18T12:34:34.829646",
     "exception": false,
     "start_time": "2024-03-18T12:34:34.824617",
     "status": "completed"
    },
    "tags": []
   },
   "source": [
    "# Open AI Utils"
   ]
  },
  {
   "cell_type": "code",
   "execution_count": 5,
   "id": "2c5a0587",
   "metadata": {
    "execution": {
     "iopub.execute_input": "2024-03-18T12:34:34.841849Z",
     "iopub.status.busy": "2024-03-18T12:34:34.841495Z",
     "iopub.status.idle": "2024-03-18T12:34:34.849409Z",
     "shell.execute_reply": "2024-03-18T12:34:34.848240Z"
    },
    "papermill": {
     "duration": 0.016939,
     "end_time": "2024-03-18T12:34:34.851852",
     "exception": false,
     "start_time": "2024-03-18T12:34:34.834913",
     "status": "completed"
    },
    "tags": []
   },
   "outputs": [],
   "source": [
    "def map_column_names_wrt_meta_data(dataset_column_names):\n",
    "    '''\n",
    "-----------------------------------------------------------------------------\n",
    "params:\n",
    "dataset_column_names: unclean_dataset_column_names\n",
    "columns_meta_data_json: column attributes objects extracted from meta data\n",
    "-----------------------------------------------------------------------------\n",
    "<OPEN AI CALL WILL GO HERE>\n",
    "    \n",
    "Task: Consider below defined 'dataset_column_names'. Look up the 'columns_meta_data_json' and pick relevant column attribute_name w.r.t to the attribute description and synonyms context. Output should be a json with key as 'dataset_column_names' and value as attribute_name picked from columns_meta_data_json\n",
    "\n",
    "dataset_column_names: <COLUMN NAMES WOULD GO HERE...>\n",
    "columns_meta_data_json: \n",
    "[<ATTRIBUTE OBJECT(Name, Desc, Syn)>, <ATTRIBUTE OBJECT(Name, Desc, Syn)>, ...]\n",
    "\n",
    "Output Example: {'Old Column Name'': \"New Column Name\"}\n",
    "    '''\n",
    "    return {\n",
    "    \"Name\": \"Name\",\n",
    "    \"Short Name\": \"Short Name\",\n",
    "    \"Description\": \"Description\",\n",
    "    \"Business Owner\": \"Business Owner\",\n",
    "    \"Technical Owner\": \"Technical Owner\",\n",
    "    \"# users\": \"Number of Users\",\n",
    "    \"RPO\": \"Recovery Point Objective\",\n",
    "    \"RTO\": \"Recovery Time Objective\",\n",
    "    \"start date\": \"Go Live Date\",\n",
    "    \"end date\": \"End of Support Date\",\n",
    "    \"SLA\": \"SLA Type\",\n",
    "    \"Vendor\": \"Vendor\",\n",
    "    \"Status\": \"Status\",\n",
    "    \"AGF score\": \"AGF Classification\",\n",
    "    \"DR TYpe\": \"DR Type\",\n",
    "    \"Required Availability\": \"Required Availability\",\n",
    "    \"location\": \"System Hosting Place\",\n",
    "    \"I/X\": \"Mobile Compliance\",\n",
    "    \"Type of System (Gartner)\": \"Type of System\",\n",
    "    \"Across RTA?\": \"User Community\",\n",
    "    \"commercial or customized\": \"Development Type\",\n",
    "    \"Recommendation\": \"Recommendation\",\n",
    "    \"Cloud Migration plan\": \"Cloud Migration Strategy\",\n",
    "    \"Type\": \"Architecture Type\",\n",
    "    \"Mobile compatible\": \"Mobile Compliance\",\n",
    "    \"support many langs\": \"Multi Language Support\"\n",
    "}"
   ]
  },
  {
   "cell_type": "markdown",
   "id": "4ff196ea",
   "metadata": {
    "papermill": {
     "duration": 0.004781,
     "end_time": "2024-03-18T12:34:34.861893",
     "exception": false,
     "start_time": "2024-03-18T12:34:34.857112",
     "status": "completed"
    },
    "tags": []
   },
   "source": [
    "# Pipeline\n",
    "\n",
    "1. Extract **unclean dataset column names** and **attributes objects** from the meta-data.\n",
    "2. Use Open-AI to map **column new names** w.r.t to the provided meta-data.\n",
    "3. Change columns names."
   ]
  },
  {
   "cell_type": "markdown",
   "id": "d9d6e717",
   "metadata": {
    "papermill": {
     "duration": 0.004782,
     "end_time": "2024-03-18T12:34:34.872755",
     "exception": false,
     "start_time": "2024-03-18T12:34:34.867973",
     "status": "completed"
    },
    "tags": []
   },
   "source": [
    "# Code"
   ]
  },
  {
   "cell_type": "code",
   "execution_count": 6,
   "id": "97f5d715",
   "metadata": {
    "execution": {
     "iopub.execute_input": "2024-03-18T12:34:34.885117Z",
     "iopub.status.busy": "2024-03-18T12:34:34.884444Z",
     "iopub.status.idle": "2024-03-18T12:34:35.366088Z",
     "shell.execute_reply": "2024-03-18T12:34:35.364550Z"
    },
    "papermill": {
     "duration": 0.490413,
     "end_time": "2024-03-18T12:34:35.368501",
     "exception": false,
     "start_time": "2024-03-18T12:34:34.878088",
     "status": "completed"
    },
    "tags": []
   },
   "outputs": [
    {
     "name": "stdout",
     "output_type": "stream",
     "text": [
      "<class 'pandas.core.frame.DataFrame'>\n",
      "RangeIndex: 100 entries, 0 to 99\n",
      "Data columns (total 27 columns):\n",
      " #   Column                    Non-Null Count  Dtype         \n",
      "---  ------                    --------------  -----         \n",
      " 0   Name                      100 non-null    object        \n",
      " 1   Short Name                100 non-null    object        \n",
      " 2   Description               100 non-null    object        \n",
      " 3   Business Owner            100 non-null    object        \n",
      " 4   Technical Owner           100 non-null    object        \n",
      " 5   Number of Users           56 non-null     object        \n",
      " 6   Recovery Point Objective  26 non-null     object        \n",
      " 7   Recovery Time Objective   27 non-null     object        \n",
      " 8   Go Live Date              57 non-null     datetime64[ns]\n",
      " 9   End of Support Date       58 non-null     datetime64[ns]\n",
      " 10  SLA Type                  33 non-null     object        \n",
      " 11  Vendor                    100 non-null    object        \n",
      " 12  Status                    100 non-null    object        \n",
      " 13  AGF Classification        93 non-null     object        \n",
      " 14  DR TYpe                   20 non-null     object        \n",
      " 15  Required Availability     45 non-null     object        \n",
      " 16  System Hosting Place      62 non-null     object        \n",
      " 17  User Community            84 non-null     object        \n",
      " 18  Type of System            68 non-null     object        \n",
      " 19  Enterprise Level          84 non-null     object        \n",
      " 20  Development Type          100 non-null    object        \n",
      " 21  Recommendation            100 non-null    object        \n",
      " 22  Cloud Migration Strategy  100 non-null    object        \n",
      " 23  Architecture Type         100 non-null    object        \n",
      " 24  Mobile Compliance         76 non-null     object        \n",
      " 25  Multi Language Support    100 non-null    object        \n",
      " 26  Application Age           57 non-null     float64       \n",
      "dtypes: datetime64[ns](2), float64(1), object(24)\n",
      "memory usage: 21.2+ KB\n"
     ]
    }
   ],
   "source": [
    "df_cleaned = pd.read_excel(CLEANED_DATA_PATH)\n",
    "df_cleaned.info()"
   ]
  },
  {
   "cell_type": "code",
   "execution_count": 7,
   "id": "fcc9f86f",
   "metadata": {
    "execution": {
     "iopub.execute_input": "2024-03-18T12:34:35.381014Z",
     "iopub.status.busy": "2024-03-18T12:34:35.380538Z",
     "iopub.status.idle": "2024-03-18T12:34:35.494287Z",
     "shell.execute_reply": "2024-03-18T12:34:35.492908Z"
    },
    "papermill": {
     "duration": 0.122899,
     "end_time": "2024-03-18T12:34:35.496712",
     "exception": false,
     "start_time": "2024-03-18T12:34:35.373813",
     "status": "completed"
    },
    "tags": []
   },
   "outputs": [
    {
     "name": "stdout",
     "output_type": "stream",
     "text": [
      "<class 'pandas.core.frame.DataFrame'>\n",
      "RangeIndex: 100 entries, 0 to 99\n",
      "Data columns (total 26 columns):\n",
      " #   Column                    Non-Null Count  Dtype         \n",
      "---  ------                    --------------  -----         \n",
      " 0   Name                      100 non-null    object        \n",
      " 1   Short Name                100 non-null    object        \n",
      " 2   Description               100 non-null    object        \n",
      " 3   Business Owner            100 non-null    object        \n",
      " 4   Technical Owner           100 non-null    object        \n",
      " 5   # users                   56 non-null     object        \n",
      " 6   RPO                       26 non-null     object        \n",
      " 7   RTO                       27 non-null     object        \n",
      " 8   start date                57 non-null     datetime64[ns]\n",
      " 9   end date                  58 non-null     datetime64[ns]\n",
      " 10  SLA                       33 non-null     object        \n",
      " 11  Vendor                    100 non-null    object        \n",
      " 12  Status                    88 non-null     object        \n",
      " 13  AGF score                 93 non-null     object        \n",
      " 14  DR TYpe                   28 non-null     object        \n",
      " 15  Required Availability     45 non-null     object        \n",
      " 16  location                  62 non-null     object        \n",
      " 17  I/X                       84 non-null     object        \n",
      " 18  Type of System (Gartner)  68 non-null     object        \n",
      " 19  Across RTA?               84 non-null     object        \n",
      " 20  commercial or customized  100 non-null    object        \n",
      " 21  Recommendation            100 non-null    object        \n",
      " 22  Cloud Migration plan      100 non-null    object        \n",
      " 23  Type                      100 non-null    object        \n",
      " 24  Mobile compatible         78 non-null     object        \n",
      " 25  support many langs        100 non-null    object        \n",
      "dtypes: datetime64[ns](2), object(24)\n",
      "memory usage: 20.4+ KB\n"
     ]
    }
   ],
   "source": [
    "df_uncleaned = pd.read_excel(UNCLEANED_DATA_PATH)\n",
    "df_uncleaned.info()"
   ]
  },
  {
   "cell_type": "code",
   "execution_count": 8,
   "id": "e5e3d39d",
   "metadata": {
    "execution": {
     "iopub.execute_input": "2024-03-18T12:34:35.509773Z",
     "iopub.status.busy": "2024-03-18T12:34:35.508993Z",
     "iopub.status.idle": "2024-03-18T12:34:35.524155Z",
     "shell.execute_reply": "2024-03-18T12:34:35.523000Z"
    },
    "papermill": {
     "duration": 0.024159,
     "end_time": "2024-03-18T12:34:35.526408",
     "exception": false,
     "start_time": "2024-03-18T12:34:35.502249",
     "status": "completed"
    },
    "tags": []
   },
   "outputs": [
    {
     "data": {
      "text/plain": [
       "<__main__.MetaData at 0x785bbb86d930>"
      ]
     },
     "execution_count": 8,
     "metadata": {},
     "output_type": "execute_result"
    }
   ],
   "source": [
    "metadata_json = load_json_and_map_to_class(METADATA_PATH)\n",
    "metadata_json"
   ]
  },
  {
   "cell_type": "markdown",
   "id": "d81a2a4b",
   "metadata": {
    "papermill": {
     "duration": 0.005284,
     "end_time": "2024-03-18T12:34:35.537487",
     "exception": false,
     "start_time": "2024-03-18T12:34:35.532203",
     "status": "completed"
    },
    "tags": []
   },
   "source": [
    "### 1. Conversion of un-cleaned data column names w.r.t to the metadata context\n",
    "1. Extract **unclean dataset column names** and **attributes objects** from the meta-data.\n",
    "2. Use Open-AI to map **column new names** w.r.t to the provided meta-data.\n",
    "3. Change columns names."
   ]
  },
  {
   "cell_type": "code",
   "execution_count": 9,
   "id": "3bf20042",
   "metadata": {
    "execution": {
     "iopub.execute_input": "2024-03-18T12:34:35.550964Z",
     "iopub.status.busy": "2024-03-18T12:34:35.550288Z",
     "iopub.status.idle": "2024-03-18T12:34:35.556468Z",
     "shell.execute_reply": "2024-03-18T12:34:35.555354Z"
    },
    "papermill": {
     "duration": 0.015253,
     "end_time": "2024-03-18T12:34:35.558439",
     "exception": false,
     "start_time": "2024-03-18T12:34:35.543186",
     "status": "completed"
    },
    "tags": []
   },
   "outputs": [],
   "source": [
    "# Extract old column names\n",
    "uncleaned_column_old_names = ','.join(df_uncleaned.columns)\n",
    "\n",
    "# Use Open-Ai to map new column names w.r.t to context\n",
    "uncleaned_column_new_names = map_column_names_wrt_meta_data(uncleaned_column_old_names)\n",
    "\n",
    "# Rename columns\n",
    "df_uncleaned.rename(columns=uncleaned_column_new_names, inplace=True)"
   ]
  },
  {
   "cell_type": "markdown",
   "id": "a2074976",
   "metadata": {
    "papermill": {
     "duration": 0.005297,
     "end_time": "2024-03-18T12:34:35.569315",
     "exception": false,
     "start_time": "2024-03-18T12:34:35.564018",
     "status": "completed"
    },
    "tags": []
   },
   "source": [
    "### 2. Convert column types w.r.t to the metadata defined attribute type\n",
    "1. Go here..."
   ]
  },
  {
   "cell_type": "code",
   "execution_count": 10,
   "id": "aaefaabb",
   "metadata": {
    "execution": {
     "iopub.execute_input": "2024-03-18T12:34:35.582810Z",
     "iopub.status.busy": "2024-03-18T12:34:35.582037Z",
     "iopub.status.idle": "2024-03-18T12:34:35.587074Z",
     "shell.execute_reply": "2024-03-18T12:34:35.586106Z"
    },
    "papermill": {
     "duration": 0.014222,
     "end_time": "2024-03-18T12:34:35.589352",
     "exception": false,
     "start_time": "2024-03-18T12:34:35.575130",
     "status": "completed"
    },
    "tags": []
   },
   "outputs": [],
   "source": [
    "# new_test_df = df_uncleaned\n",
    "\n",
    "# for column in metadata_json.attributes:\n",
    "#     if new_test_df['attribute_name'] in map(str.strip, new_test_df.columns):\n",
    "#         if column['data_type'].lower() == \"string\":\n",
    "#             new_test_df[column[\"attribute_name\"]] = df_uncleaned[column[\"attribute_name\"]].astype(str)\n",
    "#         elif column['data_type'].lower() == \"int\":\n",
    "#             new_test_df[\"attribute_name\"] = df_uncleaned[column[\"attribute_name\"]].apply(lambda x: int(x.replace(',', '')) if isinstance(x, str) and ',' in x else x)\n",
    "#     #         new_test_df[column[\"attribute_name\"]] = df_uncleaned[column[\"attribute_name\"]].fillna(-1).astype(int)\n",
    "#         elif column['data_type'].lower() == \"enum\":\n",
    "#             new_test_df[column[\"attribute_name\"]] = df_uncleaned[column[\"attribute_name\"]].astype('category')\n",
    "#         elif column['data_type'].lower() == \"date\":\n",
    "#             new_test_df[column[\"attribute_name\"]] = df_uncleaned[column[\"attribute_name\"]].astype('datetime64[ns]')\n",
    "#         else:\n",
    "#             print(\"No Type found\")"
   ]
  },
  {
   "cell_type": "markdown",
   "id": "385af13f",
   "metadata": {
    "papermill": {
     "duration": 0.005202,
     "end_time": "2024-03-18T12:34:35.600171",
     "exception": false,
     "start_time": "2024-03-18T12:34:35.594969",
     "status": "completed"
    },
    "tags": []
   },
   "source": [
    "## 3. Data card"
   ]
  },
  {
   "cell_type": "code",
   "execution_count": 11,
   "id": "f814e5f5",
   "metadata": {
    "execution": {
     "iopub.execute_input": "2024-03-18T12:34:35.613876Z",
     "iopub.status.busy": "2024-03-18T12:34:35.613110Z",
     "iopub.status.idle": "2024-03-18T12:34:35.624368Z",
     "shell.execute_reply": "2024-03-18T12:34:35.623432Z"
    },
    "papermill": {
     "duration": 0.021135,
     "end_time": "2024-03-18T12:34:35.626759",
     "exception": false,
     "start_time": "2024-03-18T12:34:35.605624",
     "status": "completed"
    },
    "tags": []
   },
   "outputs": [
    {
     "name": "stdout",
     "output_type": "stream",
     "text": [
      "<class 'pandas.core.frame.DataFrame'>\n",
      "RangeIndex: 100 entries, 0 to 99\n",
      "Data columns (total 26 columns):\n",
      " #   Column                    Non-Null Count  Dtype         \n",
      "---  ------                    --------------  -----         \n",
      " 0   Name                      100 non-null    object        \n",
      " 1   Short Name                100 non-null    object        \n",
      " 2   Description               100 non-null    object        \n",
      " 3   Business Owner            100 non-null    object        \n",
      " 4   Technical Owner           100 non-null    object        \n",
      " 5   Number of Users           56 non-null     object        \n",
      " 6   Recovery Point Objective  26 non-null     object        \n",
      " 7   Recovery Time Objective   27 non-null     object        \n",
      " 8   Go Live Date              57 non-null     datetime64[ns]\n",
      " 9   End of Support Date       58 non-null     datetime64[ns]\n",
      " 10  SLA Type                  33 non-null     object        \n",
      " 11  Vendor                    100 non-null    object        \n",
      " 12  Status                    88 non-null     object        \n",
      " 13  AGF Classification        93 non-null     object        \n",
      " 14  DR Type                   28 non-null     object        \n",
      " 15  Required Availability     45 non-null     object        \n",
      " 16  System Hosting Place      62 non-null     object        \n",
      " 17  Mobile Compliance         84 non-null     object        \n",
      " 18  Type of System            68 non-null     object        \n",
      " 19  User Community            84 non-null     object        \n",
      " 20  Development Type          100 non-null    object        \n",
      " 21  Recommendation            100 non-null    object        \n",
      " 22  Cloud Migration Strategy  100 non-null    object        \n",
      " 23  Architecture Type         100 non-null    object        \n",
      " 24  Mobile Compliance         78 non-null     object        \n",
      " 25  Multi Language Support    100 non-null    object        \n",
      "dtypes: datetime64[ns](2), object(24)\n",
      "memory usage: 20.4+ KB\n"
     ]
    }
   ],
   "source": [
    "df_uncleaned.info()"
   ]
  },
  {
   "cell_type": "code",
   "execution_count": 12,
   "id": "0b96c918",
   "metadata": {
    "execution": {
     "iopub.execute_input": "2024-03-18T12:34:35.640732Z",
     "iopub.status.busy": "2024-03-18T12:34:35.640088Z",
     "iopub.status.idle": "2024-03-18T12:34:35.676864Z",
     "shell.execute_reply": "2024-03-18T12:34:35.675118Z"
    },
    "papermill": {
     "duration": 0.046733,
     "end_time": "2024-03-18T12:34:35.679266",
     "exception": false,
     "start_time": "2024-03-18T12:34:35.632533",
     "status": "completed"
    },
    "tags": []
   },
   "outputs": [
    {
     "name": "stdout",
     "output_type": "stream",
     "text": [
      "Scorecard Summary:\n",
      "                        Go Live Date            End of Support Date\n",
      "count                             57                             58\n",
      "mean   2014-09-04 05:03:09.473684224  2023-10-29 02:04:08.275862016\n",
      "min              2004-01-01 00:00:00            2015-01-01 00:00:00\n",
      "25%              2010-01-01 00:00:00            2023-01-12 06:00:00\n",
      "50%              2015-01-01 00:00:00            2024-02-17 12:00:00\n",
      "75%              2018-11-01 00:00:00            2024-11-30 00:00:00\n",
      "max              2023-07-28 00:00:00            2036-11-09 00:00:00\n",
      "\n",
      "Data Completeness: (Missing Values %)\n",
      "Name                         0.0\n",
      "Short Name                   0.0\n",
      "Description                  0.0\n",
      "Business Owner               0.0\n",
      "Technical Owner              0.0\n",
      "Number of Users             44.0\n",
      "Recovery Point Objective    74.0\n",
      "Recovery Time Objective     73.0\n",
      "Go Live Date                43.0\n",
      "End of Support Date         42.0\n",
      "SLA Type                    67.0\n",
      "Vendor                       0.0\n",
      "Status                      12.0\n",
      "AGF Classification           7.0\n",
      "DR Type                     72.0\n",
      "Required Availability       55.0\n",
      "System Hosting Place        38.0\n",
      "Mobile Compliance           16.0\n",
      "Type of System              32.0\n",
      "User Community              16.0\n",
      "Development Type             0.0\n",
      "Recommendation               0.0\n",
      "Cloud Migration Strategy     0.0\n",
      "Architecture Type            0.0\n",
      "Mobile Compliance           22.0\n",
      "Multi Language Support       0.0\n",
      "dtype: float64\n",
      "\n",
      "Quality Issues:\n",
      "dtype:\n",
      "Name                                object\n",
      "Short Name                          object\n",
      "Description                         object\n",
      "Business Owner                      object\n",
      "Technical Owner                     object\n",
      "Number of Users                     object\n",
      "Recovery Point Objective            object\n",
      "Recovery Time Objective             object\n",
      "Go Live Date                datetime64[ns]\n",
      "End of Support Date         datetime64[ns]\n",
      "SLA Type                            object\n",
      "Vendor                              object\n",
      "Status                              object\n",
      "AGF Classification                  object\n",
      "DR Type                             object\n",
      "Required Availability               object\n",
      "System Hosting Place                object\n",
      "Mobile Compliance                   object\n",
      "Type of System                      object\n",
      "User Community                      object\n",
      "Development Type                    object\n",
      "Recommendation                      object\n",
      "Cloud Migration Strategy            object\n",
      "Architecture Type                   object\n",
      "Mobile Compliance                   object\n",
      "Multi Language Support              object\n",
      "dtype: object\n",
      "\n",
      "unique_values:\n",
      "Name                         98\n",
      "Short Name                   97\n",
      "Description                 100\n",
      "Business Owner               20\n",
      "Technical Owner              19\n",
      "Number of Users              48\n",
      "Recovery Point Objective     14\n",
      "Recovery Time Objective      13\n",
      "Go Live Date                 39\n",
      "End of Support Date          43\n",
      "SLA Type                      4\n",
      "Vendor                       30\n",
      "Status                        3\n",
      "AGF Classification            4\n",
      "DR Type                       5\n",
      "Required Availability         3\n",
      "System Hosting Place          3\n",
      "Mobile Compliance             3\n",
      "Type of System                3\n",
      "User Community                2\n",
      "Development Type              2\n",
      "Recommendation                4\n",
      "Cloud Migration Strategy      6\n",
      "Architecture Type             7\n",
      "Mobile Compliance             3\n",
      "Multi Language Support        2\n",
      "dtype: int64\n",
      "\n",
      "duplicates:\n",
      "0\n",
      "\n"
     ]
    }
   ],
   "source": [
    "# Scorecard Summary\n",
    "summary = df_uncleaned.describe()\n",
    "\n",
    "# Data Completeness\n",
    "completeness = df_uncleaned.isnull().mean() * 100  # Percentage of missing values per column\n",
    "\n",
    "# Quality Issues\n",
    "quality_issues = {\n",
    "    'dtype': df_uncleaned.dtypes,                  # Data types of columns\n",
    "    'unique_values': df_uncleaned.nunique(),       # Count of unique values per column\n",
    "    'duplicates': df_uncleaned.duplicated().sum()  # Count of duplicate rows\n",
    "}\n",
    "\n",
    "# Display results\n",
    "print(\"Scorecard Summary:\")\n",
    "print(summary)\n",
    "print(\"\\nData Completeness: (Missing Values %)\")\n",
    "print(completeness)\n",
    "print(\"\\nQuality Issues:\")\n",
    "for key, value in quality_issues.items():\n",
    "    print(f\"{key}:\")\n",
    "    print(value)\n",
    "    print()"
   ]
  },
  {
   "cell_type": "code",
   "execution_count": null,
   "id": "c23b93da",
   "metadata": {
    "papermill": {
     "duration": 0.005555,
     "end_time": "2024-03-18T12:34:35.690743",
     "exception": false,
     "start_time": "2024-03-18T12:34:35.685188",
     "status": "completed"
    },
    "tags": []
   },
   "outputs": [],
   "source": []
  }
 ],
 "metadata": {
  "kaggle": {
   "accelerator": "none",
   "dataSources": [
    {
     "databundleVersionId": 7981387,
     "datasetId": 4619135,
     "sourceId": 7875668,
     "sourceType": "datasetVersion"
    }
   ],
   "dockerImageVersionId": 30664,
   "isGpuEnabled": false,
   "isInternetEnabled": true,
   "language": "python",
   "sourceType": "notebook"
  },
  "kernelspec": {
   "display_name": "Python 3",
   "language": "python",
   "name": "python3"
  },
  "language_info": {
   "codemirror_mode": {
    "name": "ipython",
    "version": 3
   },
   "file_extension": ".py",
   "mimetype": "text/x-python",
   "name": "python",
   "nbconvert_exporter": "python",
   "pygments_lexer": "ipython3",
   "version": "3.10.13"
  },
  "papermill": {
   "default_parameters": {},
   "duration": 8.063776,
   "end_time": "2024-03-18T12:34:39.055735",
   "environment_variables": {},
   "exception": null,
   "input_path": "__notebook__.ipynb",
   "output_path": "__notebook__.ipynb",
   "parameters": {},
   "start_time": "2024-03-18T12:34:30.991959",
   "version": "2.5.0"
  }
 },
 "nbformat": 4,
 "nbformat_minor": 5
}
