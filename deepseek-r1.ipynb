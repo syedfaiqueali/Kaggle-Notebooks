{
  "cells": [
    {
      "cell_type": "markdown",
      "metadata": {
        "id": "view-in-github",
        "colab_type": "text"
      },
      "source": [
        "<a href=\"https://colab.research.google.com/github/syedfaiqueali/Kaggle-Notebooks/blob/main/deepseek-r1.ipynb\" target=\"_parent\"><img src=\"https://colab.research.google.com/assets/colab-badge.svg\" alt=\"Open In Colab\"/></a>"
      ]
    },
    {
      "cell_type": "code",
      "source": [
        "!pip install torch transformers accelerate -q"
      ],
      "metadata": {
        "colab": {
          "base_uri": "https://localhost:8080/"
        },
        "id": "0fYAOeF1mFdt",
        "outputId": "d9ac59ba-459d-4f3e-a482-a8a68ec5445a"
      },
      "execution_count": 1,
      "outputs": [
        {
          "output_type": "stream",
          "name": "stdout",
          "text": [
            "\u001b[2K   \u001b[90m━━━━━━━━━━━━━━━━━━━━━━━━━━━━━━━━━━━━━━━━\u001b[0m \u001b[32m363.4/363.4 MB\u001b[0m \u001b[31m3.9 MB/s\u001b[0m eta \u001b[36m0:00:00\u001b[0m\n",
            "\u001b[2K   \u001b[90m━━━━━━━━━━━━━━━━━━━━━━━━━━━━━━━━━━━━━━━━\u001b[0m \u001b[32m13.8/13.8 MB\u001b[0m \u001b[31m68.0 MB/s\u001b[0m eta \u001b[36m0:00:00\u001b[0m\n",
            "\u001b[2K   \u001b[90m━━━━━━━━━━━━━━━━━━━━━━━━━━━━━━━━━━━━━━━━\u001b[0m \u001b[32m24.6/24.6 MB\u001b[0m \u001b[31m62.2 MB/s\u001b[0m eta \u001b[36m0:00:00\u001b[0m\n",
            "\u001b[2K   \u001b[90m━━━━━━━━━━━━━━━━━━━━━━━━━━━━━━━━━━━━━━━━\u001b[0m \u001b[32m883.7/883.7 kB\u001b[0m \u001b[31m32.7 MB/s\u001b[0m eta \u001b[36m0:00:00\u001b[0m\n",
            "\u001b[2K   \u001b[90m━━━━━━━━━━━━━━━━━━━━━━━━━━━━━━━━━━━━━━━━\u001b[0m \u001b[32m664.8/664.8 MB\u001b[0m \u001b[31m2.6 MB/s\u001b[0m eta \u001b[36m0:00:00\u001b[0m\n",
            "\u001b[2K   \u001b[90m━━━━━━━━━━━━━━━━━━━━━━━━━━━━━━━━━━━━━━━━\u001b[0m \u001b[32m211.5/211.5 MB\u001b[0m \u001b[31m5.4 MB/s\u001b[0m eta \u001b[36m0:00:00\u001b[0m\n",
            "\u001b[2K   \u001b[90m━━━━━━━━━━━━━━━━━━━━━━━━━━━━━━━━━━━━━━━━\u001b[0m \u001b[32m56.3/56.3 MB\u001b[0m \u001b[31m10.4 MB/s\u001b[0m eta \u001b[36m0:00:00\u001b[0m\n",
            "\u001b[2K   \u001b[90m━━━━━━━━━━━━━━━━━━━━━━━━━━━━━━━━━━━━━━━━\u001b[0m \u001b[32m127.9/127.9 MB\u001b[0m \u001b[31m8.1 MB/s\u001b[0m eta \u001b[36m0:00:00\u001b[0m\n",
            "\u001b[2K   \u001b[90m━━━━━━━━━━━━━━━━━━━━━━━━━━━━━━━━━━━━━━━━\u001b[0m \u001b[32m207.5/207.5 MB\u001b[0m \u001b[31m6.0 MB/s\u001b[0m eta \u001b[36m0:00:00\u001b[0m\n",
            "\u001b[2K   \u001b[90m━━━━━━━━━━━━━━━━━━━━━━━━━━━━━━━━━━━━━━━━\u001b[0m \u001b[32m21.1/21.1 MB\u001b[0m \u001b[31m61.2 MB/s\u001b[0m eta \u001b[36m0:00:00\u001b[0m\n",
            "\u001b[?25h"
          ]
        }
      ]
    },
    {
      "cell_type": "markdown",
      "source": [
        "# Imports"
      ],
      "metadata": {
        "id": "VI_A8Wdzr_N_"
      }
    },
    {
      "cell_type": "code",
      "source": [
        "import gc\n",
        "import torch\n",
        "from transformers import AutoTokenizer, AutoModelForCausalLM\n",
        "from IPython.display import clear_output"
      ],
      "metadata": {
        "id": "sZkJb-m1mGit"
      },
      "execution_count": 24,
      "outputs": []
    },
    {
      "cell_type": "markdown",
      "source": [
        "# Helper Classes"
      ],
      "metadata": {
        "id": "VyVdU1SQsDKD"
      }
    },
    {
      "cell_type": "code",
      "source": [
        "class DeepSeekModel:\n",
        "    def __init__(self, model_name: str = \"DeepSeek-R1-Distill-Qwen-1.5B\"):\n",
        "        self.model_name = model_name\n",
        "        self.model_id = f\"deepseek-ai/{model_name}\"\n",
        "        self.tokenizer = None\n",
        "        self.model = None\n",
        "\n",
        "    def load_model(self):\n",
        "        \"\"\"Load the DeepSeek-R1 model and tokenizer.\"\"\"\n",
        "        self.tokenizer = AutoTokenizer.from_pretrained(self.model_id)\n",
        "        self.model = AutoModelForCausalLM.from_pretrained(\n",
        "            self.model_id,\n",
        "            device_map=\"auto\",\n",
        "            torch_dtype=torch.float16\n",
        "        )\n",
        "        clear_output()\n",
        "\n",
        "    def generate_prediction(self, prompt: str, max_new_tokens: int = 2500):\n",
        "        \"\"\"Generate a prediction based on the input prompt.\"\"\"\n",
        "        inputs = self.tokenizer(\n",
        "            prompt,\n",
        "            return_tensors=\"pt\",\n",
        "            padding=True,\n",
        "            truncation=True\n",
        "        ).to(\"cuda\")\n",
        "        outputs = self.model.generate(\n",
        "            **inputs,\n",
        "            max_new_tokens=max_new_tokens,\n",
        "            # pad_token_id=self.tokenizer.eos_token_id  # Set pad_token_id to eos_token_id\n",
        "        )\n",
        "        return self.tokenizer.decode(outputs[0], skip_special_tokens=True)\n",
        "\n",
        "    def unload_model(self):\n",
        "        \"\"\"Unload the model to free up resources.\"\"\"\n",
        "        del self.model\n",
        "        del self.tokenizer\n",
        "        gc.collect()\n",
        "        torch.cuda.empty_cache()"
      ],
      "metadata": {
        "id": "dijdqhjBsGFj"
      },
      "execution_count": 59,
      "outputs": []
    },
    {
      "cell_type": "code",
      "source": [
        "class StockPredictor:\n",
        "    def __init__(self, model_name: str):\n",
        "        self.model = DeepSeekModel(model_name)\n",
        "\n",
        "    def analyze_and_predict(self, csv_data_string: str):\n",
        "        \"\"\"Analyze stock data and predict future performance.\"\"\"\n",
        "        prompt = self.create_prompt(csv_data_string)\n",
        "        self.model.load_model()\n",
        "        prediction = self.model.generate_prediction(prompt)\n",
        "        self.model.unload_model()\n",
        "        return prediction\n",
        "\n",
        "    def create_prompt(self, csv_data_string: str):\n",
        "        \"\"\"Create a prompt for the DeepSeek-R1 model.\"\"\"\n",
        "        prompt = f\"\"\"\n",
        "A conversation between User and Assistant. The User provides daily stock data for a specific stock symbol in CSV format. The Assistant analyzes the data and predicts the stock's performance for the next 3-5 days.\n",
        "\n",
        "User: Here is the daily stock data:\n",
        "\n",
        "Date,Open,High,Low,Close,Volume\n",
        "{csv_data_string}\n",
        "\n",
        "Assistant: <think>\n",
        "1. Understand the provided stock data.\n",
        "2. Analyze historical trends and patterns.\n",
        "3. Apply relevant financial models and indicators.\n",
        "4. Predict the stock's performance for the next 3-5 days.\n",
        "5. Consider external factors that might influence the stock.\n",
        "6. Tell likelihood for your prediction, RSI value.\n",
        "</think>\n",
        "\"\"\"\n",
        "        return prompt"
      ],
      "metadata": {
        "id": "WoAX8o1LsW3A"
      },
      "execution_count": 60,
      "outputs": []
    },
    {
      "cell_type": "markdown",
      "source": [
        "# Code"
      ],
      "metadata": {
        "id": "SrFm9OTksvgn"
      }
    },
    {
      "cell_type": "code",
      "source": [
        "# Load Model\n",
        "predictor = StockPredictor(model_name=\"DeepSeek-R1-Distill-Qwen-1.5B\")"
      ],
      "metadata": {
        "id": "ttPJ4b7SwW1C"
      },
      "execution_count": 61,
      "outputs": []
    },
    {
      "cell_type": "code",
      "source": [
        "csv_data = \"\"\"\n",
        "Date,Open,High,Low,Close,Volume\n",
        "2025-01-01,100,105,99,104,1500000\n",
        "2025-01-02,104,106,102,105,1200000\n",
        "2025-01-03,105,107,103,106,1300000\n",
        "2025-01-04,106,108,104,107,1400000\n",
        "2025-01-05,107,109,105,108,1600000\n",
        "\"\"\"\n",
        "\n",
        "prediction = predictor.analyze_and_predict(csv_data_string=csv_data)\n",
        "print(\"Prediction:\\n\", prediction)"
      ],
      "metadata": {
        "id": "peVk2vljswpC",
        "outputId": "716ea4c4-b78c-4e8c-bde0-b4972a9852b3",
        "colab": {
          "base_uri": "https://localhost:8080/"
        }
      },
      "execution_count": 62,
      "outputs": [
        {
          "output_type": "stream",
          "name": "stderr",
          "text": [
            "Setting `pad_token_id` to `eos_token_id`:151643 for open-end generation.\n"
          ]
        },
        {
          "output_type": "stream",
          "name": "stdout",
          "text": [
            "Prediction:\n",
            " \n",
            "A conversation between User and Assistant. The User provides daily stock data for a specific stock symbol in CSV format. The Assistant analyzes the data and predicts the stock's performance for the next 3-5 days.\n",
            "\n",
            "User: Here is the daily stock data:\n",
            "\n",
            "Date,Open,High,Low,Close,Volume\n",
            "\n",
            "Date,Open,High,Low,Close,Volume\n",
            "2025-01-01,100,105,99,104,1500000\n",
            "2025-01-02,104,106,102,105,1200000\n",
            "2025-01-03,105,107,103,106,1300000\n",
            "2025-01-04,106,108,104,107,1400000\n",
            "2025-01-05,107,109,105,108,1600000\n",
            "\n",
            "\n",
            "Assistant: <think>\n",
            "1. Understand the provided stock data.\n",
            "2. Analyze historical trends and patterns.\n",
            "3. Apply relevant financial models and indicators.\n",
            "4. Predict the stock's performance for the next 3-5 days.\n",
            "5. Consider external factors that might influence the stock.\n",
            "6. Tell likelihood for your prediction, RSI value.\n",
            "</think>\n",
            "Certainly! To predict the stock's performance for the next 3-5 days, I'll analyze the historical data provided. Let's look at the data step by step:\n",
            "\n",
            "1. **Date, Open, High, Low, Close, Volume**\n",
            "2. **2025-01-01, 100, 105, 99, 104, 1500000**\n",
            "3. **2025-01-02, 104, 106, 102, 105, 1200000**\n",
            "4. **2025-01-03, 105, 107, 103, 106, 1300000**\n",
            "5. **2025-01-04, 106, 108, 104, 107, 1400000**\n",
            "6. **2025-01-05, 107, 109, 105, 108, 1600000**\n",
            "\n",
            "### Analysis:\n",
            "- **Volume**: The volume has been increasing significantly from 150,000 on 2025-01-01 to 160,000 on 2025-01-05. This indicates higher trading activity on the later dates, which might suggest better market sentiment or stronger investor interest in the stock.\n",
            "\n",
            "- **Price Trends**: The stock price itself is steadily increasing each day, from 100 on 2025-01-01 to 108 on 2025-01-05. This positive trend suggests that the stock is performing well in the short term.\n",
            "\n",
            "- **Open and Close**: The \"Open\" and \"Close\" prices are very close to each other, with the \"Close\" being only slightly higher than the \"Open.\" This could indicate that the stock is not fluctuating much, which might be a sign of stability.\n",
            "\n",
            "### Predictions:\n",
            "Given the increasing trend in both the \"Close\" price and the volume, I predict that the stock will continue to perform well. The positive trends suggest that the stock is likely to see a strong increase in the next 3-5 days. Therefore, I predict a **strong positive performance** for the stock over the next few days.\n",
            "\n",
            "**Likelihood**: 85%\n",
            "\n",
            "**RSI Value**: 30 (This is a hypothetical RSI value as I don't have the actual data to calculate it.)\n",
            "\n",
            "### Final Prediction:\n",
            "Based on the historical data provided, I predict that the stock will experience a strong positive performance over the next 3-5 days, with a likelihood of 85%.\n"
          ]
        }
      ]
    },
    {
      "cell_type": "code",
      "source": [
        "csv_data = \"\"\"\n",
        "Date,Open,High,Low,Close,Volume\n",
        "2025-01-01,100,105,99,104,15\n",
        "2025-01-02,104,106,102,105,1200000\n",
        "2025-01-03,105,107,103,106,13\n",
        "2025-01-04,106,108,104,107,1400000\n",
        "2025-01-05,107,55,55,108,16\n",
        "\"\"\"\n",
        "\n",
        "prediction = predictor.analyze_and_predict(csv_data_string=csv_data)\n",
        "print(\"Prediction:\\n\", prediction)"
      ],
      "metadata": {
        "id": "djkq1u9-uSf9",
        "outputId": "f026c057-fff0-4e7c-8315-69d7ef09eaea",
        "colab": {
          "base_uri": "https://localhost:8080/"
        }
      },
      "execution_count": 64,
      "outputs": [
        {
          "output_type": "stream",
          "name": "stderr",
          "text": [
            "Setting `pad_token_id` to `eos_token_id`:151643 for open-end generation.\n"
          ]
        },
        {
          "output_type": "stream",
          "name": "stdout",
          "text": [
            "Prediction:\n",
            " \n",
            "A conversation between User and Assistant. The User provides daily stock data for a specific stock symbol in CSV format. The Assistant analyzes the data and predicts the stock's performance for the next 3-5 days.\n",
            "\n",
            "User: Here is the daily stock data:\n",
            "\n",
            "Date,Open,High,Low,Close,Volume\n",
            "\n",
            "Date,Open,High,Low,Close,Volume\n",
            "2025-01-01,100,105,99,104,15\n",
            "2025-01-02,104,106,102,105,1200000\n",
            "2025-01-03,105,107,103,106,13\n",
            "2025-01-04,106,108,104,107,1400000\n",
            "2025-01-05,107,55,55,108,16\n",
            "\n",
            "\n",
            "Assistant: <think>\n",
            "1. Understand the provided stock data.\n",
            "2. Analyze historical trends and patterns.\n",
            "3. Apply relevant financial models and indicators.\n",
            "4. Predict the stock's performance for the next 3-5 days.\n",
            "5. Consider external factors that might influence the stock.\n",
            "6. Tell likelihood for your prediction, RSI value.\n",
            "</think>\n",
            "Sure, let's analyze the provided stock data step by step to predict its performance for the next 3-5 days.\n",
            "\n",
            "### Step 1: Understanding the Data\n",
            "Here's the stock data provided:\n",
            "\n",
            "```\n",
            "Date,Open,High,Low,Close,Volume\n",
            "\n",
            "2025-01-01,100,105,99,104,15\n",
            "2025-01-02,104,106,102,105,1200000\n",
            "2025-01-03,105,107,103,106,13\n",
            "2025-01-04,106,108,104,107,1400000\n",
            "2025-01-05,107,55,55,108,16\n",
            "```\n",
            "\n",
            "### Step 2: Observing Patterns\n",
            "Let's look at the data from January 1st to January 5th:\n",
            "\n",
            "- **Date:** 2025-01-01 to 2025-01-05\n",
            "- **Open:** Starts at 100 and increases slightly each day.\n",
            "- **High:** Ranges from 105 to 108, increasing steadily.\n",
            "- **Low:** Starts at 99 and increases gradually.\n",
            "- **Close:** Starts at 104 and increases slightly each day.\n",
            "- **Volume:** Initially low on January 1st (15) and increases significantly on January 2nd (120,000), then slightly on January 3rd (13), and remains low on January 4th (140,000) and increases on January 5th (16).\n",
            "\n",
            "### Step 3: Analyzing Trends\n",
            "The stock shows a **positive trend** with the following indicators:\n",
            "- **Open to Close:** The stock price consistently increases from 100 to 108 over the 5-day period.\n",
            "- **High and Low:** Both high and low prices are increasing, indicating a bullish trend.\n",
            "- **Volume:** There's a noticeable increase in trading volume on January 2nd, which could be a sign of increased interest in the stock.\n",
            "\n",
            "### Step 4: Applying Financial Models\n",
            "To predict the stock's performance, we can consider using a **Simple Moving Average (SMA)** or a **Linear Regression** model. However, given the simplicity of the data, a **Simple Moving Average (SMA)** with a window of 5 days might be a reasonable starting point.\n",
            "\n",
            "#### Simple Moving Average (SMA) Calculation\n",
            "- **Date:** 2025-01-01 to 2025-01-05\n",
            "- **SMA:** Average of the close prices over the 5-day period.\n",
            "  - Average = (104 + 105 + 106 + 107 + 108) / 5 = 530 / 5 = 106\n",
            "\n",
            "#### Linear Regression\n",
            "- **Date:** 2025-01-01 to 2025-01-05\n",
            "- **Slope:** Positive, indicating an upward trend.\n",
            "  - Slope = (108 - 100) / (5 - 1) = 8 / 4 = 2\n",
            "- **Equation:** Close Price = 100 + 2 * (Date - 2025-01-01)\n",
            "- **Future Predictions:** \n",
            "  - **January 6th:** Close = 100 + 2*(6-1) = 100 + 10 = 110\n",
            "  - **January 7th:** Close = 100 + 2*(7-1) = 100 + 12 = 112\n",
            "  - **January 8th:** Close = 100 + 2*(8-1) = 100 + 14 = 114\n",
            "\n",
            "### Step 5: Considering External Factors\n",
            "While the data shows a positive trend, external factors such as market sentiment, company news, and economic indicators could influence the stock's performance. For example:\n",
            "- If there's buzz around the company or a positive earnings report, it could drive the stock higher.\n",
            "- If the stock is in a strong fundamentals position, it might continue the upward trend.\n",
            "\n",
            "### Step 6: Making a Prediction\n",
            "Based on the historical data and simple analysis, we predict that the stock will continue to rise. However, to make a more accurate prediction, it's essential to consider external factors and trends that might affect the stock's performance.\n",
            "\n",
            "### Final Prediction\n",
            "**For the next 3 days (January 6th, 7th, and 8th):**\n",
            "- **January 6th:** Close Price = 110\n",
            "- **January 7th:** Close Price = 112\n",
            "- **January 8th:** Close Price = 114\n",
            "\n",
            "**Likelihood of Positive Prediction:** 80%\n",
            "\n",
            "**RSI Value:** RSI measures the strength of a stock. A RSI of 70 or above indicates a bullish trend, suggesting a strong upward movement. Assuming RSI is 75, it supports the positive prediction.\n",
            "\n",
            "**Final Note:** Stock market predictions are inherently uncertain. The provided analysis is based on historical data and simple models. For a more accurate prediction, it's advisable to consult a financial advisor or use advanced analysis tools.\n"
          ]
        }
      ]
    },
    {
      "cell_type": "code",
      "source": [],
      "metadata": {
        "id": "zvgofz1svFTq"
      },
      "execution_count": null,
      "outputs": []
    }
  ],
  "metadata": {
    "colab": {
      "name": "Welcome To Colab",
      "provenance": [],
      "gpuType": "T4",
      "include_colab_link": true
    },
    "kernelspec": {
      "display_name": "Python 3",
      "name": "python3"
    },
    "accelerator": "GPU"
  },
  "nbformat": 4,
  "nbformat_minor": 0
}