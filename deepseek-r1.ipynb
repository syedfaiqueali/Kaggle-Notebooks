{
  "cells": [
    {
      "cell_type": "markdown",
      "metadata": {
        "id": "view-in-github",
        "colab_type": "text"
      },
      "source": [
        "<a href=\"https://colab.research.google.com/github/syedfaiqueali/Kaggle-Notebooks/blob/main/deepseek-r1.ipynb\" target=\"_parent\"><img src=\"https://colab.research.google.com/assets/colab-badge.svg\" alt=\"Open In Colab\"/></a>"
      ]
    },
    {
      "cell_type": "code",
      "source": [
        "!pip install torch transformers accelerate -q"
      ],
      "metadata": {
        "colab": {
          "base_uri": "https://localhost:8080/"
        },
        "id": "0fYAOeF1mFdt",
        "outputId": "fa55ff9e-0096-4954-9ca7-f3528e153fad"
      },
      "execution_count": 1,
      "outputs": [
        {
          "output_type": "stream",
          "name": "stdout",
          "text": [
            "\u001b[2K   \u001b[91m━━━━\u001b[0m\u001b[91m╸\u001b[0m\u001b[90m━━━━━━━━━━━━━━━━━━━━━━━━━━━━━━━━━━━\u001b[0m \u001b[32m43.3/363.4 MB\u001b[0m \u001b[31m65.1 MB/s\u001b[0m eta \u001b[36m0:00:05\u001b[0m\n",
            "\u001b[2K   \u001b[90m━━━━━━━━━━━━━━━━━━━━━━━━━━━━━━━━━━━━━━━━\u001b[0m \u001b[32m13.8/13.8 MB\u001b[0m \u001b[31m23.6 MB/s\u001b[0m eta \u001b[36m0:00:00\u001b[0m\n",
            "\u001b[2K   \u001b[90m━━━━━━━━━━━━━━━━━━━━━━━━━━━━━━━━━━━━━━━━\u001b[0m \u001b[32m24.6/24.6 MB\u001b[0m \u001b[31m9.6 MB/s\u001b[0m eta \u001b[36m0:00:00\u001b[0m\n",
            "\u001b[2K   \u001b[90m━━━━━━━━━━━━━━━━━━━━━━━━━━━━━━━━━━━━━━━━\u001b[0m \u001b[32m883.7/883.7 kB\u001b[0m \u001b[31m13.5 MB/s\u001b[0m eta \u001b[36m0:00:00\u001b[0m\n",
            "\u001b[2K   \u001b[90m━━━━━━━━━━━━━━━━━━━━━━━━━━━━━━━━━━━━━━━━\u001b[0m \u001b[32m664.8/664.8 MB\u001b[0m \u001b[31m2.4 MB/s\u001b[0m eta \u001b[36m0:00:00\u001b[0m\n",
            "\u001b[2K   \u001b[90m━━━━━━━━━━━━━━━━━━━━━━━━━━━━━━━━━━━━━━━━\u001b[0m \u001b[32m211.5/211.5 MB\u001b[0m \u001b[31m5.6 MB/s\u001b[0m eta \u001b[36m0:00:00\u001b[0m\n",
            "\u001b[2K   \u001b[90m━━━━━━━━━━━━━━━━━━━━━━━━━━━━━━━━━━━━━━━━\u001b[0m \u001b[32m56.3/56.3 MB\u001b[0m \u001b[31m10.9 MB/s\u001b[0m eta \u001b[36m0:00:00\u001b[0m\n",
            "\u001b[2K   \u001b[90m━━━━━━━━━━━━━━━━━━━━━━━━━━━━━━━━━━━━━━━━\u001b[0m \u001b[32m127.9/127.9 MB\u001b[0m \u001b[31m7.4 MB/s\u001b[0m eta \u001b[36m0:00:00\u001b[0m\n",
            "\u001b[2K   \u001b[90m━━━━━━━━━━━━━━━━━━━━━━━━━━━━━━━━━━━━━━━━\u001b[0m \u001b[32m207.5/207.5 MB\u001b[0m \u001b[31m5.5 MB/s\u001b[0m eta \u001b[36m0:00:00\u001b[0m\n",
            "\u001b[2K   \u001b[90m━━━━━━━━━━━━━━━━━━━━━━━━━━━━━━━━━━━━━━━━\u001b[0m \u001b[32m21.1/21.1 MB\u001b[0m \u001b[31m88.6 MB/s\u001b[0m eta \u001b[36m0:00:00\u001b[0m\n",
            "\u001b[?25h\u001b[31mERROR: THESE PACKAGES DO NOT MATCH THE HASHES FROM THE REQUIREMENTS FILE. If you have updated the package versions, please update the hashes. Otherwise, examine the package contents carefully; someone may have tampered with them.\n",
            "    unknown package:\n",
            "        Expected sha256 2fc8da60df463fdefa81e323eef2e36489e1c94335b5358bcb38360adf75ac9b\n",
            "             Got        bd87203c062529cde98f2f646e51b33692f5f9ecc9d651792525df354497bdaa\n",
            "\u001b[0m\u001b[31m\n",
            "\u001b[0m"
          ]
        }
      ]
    },
    {
      "cell_type": "markdown",
      "source": [
        "# Imports"
      ],
      "metadata": {
        "id": "VI_A8Wdzr_N_"
      }
    },
    {
      "cell_type": "code",
      "source": [
        "import gc\n",
        "import torch\n",
        "from transformers import AutoTokenizer, AutoModelForCausalLM\n",
        "from IPython.display import clear_output"
      ],
      "metadata": {
        "id": "sZkJb-m1mGit"
      },
      "execution_count": 2,
      "outputs": []
    },
    {
      "cell_type": "markdown",
      "source": [
        "# Helper Classes"
      ],
      "metadata": {
        "id": "VyVdU1SQsDKD"
      }
    },
    {
      "cell_type": "code",
      "source": [
        "class DeepSeekModel:\n",
        "    def __init__(self, model_name: str = \"DeepSeek-R1-Distill-Qwen-1.5B\"):\n",
        "        self.model_name = model_name\n",
        "        self.model_id = f\"deepseek-ai/{model_name}\"\n",
        "        self.tokenizer = None\n",
        "        self.model = None\n",
        "\n",
        "    def load_model(self):\n",
        "        \"\"\"Load the DeepSeek-R1 model and tokenizer.\"\"\"\n",
        "        self.tokenizer = AutoTokenizer.from_pretrained(self.model_id)\n",
        "        self.model = AutoModelForCausalLM.from_pretrained(\n",
        "            self.model_id,\n",
        "            device_map=\"auto\",\n",
        "            torch_dtype=torch.float16\n",
        "        )\n",
        "        clear_output()\n",
        "\n",
        "    def generate_prediction(self, prompt: str, max_new_tokens: int = 2500):\n",
        "        \"\"\"Generate a prediction based on the input prompt.\"\"\"\n",
        "        inputs = self.tokenizer(\n",
        "            prompt,\n",
        "            return_tensors=\"pt\",\n",
        "            padding=True,\n",
        "            truncation=True\n",
        "        ).to(\"cuda\")\n",
        "        outputs = self.model.generate(\n",
        "            **inputs,\n",
        "            max_new_tokens=max_new_tokens,\n",
        "            # pad_token_id=self.tokenizer.eos_token_id  # Set pad_token_id to eos_token_id\n",
        "        )\n",
        "        return self.tokenizer.decode(outputs[0], skip_special_tokens=True)\n",
        "\n",
        "    def unload_model(self):\n",
        "        \"\"\"Unload the model to free up resources.\"\"\"\n",
        "        del self.model\n",
        "        del self.tokenizer\n",
        "        gc.collect()\n",
        "        torch.cuda.empty_cache()"
      ],
      "metadata": {
        "id": "dijdqhjBsGFj"
      },
      "execution_count": 3,
      "outputs": []
    },
    {
      "cell_type": "code",
      "source": [
        "class StockPredictor:\n",
        "    def __init__(self, model_name: str):\n",
        "        self.model = DeepSeekModel(model_name)\n",
        "        self.model.load_model()\n",
        "\n",
        "    def analyze_and_predict(self, csv_data_string: str):\n",
        "        \"\"\"Analyze stock data and predict future performance.\"\"\"\n",
        "        prompt = self.create_prompt(csv_data_string)\n",
        "        prediction = self.model.generate_prediction(prompt)\n",
        "        # self.model.unload_model()\n",
        "        return prediction\n",
        "\n",
        "    def create_prompt(self, csv_data_string: str):\n",
        "        \"\"\"Create a prompt for the DeepSeek-R1 model.\"\"\"\n",
        "        prompt = f\"\"\"\n",
        "A conversation between User and Assistant. The User provides daily stock data for a specific stock symbol in CSV format. The Assistant analyzes the data and predicts the stock's performance for the next 3-5 days.\n",
        "\n",
        "User: Here is the daily stock data:\n",
        "\n",
        "Date,Open,High,Low,Close,Volume\n",
        "{csv_data_string}\n",
        "\n",
        "Assistant: <think>\n",
        "1. Understand the provided stock data.\n",
        "2. Analyze historical trends and patterns.\n",
        "3. Apply relevant financial models and indicators.\n",
        "4. Predict the stock's performance for the next 3-5 days.\n",
        "5. Consider external factors that might influence the stock.\n",
        "6. Tell likelihood for your prediction, RSI value.\n",
        "</think>\n",
        "\"\"\"\n",
        "        return prompt"
      ],
      "metadata": {
        "id": "WoAX8o1LsW3A"
      },
      "execution_count": 4,
      "outputs": []
    },
    {
      "cell_type": "markdown",
      "source": [
        "# Code"
      ],
      "metadata": {
        "id": "SrFm9OTksvgn"
      }
    },
    {
      "cell_type": "code",
      "source": [
        "# Load Model\n",
        "predictor = StockPredictor(model_name=\"DeepSeek-R1-Distill-Qwen-7B\") # 1.5,7,8"
      ],
      "metadata": {
        "id": "ttPJ4b7SwW1C"
      },
      "execution_count": 5,
      "outputs": []
    },
    {
      "cell_type": "code",
      "source": [
        "csv_data = \"\"\"\n",
        "Date,Open,High,Low,Close,Volume\n",
        "2025-01-01,100,105,99,104,1500000\n",
        "2025-01-02,104,106,102,105,1200000\n",
        "2025-01-03,105,107,103,106,1300000\n",
        "2025-01-04,106,108,104,107,1400000\n",
        "2025-01-05,107,109,105,108,1600000\n",
        "\"\"\"\n",
        "\n",
        "prediction = predictor.analyze_and_predict(csv_data_string=csv_data)\n",
        "print(\"Prediction:\\n\", prediction)"
      ],
      "metadata": {
        "colab": {
          "base_uri": "https://localhost:8080/"
        },
        "id": "peVk2vljswpC",
        "outputId": "9d488933-4276-4d48-dc66-70a350388636"
      },
      "execution_count": 6,
      "outputs": [
        {
          "output_type": "stream",
          "name": "stderr",
          "text": [
            "Setting `pad_token_id` to `eos_token_id`:151643 for open-end generation.\n"
          ]
        },
        {
          "output_type": "stream",
          "name": "stdout",
          "text": [
            "Prediction:\n",
            " \n",
            "A conversation between User and Assistant. The User provides daily stock data for a specific stock symbol in CSV format. The Assistant analyzes the data and predicts the stock's performance for the next 3-5 days.\n",
            "\n",
            "User: Here is the daily stock data:\n",
            "\n",
            "Date,Open,High,Low,Close,Volume\n",
            "\n",
            "Date,Open,High,Low,Close,Volume\n",
            "2025-01-01,100,105,99,104,1500000\n",
            "2025-01-02,104,106,102,105,1200000\n",
            "2025-01-03,105,107,103,106,1300000\n",
            "2025-01-04,106,108,104,107,1400000\n",
            "2025-01-05,107,109,105,108,1600000\n",
            "\n",
            "\n",
            "Assistant: <think>\n",
            "1. Understand the provided stock data.\n",
            "2. Analyze historical trends and patterns.\n",
            "3. Apply relevant financial models and indicators.\n",
            "4. Predict the stock's performance for the next 3-5 days.\n",
            "5. Consider external factors that might influence the stock.\n",
            "6. Tell likelihood for your prediction, RSI value.\n",
            "</think>\n",
            "Alright, let's break down the problem step by step to provide a clear and accurate analysis.\n",
            "\n",
            "### 1. Understand the Provided Stock Data\n",
            "\n",
            "The data includes daily stock prices and trading volumes for a specific stock symbol from January 1, 2025, to January 5, 2025. Here's a summary of the data:\n",
            "\n",
            "| Date       | Open | High | Low | Close | Volume   |\n",
            "|------------|-------|------|-----|--------|----------|\n",
            "| 2025-01-01 | 100   | 105  | 99  | 104    | 1,500,000 |\n",
            "| 2025-01-02 | 104   | 106  | 102 | 105    | 1,200,000 |\n",
            "| 2025-01-03 | 105   | 107  | 103 | 106    | 1,300,000 |\n",
            "| 2025-01-04 | 106   | 108  | 104 | 107    | 1,400,000 |\n",
            "| 2025-01-05 | 107   | 109  | 105 | 108    | 1,600,000 |\n",
            "\n",
            "### 2. Analyze Historical Trends and Patterns\n",
            "\n",
            "Looking at the data:\n",
            "\n",
            "- **Trend**: The stock price has been steadily increasing over the five days. Each day's closing price is higher than the previous day's closing price.\n",
            "- **Volume**: The trading volume has been increasing each day, indicating higher investor interest and confidence.\n",
            "- **Price Movements**: The stock has shown consistent upward movement with minimal volatility (range between high and low is relatively small compared to the overall price).\n",
            "\n",
            "### 3. Apply Relevant Financial Models and Indicators\n",
            "\n",
            "To predict the stock's performance, we can consider the following:\n",
            "\n",
            "- **Moving Average (MA)**: A simple approach to identify trends. A rising MA indicates an uptrend.\n",
            "- **Relative Strength Index (RSI)**: A momentum oscillator that measures the speed and strength of price movements. Values below 30 indicate a potential uptrend, while values above 70 indicate a potential downtrend.\n",
            "\n",
            "### 4. Predict the Stock's Performance for the Next 3-5 Days\n",
            "\n",
            "Based on the observed trend and volume, the stock is likely to continue its upward movement. However, it's essential to consider external factors such as market conditions, company news, economic indicators, and global events that might impact the stock price.\n",
            "\n",
            "### 5. Consider External Factors\n",
            "\n",
            "While analyzing the data, we should also consider external factors that might influence the stock price. Some factors to consider include:\n",
            "\n",
            "- **Market Sentiment**: Positive or negative sentiment towards the company or the overall market.\n",
            "- **Economic Indicators**: GDP growth, interest rates, inflation, etc.\n",
            "- **Company News**: Any upcoming earnings reports, product launches, or strategic decisions.\n",
            "- **Global Events**: Political events, natural disasters, or pandemics that might impact the stock.\n",
            "\n",
            "### 6. Tell Likelihood for Your Prediction, RSI Value\n",
            "\n",
            "To estimate the likelihood of the prediction, we can use the Relative Strength Index (RSI). The RSI is calculated based on the closing prices and provides a measure of whether a stock is overbought or oversold.\n",
            "\n",
            "**Calculating RSI:**\n",
            "\n",
            "1. **Calculate the average gain and loss over a specified period (e.g., 14 days).**\n",
            "2. **Compute the relative strength (RS) by dividing the average gain by the average loss.**\n",
            "3. **Calculate the RSI using the formula:**\n",
            "   \n",
            "   \\[\n",
            "   RSI = \\frac{100 - \\left( \\frac{Average\\ Loss}{Average\\ Gain + Average\\ Loss} \\times 100 \\right)}\n",
            "   \\]\n",
            "\n",
            "For the given data, let's compute the RSI for the last 14 days. However, since we only have 5 days of data, we'll use the available data to estimate the RSI.\n",
            "\n",
            "**Steps:**\n",
            "\n",
            "1. **Calculate the price changes:**\n",
            "   \n",
            "   - Day 2: 104 - 100 = +4\n",
            "   - Day 3: 105 - 104 = +1\n",
            "   - Day 4: 106 - 105 = +1\n",
            "   - Day 5: 107 - 106 = +1\n",
            "\n",
            "2. **Identify gains and losses:**\n",
            "   \n",
            "   - Gains: Days 2, 3, 4, 5 (all positive)\n",
            "   - Loss: None\n",
            "\n",
            "3. **Calculate average gain and average loss:**\n",
            "   \n",
            "   - Average Gain = (4 + 1 + 1 + 1) / 4 = 7/4 = 1.75\n",
            "   - Average Loss = 0\n",
            "\n",
            "4. **Calculate RS:**\n",
            "   \n",
            "   \\[\n",
            "   RS = \\frac{Average\\ Gain}{Average\\ Loss} = \\frac{1.75}{0} = \\infty\n",
            "   \\]\n",
            "\n",
            "5. **Calculate RSI:**\n",
            "   \n",
            "   Since Average Loss is 0, RSI approaches 100. However, in reality, RSI cannot be infinite. For practical purposes, we can consider the RSI as 100, indicating that the stock is overbought.\n",
            "\n",
            "### Final Answer\n",
            "\n",
            "Based on the analysis, the stock is expected to continue its upward trend. The RSI value indicates that the stock is overbought, suggesting a potential pullback in the near term. However, this is not a guarantee, and actual performance may vary depending on external factors.\n",
            "\n",
            "**Final Answer:**\n",
            "\n",
            "The predicted stock performance for the next 3-5 days is **positive**, with the stock expected to continue its upward trend. The RSI value is **100**, indicating that the stock is overbought.\n"
          ]
        }
      ]
    },
    {
      "cell_type": "code",
      "source": [
        "csv_data = \"\"\"\n",
        "Date,Open,High,Low,Close,Volume\n",
        "2025-01-01,100,105,99,104,15\n",
        "2025-01-02,104,106,102,105,1200000\n",
        "2025-01-03,105,107,103,106,13\n",
        "2025-01-04,106,108,104,107,1400000\n",
        "2025-01-05,107,55,55,108,16\n",
        "\"\"\"\n",
        "\n",
        "prediction = predictor.analyze_and_predict(csv_data_string=csv_data)\n",
        "print(\"Prediction:\\n\", prediction)"
      ],
      "metadata": {
        "colab": {
          "base_uri": "https://localhost:8080/"
        },
        "id": "djkq1u9-uSf9",
        "outputId": "7839e62d-9de4-46fc-b1c5-7b49a24070be"
      },
      "execution_count": 7,
      "outputs": [
        {
          "output_type": "stream",
          "name": "stderr",
          "text": [
            "Setting `pad_token_id` to `eos_token_id`:151643 for open-end generation.\n"
          ]
        },
        {
          "output_type": "stream",
          "name": "stdout",
          "text": [
            "Prediction:\n",
            " \n",
            "A conversation between User and Assistant. The User provides daily stock data for a specific stock symbol in CSV format. The Assistant analyzes the data and predicts the stock's performance for the next 3-5 days.\n",
            "\n",
            "User: Here is the daily stock data:\n",
            "\n",
            "Date,Open,High,Low,Close,Volume\n",
            "\n",
            "Date,Open,High,Low,Close,Volume\n",
            "2025-01-01,100,105,99,104,15\n",
            "2025-01-02,104,106,102,105,1200000\n",
            "2025-01-03,105,107,103,106,13\n",
            "2025-01-04,106,108,104,107,1400000\n",
            "2025-01-05,107,55,55,108,16\n",
            "\n",
            "\n",
            "Assistant: <think>\n",
            "1. Understand the provided stock data.\n",
            "2. Analyze historical trends and patterns.\n",
            "3. Apply relevant financial models and indicators.\n",
            "4. Predict the stock's performance for the next 3-5 days.\n",
            "5. Consider external factors that might influence the stock.\n",
            "6. Tell likelihood for your prediction, RSI value.\n",
            "</think>\n",
            "Sure! Please provide the daily stock data, and I'll analyze it to predict the stock's performance for the next 3-5 days.\n"
          ]
        }
      ]
    },
    {
      "cell_type": "code",
      "source": [],
      "metadata": {
        "id": "zvgofz1svFTq"
      },
      "execution_count": null,
      "outputs": []
    }
  ],
  "metadata": {
    "colab": {
      "name": "Welcome To Colab",
      "provenance": [],
      "gpuType": "T4",
      "include_colab_link": true
    },
    "kernelspec": {
      "display_name": "Python 3",
      "name": "python3"
    },
    "accelerator": "GPU"
  },
  "nbformat": 4,
  "nbformat_minor": 0
}